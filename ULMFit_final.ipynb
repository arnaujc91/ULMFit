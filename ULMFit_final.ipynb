{
  "nbformat": 4,
  "nbformat_minor": 0,
  "metadata": {
    "kernelspec": {
      "display_name": "Python 3",
      "language": "python",
      "name": "python3"
    },
    "language_info": {
      "codemirror_mode": {
        "name": "ipython",
        "version": 3
      },
      "file_extension": ".py",
      "mimetype": "text/x-python",
      "name": "python",
      "nbconvert_exporter": "python",
      "pygments_lexer": "ipython3",
      "version": "3.7.7"
    },
    "colab": {
      "name": "ULMFit_final.ipynb",
      "provenance": [],
      "collapsed_sections": [
        "vKL8XVE7wT5x",
        "sHEjMUrtej5t"
      ],
      "toc_visible": true,
      "include_colab_link": true
    },
    "accelerator": "GPU"
  },
  "cells": [
    {
      "cell_type": "markdown",
      "metadata": {
        "id": "view-in-github",
        "colab_type": "text"
      },
      "source": [
        "<a href=\"https://colab.research.google.com/github/arnaujc91/ULMFit/blob/master/ULMFit_final.ipynb\" target=\"_parent\"><img src=\"https://colab.research.google.com/assets/colab-badge.svg\" alt=\"Open In Colab\"/></a>"
      ]
    },
    {
      "cell_type": "code",
      "metadata": {
        "id": "PJX3xtfKnUHp"
      },
      "source": [
        "# fastai : 2.1.2\n",
        "# fastcore: 1.3.1\n",
        "# torch : 1.7.0"
      ],
      "execution_count": null,
      "outputs": []
    },
    {
      "cell_type": "code",
      "metadata": {
        "id": "giFFtcEeej35",
        "outputId": "fe9de48c-cf43-4d10-bc1b-f02b11b4e243",
        "colab": {
          "base_uri": "https://localhost:8080/"
        }
      },
      "source": [
        "# If you are running the notebook in COLAB run the following line of code\n",
        "!pip install fastai==2.1.2"
      ],
      "execution_count": 1,
      "outputs": [
        {
          "output_type": "stream",
          "text": [
            "Collecting fastai==2.1.2\n",
            "\u001b[?25l  Downloading https://files.pythonhosted.org/packages/fe/91/3dd20c7ad6a866bf713b81694e6bc231e6ed03707087a699df007221474e/fastai-2.1.2-py3-none-any.whl (188kB)\n",
            "\r\u001b[K     |█▊                              | 10kB 18.2MB/s eta 0:00:01\r\u001b[K     |███▌                            | 20kB 3.0MB/s eta 0:00:01\r\u001b[K     |█████▏                          | 30kB 4.0MB/s eta 0:00:01\r\u001b[K     |███████                         | 40kB 4.4MB/s eta 0:00:01\r\u001b[K     |████████▊                       | 51kB 3.6MB/s eta 0:00:01\r\u001b[K     |██████████▍                     | 61kB 3.9MB/s eta 0:00:01\r\u001b[K     |████████████▏                   | 71kB 4.4MB/s eta 0:00:01\r\u001b[K     |██████████████                  | 81kB 4.6MB/s eta 0:00:01\r\u001b[K     |███████████████▋                | 92kB 4.9MB/s eta 0:00:01\r\u001b[K     |█████████████████▍              | 102kB 4.8MB/s eta 0:00:01\r\u001b[K     |███████████████████▏            | 112kB 4.8MB/s eta 0:00:01\r\u001b[K     |████████████████████▉           | 122kB 4.8MB/s eta 0:00:01\r\u001b[K     |██████████████████████▋         | 133kB 4.8MB/s eta 0:00:01\r\u001b[K     |████████████████████████▍       | 143kB 4.8MB/s eta 0:00:01\r\u001b[K     |██████████████████████████      | 153kB 4.8MB/s eta 0:00:01\r\u001b[K     |███████████████████████████▉    | 163kB 4.8MB/s eta 0:00:01\r\u001b[K     |█████████████████████████████▋  | 174kB 4.8MB/s eta 0:00:01\r\u001b[K     |███████████████████████████████▎| 184kB 4.8MB/s eta 0:00:01\r\u001b[K     |████████████████████████████████| 194kB 4.8MB/s \n",
            "\u001b[?25hRequirement already satisfied: scikit-learn in /usr/local/lib/python3.6/dist-packages (from fastai==2.1.2) (0.22.2.post1)\n",
            "Requirement already satisfied: pandas in /usr/local/lib/python3.6/dist-packages (from fastai==2.1.2) (1.1.3)\n",
            "Requirement already satisfied: spacy in /usr/local/lib/python3.6/dist-packages (from fastai==2.1.2) (2.2.4)\n",
            "Requirement already satisfied: pip in /usr/local/lib/python3.6/dist-packages (from fastai==2.1.2) (19.3.1)\n",
            "Requirement already satisfied: matplotlib in /usr/local/lib/python3.6/dist-packages (from fastai==2.1.2) (3.2.2)\n",
            "Collecting fastcore>=1.3.0\n",
            "\u001b[?25l  Downloading https://files.pythonhosted.org/packages/c5/2c/309e30e69731b59e04583d7e5986139d0e166c8ef00a759b2a43853f2ad1/fastcore-1.3.1-py3-none-any.whl (45kB)\n",
            "\u001b[K     |████████████████████████████████| 51kB 6.3MB/s \n",
            "\u001b[?25hRequirement already satisfied: packaging in /usr/local/lib/python3.6/dist-packages (from fastai==2.1.2) (20.4)\n",
            "Requirement already satisfied: pyyaml in /usr/local/lib/python3.6/dist-packages (from fastai==2.1.2) (3.13)\n",
            "Requirement already satisfied: fastprogress>=0.2.4 in /usr/local/lib/python3.6/dist-packages (from fastai==2.1.2) (1.0.0)\n",
            "Requirement already satisfied: scipy in /usr/local/lib/python3.6/dist-packages (from fastai==2.1.2) (1.4.1)\n",
            "Collecting torchvision>=0.8\n",
            "\u001b[?25l  Downloading https://files.pythonhosted.org/packages/e7/43/aaa740c406b1832adc6ff9d5e71c23fd2af2ebd436c42d76d85809ec8be9/torchvision-0.8.1-cp36-cp36m-manylinux1_x86_64.whl (12.8MB)\n",
            "\u001b[K     |████████████████████████████████| 12.8MB 242kB/s \n",
            "\u001b[?25hRequirement already satisfied: pillow in /usr/local/lib/python3.6/dist-packages (from fastai==2.1.2) (7.0.0)\n",
            "Collecting torch>=1.7.0\n",
            "\u001b[?25l  Downloading https://files.pythonhosted.org/packages/80/2a/58f8078744e0408619c63148f7a2e8e48cf007e4146b74d4bb67c56d161b/torch-1.7.0-cp36-cp36m-manylinux1_x86_64.whl (776.7MB)\n",
            "\u001b[K     |████████████████████████████████| 776.7MB 23kB/s \n",
            "\u001b[?25hRequirement already satisfied: requests in /usr/local/lib/python3.6/dist-packages (from fastai==2.1.2) (2.23.0)\n",
            "Requirement already satisfied: numpy>=1.11.0 in /usr/local/lib/python3.6/dist-packages (from scikit-learn->fastai==2.1.2) (1.18.5)\n",
            "Requirement already satisfied: joblib>=0.11 in /usr/local/lib/python3.6/dist-packages (from scikit-learn->fastai==2.1.2) (0.17.0)\n",
            "Requirement already satisfied: pytz>=2017.2 in /usr/local/lib/python3.6/dist-packages (from pandas->fastai==2.1.2) (2018.9)\n",
            "Requirement already satisfied: python-dateutil>=2.7.3 in /usr/local/lib/python3.6/dist-packages (from pandas->fastai==2.1.2) (2.8.1)\n",
            "Requirement already satisfied: wasabi<1.1.0,>=0.4.0 in /usr/local/lib/python3.6/dist-packages (from spacy->fastai==2.1.2) (0.8.0)\n",
            "Requirement already satisfied: cymem<2.1.0,>=2.0.2 in /usr/local/lib/python3.6/dist-packages (from spacy->fastai==2.1.2) (2.0.3)\n",
            "Requirement already satisfied: plac<1.2.0,>=0.9.6 in /usr/local/lib/python3.6/dist-packages (from spacy->fastai==2.1.2) (1.1.3)\n",
            "Requirement already satisfied: catalogue<1.1.0,>=0.0.7 in /usr/local/lib/python3.6/dist-packages (from spacy->fastai==2.1.2) (1.0.0)\n",
            "Requirement already satisfied: tqdm<5.0.0,>=4.38.0 in /usr/local/lib/python3.6/dist-packages (from spacy->fastai==2.1.2) (4.41.1)\n",
            "Requirement already satisfied: preshed<3.1.0,>=3.0.2 in /usr/local/lib/python3.6/dist-packages (from spacy->fastai==2.1.2) (3.0.2)\n",
            "Requirement already satisfied: setuptools in /usr/local/lib/python3.6/dist-packages (from spacy->fastai==2.1.2) (50.3.2)\n",
            "Requirement already satisfied: murmurhash<1.1.0,>=0.28.0 in /usr/local/lib/python3.6/dist-packages (from spacy->fastai==2.1.2) (1.0.2)\n",
            "Requirement already satisfied: thinc==7.4.0 in /usr/local/lib/python3.6/dist-packages (from spacy->fastai==2.1.2) (7.4.0)\n",
            "Requirement already satisfied: blis<0.5.0,>=0.4.0 in /usr/local/lib/python3.6/dist-packages (from spacy->fastai==2.1.2) (0.4.1)\n",
            "Requirement already satisfied: srsly<1.1.0,>=1.0.2 in /usr/local/lib/python3.6/dist-packages (from spacy->fastai==2.1.2) (1.0.2)\n",
            "Requirement already satisfied: kiwisolver>=1.0.1 in /usr/local/lib/python3.6/dist-packages (from matplotlib->fastai==2.1.2) (1.2.0)\n",
            "Requirement already satisfied: pyparsing!=2.0.4,!=2.1.2,!=2.1.6,>=2.0.1 in /usr/local/lib/python3.6/dist-packages (from matplotlib->fastai==2.1.2) (2.4.7)\n",
            "Requirement already satisfied: cycler>=0.10 in /usr/local/lib/python3.6/dist-packages (from matplotlib->fastai==2.1.2) (0.10.0)\n",
            "Requirement already satisfied: six in /usr/local/lib/python3.6/dist-packages (from packaging->fastai==2.1.2) (1.15.0)\n",
            "Requirement already satisfied: typing-extensions in /usr/local/lib/python3.6/dist-packages (from torch>=1.7.0->fastai==2.1.2) (3.7.4.3)\n",
            "Requirement already satisfied: dataclasses in /usr/local/lib/python3.6/dist-packages (from torch>=1.7.0->fastai==2.1.2) (0.7)\n",
            "Requirement already satisfied: future in /usr/local/lib/python3.6/dist-packages (from torch>=1.7.0->fastai==2.1.2) (0.16.0)\n",
            "Requirement already satisfied: chardet<4,>=3.0.2 in /usr/local/lib/python3.6/dist-packages (from requests->fastai==2.1.2) (3.0.4)\n",
            "Requirement already satisfied: urllib3!=1.25.0,!=1.25.1,<1.26,>=1.21.1 in /usr/local/lib/python3.6/dist-packages (from requests->fastai==2.1.2) (1.24.3)\n",
            "Requirement already satisfied: certifi>=2017.4.17 in /usr/local/lib/python3.6/dist-packages (from requests->fastai==2.1.2) (2020.6.20)\n",
            "Requirement already satisfied: idna<3,>=2.5 in /usr/local/lib/python3.6/dist-packages (from requests->fastai==2.1.2) (2.10)\n",
            "Requirement already satisfied: importlib-metadata>=0.20; python_version < \"3.8\" in /usr/local/lib/python3.6/dist-packages (from catalogue<1.1.0,>=0.0.7->spacy->fastai==2.1.2) (2.0.0)\n",
            "Requirement already satisfied: zipp>=0.5 in /usr/local/lib/python3.6/dist-packages (from importlib-metadata>=0.20; python_version < \"3.8\"->catalogue<1.1.0,>=0.0.7->spacy->fastai==2.1.2) (3.3.1)\n",
            "Installing collected packages: fastcore, torch, torchvision, fastai\n",
            "  Found existing installation: torch 1.6.0+cu101\n",
            "    Uninstalling torch-1.6.0+cu101:\n",
            "      Successfully uninstalled torch-1.6.0+cu101\n",
            "  Found existing installation: torchvision 0.7.0+cu101\n",
            "    Uninstalling torchvision-0.7.0+cu101:\n",
            "      Successfully uninstalled torchvision-0.7.0+cu101\n",
            "  Found existing installation: fastai 1.0.61\n",
            "    Uninstalling fastai-1.0.61:\n",
            "      Successfully uninstalled fastai-1.0.61\n",
            "Successfully installed fastai-2.1.2 fastcore-1.3.1 torch-1.7.0 torchvision-0.8.1\n"
          ],
          "name": "stdout"
        }
      ]
    },
    {
      "cell_type": "code",
      "metadata": {
        "id": "YnH6Xmzfej3_",
        "outputId": "85e63505-0fb9-49d3-b799-26dfc39352ac",
        "colab": {
          "base_uri": "https://localhost:8080/",
          "height": 52
        }
      },
      "source": [
        "'''\n",
        "Useful links:\n",
        "Data preprocessing: https://www.kaggle.com/parthsharma5795/comprehensive-twitter-airline-sentiment-analysis\n",
        "Train ULMFit in IMDB: https://course.fast.ai/videos/?lesson=8\n",
        "'''"
      ],
      "execution_count": null,
      "outputs": [
        {
          "output_type": "execute_result",
          "data": {
            "application/vnd.google.colaboratory.intrinsic+json": {
              "type": "string"
            },
            "text/plain": [
              "'\\nUseful links:\\nData preprocessing: https://www.kaggle.com/parthsharma5795/comprehensive-twitter-airline-sentiment-analysis\\nTrain ULMFit in IMDB: https://course.fast.ai/videos/?lesson=8\\n'"
            ]
          },
          "metadata": {
            "tags": []
          },
          "execution_count": 10
        }
      ]
    },
    {
      "cell_type": "code",
      "metadata": {
        "id": "C-hIT1Rjej4H",
        "outputId": "3130302a-e386-4ced-aca1-4245bf258564",
        "colab": {
          "base_uri": "https://localhost:8080/"
        }
      },
      "source": [
        "from fastai.text.all import *\n",
        "import torch\n",
        "import re\n",
        "import os\n",
        "from os import listdir\n",
        "from pathlib import Path\n",
        "import pandas as pd\n",
        "import matplotlib.pyplot as plt\n",
        "from IPython.display import display,HTML"
      ],
      "execution_count": null,
      "outputs": [
        {
          "output_type": "stream",
          "text": [
            "/usr/local/lib/python3.6/dist-packages/torch/cuda/__init__.py:52: UserWarning: CUDA initialization: The NVIDIA driver on your system is too old (found version 10010). Please update your GPU driver by downloading and installing a new version from the URL: http://www.nvidia.com/Download/index.aspx Alternatively, go to: https://pytorch.org to install a PyTorch version that has been compiled with your version of the CUDA driver. (Triggered internally at  /pytorch/c10/cuda/CUDAFunctions.cpp:100.)\n",
            "  return torch._C._cuda_getDeviceCount() > 0\n"
          ],
          "name": "stderr"
        }
      ]
    },
    {
      "cell_type": "code",
      "metadata": {
        "id": "dGXky7atwedi"
      },
      "source": [
        "url = 'https://raw.githubusercontent.com/arnaujc91/ULMFit/master/data/Tweets.csv'\n",
        "tweets = pd.read_csv(url)"
      ],
      "execution_count": null,
      "outputs": []
    },
    {
      "cell_type": "markdown",
      "metadata": {
        "id": "vKL8XVE7wT5x"
      },
      "source": [
        "## Analyse the data"
      ]
    },
    {
      "cell_type": "code",
      "metadata": {
        "scrolled": false,
        "id": "z6KI1VBGej4L",
        "outputId": "22c0e164-2e2f-44fc-d7a8-20c764dca108",
        "colab": {
          "base_uri": "https://localhost:8080/",
          "height": 632
        }
      },
      "source": [
        "tweets.head()"
      ],
      "execution_count": null,
      "outputs": [
        {
          "output_type": "execute_result",
          "data": {
            "text/html": [
              "<div>\n",
              "<style scoped>\n",
              "    .dataframe tbody tr th:only-of-type {\n",
              "        vertical-align: middle;\n",
              "    }\n",
              "\n",
              "    .dataframe tbody tr th {\n",
              "        vertical-align: top;\n",
              "    }\n",
              "\n",
              "    .dataframe thead th {\n",
              "        text-align: right;\n",
              "    }\n",
              "</style>\n",
              "<table border=\"1\" class=\"dataframe\">\n",
              "  <thead>\n",
              "    <tr style=\"text-align: right;\">\n",
              "      <th></th>\n",
              "      <th>tweet_id</th>\n",
              "      <th>airline_sentiment</th>\n",
              "      <th>airline_sentiment_confidence</th>\n",
              "      <th>negativereason</th>\n",
              "      <th>negativereason_confidence</th>\n",
              "      <th>airline</th>\n",
              "      <th>airline_sentiment_gold</th>\n",
              "      <th>name</th>\n",
              "      <th>negativereason_gold</th>\n",
              "      <th>retweet_count</th>\n",
              "      <th>text</th>\n",
              "      <th>tweet_coord</th>\n",
              "      <th>tweet_created</th>\n",
              "      <th>tweet_location</th>\n",
              "      <th>user_timezone</th>\n",
              "    </tr>\n",
              "  </thead>\n",
              "  <tbody>\n",
              "    <tr>\n",
              "      <th>0</th>\n",
              "      <td>570306133677760513</td>\n",
              "      <td>neutral</td>\n",
              "      <td>1.0000</td>\n",
              "      <td>NaN</td>\n",
              "      <td>NaN</td>\n",
              "      <td>Virgin America</td>\n",
              "      <td>NaN</td>\n",
              "      <td>cairdin</td>\n",
              "      <td>NaN</td>\n",
              "      <td>0</td>\n",
              "      <td>@VirginAmerica What @dhepburn said.</td>\n",
              "      <td>NaN</td>\n",
              "      <td>2015-02-24 11:35:52 -0800</td>\n",
              "      <td>NaN</td>\n",
              "      <td>Eastern Time (US &amp; Canada)</td>\n",
              "    </tr>\n",
              "    <tr>\n",
              "      <th>1</th>\n",
              "      <td>570301130888122368</td>\n",
              "      <td>positive</td>\n",
              "      <td>0.3486</td>\n",
              "      <td>NaN</td>\n",
              "      <td>0.0000</td>\n",
              "      <td>Virgin America</td>\n",
              "      <td>NaN</td>\n",
              "      <td>jnardino</td>\n",
              "      <td>NaN</td>\n",
              "      <td>0</td>\n",
              "      <td>@VirginAmerica plus you've added commercials to the experience... tacky.</td>\n",
              "      <td>NaN</td>\n",
              "      <td>2015-02-24 11:15:59 -0800</td>\n",
              "      <td>NaN</td>\n",
              "      <td>Pacific Time (US &amp; Canada)</td>\n",
              "    </tr>\n",
              "    <tr>\n",
              "      <th>2</th>\n",
              "      <td>570301083672813571</td>\n",
              "      <td>neutral</td>\n",
              "      <td>0.6837</td>\n",
              "      <td>NaN</td>\n",
              "      <td>NaN</td>\n",
              "      <td>Virgin America</td>\n",
              "      <td>NaN</td>\n",
              "      <td>yvonnalynn</td>\n",
              "      <td>NaN</td>\n",
              "      <td>0</td>\n",
              "      <td>@VirginAmerica I didn't today... Must mean I need to take another trip!</td>\n",
              "      <td>NaN</td>\n",
              "      <td>2015-02-24 11:15:48 -0800</td>\n",
              "      <td>Lets Play</td>\n",
              "      <td>Central Time (US &amp; Canada)</td>\n",
              "    </tr>\n",
              "    <tr>\n",
              "      <th>3</th>\n",
              "      <td>570301031407624196</td>\n",
              "      <td>negative</td>\n",
              "      <td>1.0000</td>\n",
              "      <td>Bad Flight</td>\n",
              "      <td>0.7033</td>\n",
              "      <td>Virgin America</td>\n",
              "      <td>NaN</td>\n",
              "      <td>jnardino</td>\n",
              "      <td>NaN</td>\n",
              "      <td>0</td>\n",
              "      <td>@VirginAmerica it's really aggressive to blast obnoxious \"entertainment\" in your guests' faces &amp;amp; they have little recourse</td>\n",
              "      <td>NaN</td>\n",
              "      <td>2015-02-24 11:15:36 -0800</td>\n",
              "      <td>NaN</td>\n",
              "      <td>Pacific Time (US &amp; Canada)</td>\n",
              "    </tr>\n",
              "    <tr>\n",
              "      <th>4</th>\n",
              "      <td>570300817074462722</td>\n",
              "      <td>negative</td>\n",
              "      <td>1.0000</td>\n",
              "      <td>Can't Tell</td>\n",
              "      <td>1.0000</td>\n",
              "      <td>Virgin America</td>\n",
              "      <td>NaN</td>\n",
              "      <td>jnardino</td>\n",
              "      <td>NaN</td>\n",
              "      <td>0</td>\n",
              "      <td>@VirginAmerica and it's a really big bad thing about it</td>\n",
              "      <td>NaN</td>\n",
              "      <td>2015-02-24 11:14:45 -0800</td>\n",
              "      <td>NaN</td>\n",
              "      <td>Pacific Time (US &amp; Canada)</td>\n",
              "    </tr>\n",
              "  </tbody>\n",
              "</table>\n",
              "</div>"
            ],
            "text/plain": [
              "             tweet_id  ...               user_timezone\n",
              "0  570306133677760513  ...  Eastern Time (US & Canada)\n",
              "1  570301130888122368  ...  Pacific Time (US & Canada)\n",
              "2  570301083672813571  ...  Central Time (US & Canada)\n",
              "3  570301031407624196  ...  Pacific Time (US & Canada)\n",
              "4  570300817074462722  ...  Pacific Time (US & Canada)\n",
              "\n",
              "[5 rows x 15 columns]"
            ]
          },
          "metadata": {
            "tags": []
          },
          "execution_count": 13
        }
      ]
    },
    {
      "cell_type": "code",
      "metadata": {
        "id": "PdAzzgp0ej4O",
        "outputId": "887b2100-f76b-4bd5-eb42-87838047ee18",
        "colab": {
          "base_uri": "https://localhost:8080/",
          "height": 753
        }
      },
      "source": [
        "display(HTML(tweets.to_html(columns=['text'], index=False,header=None, max_rows=20)))"
      ],
      "execution_count": null,
      "outputs": [
        {
          "output_type": "display_data",
          "data": {
            "text/html": [
              "<table border=\"1\" class=\"dataframe\">\n",
              "  <tbody>\n",
              "    <tr>\n",
              "      <td>@VirginAmerica What @dhepburn said.</td>\n",
              "    </tr>\n",
              "    <tr>\n",
              "      <td>@VirginAmerica plus you've added commercials to the experience... tacky.</td>\n",
              "    </tr>\n",
              "    <tr>\n",
              "      <td>@VirginAmerica I didn't today... Must mean I need to take another trip!</td>\n",
              "    </tr>\n",
              "    <tr>\n",
              "      <td>@VirginAmerica it's really aggressive to blast obnoxious \"entertainment\" in your guests' faces &amp;amp; they have little recourse</td>\n",
              "    </tr>\n",
              "    <tr>\n",
              "      <td>@VirginAmerica and it's a really big bad thing about it</td>\n",
              "    </tr>\n",
              "    <tr>\n",
              "      <td>@VirginAmerica seriously would pay $30 a flight for seats that didn't have this playing.\\nit's really the only bad thing about flying VA</td>\n",
              "    </tr>\n",
              "    <tr>\n",
              "      <td>@VirginAmerica yes, nearly every time I fly VX this “ear worm” won’t go away :)</td>\n",
              "    </tr>\n",
              "    <tr>\n",
              "      <td>@VirginAmerica Really missed a prime opportunity for Men Without Hats parody, there. https://t.co/mWpG7grEZP</td>\n",
              "    </tr>\n",
              "    <tr>\n",
              "      <td>@virginamerica Well, I didn't…but NOW I DO! :-D</td>\n",
              "    </tr>\n",
              "    <tr>\n",
              "      <td>@VirginAmerica it was amazing, and arrived an hour early. You're too good to me.</td>\n",
              "    </tr>\n",
              "    <tr>\n",
              "      <td>...</td>\n",
              "    </tr>\n",
              "    <tr>\n",
              "      <td>@AmericanAir Thanks! He is.</td>\n",
              "    </tr>\n",
              "    <tr>\n",
              "      <td>@AmericanAir thx for nothing on getting us out of the country and back to US. Broken plane? Come on. Get another one.</td>\n",
              "    </tr>\n",
              "    <tr>\n",
              "      <td>“@AmericanAir: @TilleyMonsta George, that doesn't look good. Please follow this link to start the refund process: http://t.co/4gr39s91Dl”😂</td>\n",
              "    </tr>\n",
              "    <tr>\n",
              "      <td>@AmericanAir my flight was Cancelled Flightled, leaving tomorrow morning. Auto rebooked for a Tuesday night flight but need to arrive Monday.</td>\n",
              "    </tr>\n",
              "    <tr>\n",
              "      <td>@AmericanAir right on cue with the delays👌</td>\n",
              "    </tr>\n",
              "    <tr>\n",
              "      <td>@AmericanAir thank you we got on a different flight to Chicago.</td>\n",
              "    </tr>\n",
              "    <tr>\n",
              "      <td>@AmericanAir leaving over 20 minutes Late Flight. No warnings or communication until we were 15 minutes Late Flight. That's called shitty customer svc</td>\n",
              "    </tr>\n",
              "    <tr>\n",
              "      <td>@AmericanAir Please bring American Airlines to #BlackBerry10</td>\n",
              "    </tr>\n",
              "    <tr>\n",
              "      <td>@AmericanAir you have my money, you change my flight, and don't answer your phones! Any other suggestions so I can make my commitment??</td>\n",
              "    </tr>\n",
              "    <tr>\n",
              "      <td>@AmericanAir we have 8 ppl so we need 2 know how many seats are on the next flight. Plz put us on standby for 4 people on the next flight?</td>\n",
              "    </tr>\n",
              "  </tbody>\n",
              "</table>"
            ],
            "text/plain": [
              "<IPython.core.display.HTML object>"
            ]
          },
          "metadata": {
            "tags": []
          }
        }
      ]
    },
    {
      "cell_type": "code",
      "metadata": {
        "id": "4omE8Yx_ej4S",
        "outputId": "7ee82aa1-cfb6-42e7-bd61-7f31ee02bdf5",
        "colab": {
          "base_uri": "https://localhost:8080/",
          "height": 282
        }
      },
      "source": [
        "tweets.airline_sentiment_confidence.hist(bins=40)"
      ],
      "execution_count": null,
      "outputs": [
        {
          "output_type": "execute_result",
          "data": {
            "text/plain": [
              "<matplotlib.axes._subplots.AxesSubplot at 0x7f0b54c28b70>"
            ]
          },
          "metadata": {
            "tags": []
          },
          "execution_count": 15
        },
        {
          "output_type": "display_data",
          "data": {
            "image/png": "[encoded data removed]",
            "text/plain": [
              "<Figure size 432x288 with 1 Axes>"
            ]
          },
          "metadata": {
            "tags": [],
            "needs_background": "light"
          }
        }
      ]
    },
    {
      "cell_type": "code",
      "metadata": {
        "id": "0bBR9oMzej4V",
        "outputId": "0c3678b4-f471-4ea4-c494-dac874b06b16",
        "colab": {
          "base_uri": "https://localhost:8080/"
        }
      },
      "source": [
        "tweets.airline_sentiment.value_counts()/len(tweets)"
      ],
      "execution_count": null,
      "outputs": [
        {
          "output_type": "execute_result",
          "data": {
            "text/plain": [
              "negative    0.626913\n",
              "neutral     0.211680\n",
              "positive    0.161407\n",
              "Name: airline_sentiment, dtype: float64"
            ]
          },
          "metadata": {
            "tags": []
          },
          "execution_count": 16
        }
      ]
    },
    {
      "cell_type": "markdown",
      "metadata": {
        "id": "0NM3RTTgEBai"
      },
      "source": [
        "Later on we can also use this same model to predict the reason of the complaint:"
      ]
    },
    {
      "cell_type": "code",
      "metadata": {
        "id": "b-fsLEaDej4Z",
        "outputId": "4b6fd090-f23e-447e-a3bf-b861043f49a7",
        "colab": {
          "base_uri": "https://localhost:8080/"
        }
      },
      "source": [
        "tweets.negativereason.value_counts()"
      ],
      "execution_count": null,
      "outputs": [
        {
          "output_type": "execute_result",
          "data": {
            "text/plain": [
              "Customer Service Issue         2910\n",
              "Late Flight                    1665\n",
              "Can't Tell                     1190\n",
              "Cancelled Flight                847\n",
              "Lost Luggage                    724\n",
              "Bad Flight                      580\n",
              "Flight Booking Problems         529\n",
              "Flight Attendant Complaints     481\n",
              "longlines                       178\n",
              "Damaged Luggage                  74\n",
              "Name: negativereason, dtype: int64"
            ]
          },
          "metadata": {
            "tags": []
          },
          "execution_count": 17
        }
      ]
    },
    {
      "cell_type": "code",
      "metadata": {
        "id": "62zEs35yej4c",
        "outputId": "954789a7-a083-4d29-f754-ef80ced6af27",
        "colab": {
          "base_uri": "https://localhost:8080/"
        }
      },
      "source": [
        "train_on_gpu = torch.cuda.is_available()\n",
        "if(train_on_gpu):\n",
        "    print('Training on GPU!')\n",
        "else: \n",
        "    print('No GPU available, training on CPU; consider making n_epochs very small.')"
      ],
      "execution_count": null,
      "outputs": [
        {
          "output_type": "stream",
          "text": [
            "Training on GPU!\n"
          ],
          "name": "stdout"
        }
      ]
    },
    {
      "cell_type": "code",
      "metadata": {
        "id": "FgQ6INI2ej4i",
        "outputId": "e6dfe62a-4751-4ab4-e2f8-3737e8989594",
        "colab": {
          "base_uri": "https://localhost:8080/",
          "height": 52
        }
      },
      "source": [
        "'''If you downloaded the file and have it in a \"data\" directory,\n",
        "        uncomment and run the lines below'''\n",
        "# data_directory = Path(os.getcwd())/'data'\n",
        "# assert data_directory.is_dir(), 'Data directory not found'\n",
        "# data_files = listdir(data_directory)\n",
        "# print(data_files)\n",
        "\n",
        "# csv_datafile = data_directory/'Tweets.csv'\n",
        "# print('Data file:', csv_datafile)\n",
        "# tweets = pd.read_csv(csv_datafile)\n",
        "# tweets"
      ],
      "execution_count": null,
      "outputs": [
        {
          "output_type": "execute_result",
          "data": {
            "application/vnd.google.colaboratory.intrinsic+json": {
              "type": "string"
            },
            "text/plain": [
              "'If you downloaded the file and have it in a \"data\" directory,\\n        uncomment and run the lines below'"
            ]
          },
          "metadata": {
            "tags": []
          },
          "execution_count": 19
        }
      ]
    },
    {
      "cell_type": "markdown",
      "metadata": {
        "id": "hYwGAUesej4n"
      },
      "source": [
        "Every tweet starts with a [Twitter handle](https://sproutsocial.com/glossary/twitter-handle/) which refers to the Airline, to which the twitter message is adressed to. E.g:"
      ]
    },
    {
      "cell_type": "code",
      "metadata": {
        "id": "H5VNyeqJej4n",
        "outputId": "cce54828-7330-4f73-88f3-6dbbcaf8dff2",
        "colab": {
          "base_uri": "https://localhost:8080/"
        }
      },
      "source": [
        "list(tweets.text[:5]), list(tweets.airline[:5])"
      ],
      "execution_count": null,
      "outputs": [
        {
          "output_type": "execute_result",
          "data": {
            "text/plain": [
              "(['@VirginAmerica What @dhepburn said.',\n",
              "  \"@VirginAmerica plus you've added commercials to the experience... tacky.\",\n",
              "  \"@VirginAmerica I didn't today... Must mean I need to take another trip!\",\n",
              "  '@VirginAmerica it\\'s really aggressive to blast obnoxious \"entertainment\" in your guests\\' faces &amp; they have little recourse',\n",
              "  \"@VirginAmerica and it's a really big bad thing about it\"],\n",
              " ['Virgin America',\n",
              "  'Virgin America',\n",
              "  'Virgin America',\n",
              "  'Virgin America',\n",
              "  'Virgin America'])"
            ]
          },
          "metadata": {
            "tags": []
          },
          "execution_count": 20
        }
      ]
    },
    {
      "cell_type": "markdown",
      "metadata": {
        "id": "TcMyNhAKej4q"
      },
      "source": [
        "We want to remove this information. In order to do so we add a new rule to the [default rules](https://github.com/fastai/fastai/blob/a8ed5a64f93df9be02eef907ddbc355f3ad130d1/fastai/text/core.py#L96) for preprocessing text:"
      ]
    },
    {
      "cell_type": "code",
      "metadata": {
        "id": "6XC69JTJej4r"
      },
      "source": [
        "def rm_first_handle(t):\n",
        "    return re.sub(r'^@\\w* ', '', t)\n",
        "\n",
        "rules = defaults.text_proc_rules\n",
        "rules.insert(0, rm_first_handle)"
      ],
      "execution_count": null,
      "outputs": []
    },
    {
      "cell_type": "markdown",
      "metadata": {
        "id": "Hi9tGTup8lHZ"
      },
      "source": [
        "**IMPORTANT**: If you run the previous line of code the rules will be modified for the whole Notebook. So later on this will also affect the DataLoaders!"
      ]
    },
    {
      "cell_type": "markdown",
      "metadata": {
        "id": "4IAVY33Gej4t"
      },
      "source": [
        "Now let's tokenize the tweets:"
      ]
    },
    {
      "cell_type": "code",
      "metadata": {
        "scrolled": true,
        "id": "NpRuGSaYej4u",
        "outputId": "5be30cd5-6ee3-4479-aa7f-43444f05fd3e",
        "colab": {
          "base_uri": "https://localhost:8080/",
          "height": 51
        }
      },
      "source": [
        "tokenized_df, vocab_count = tokenize_df(tweets,  text_cols='text', tok=SpacyTokenizer())\n",
        "vocab = list(vocab_count.keys())\n",
        "print(len(vocab))\n",
        "print(vocab[:5])"
      ],
      "execution_count": null,
      "outputs": [
        {
          "output_type": "display_data",
          "data": {
            "text/html": [
              ""
            ],
            "text/plain": [
              "<IPython.core.display.HTML object>"
            ]
          },
          "metadata": {
            "tags": []
          }
        },
        {
          "output_type": "stream",
          "text": [
            "15740\n",
            "['xxbos', 'xxmaj', 'what', '@dhepburn', 'said']\n"
          ],
          "name": "stdout"
        }
      ]
    },
    {
      "cell_type": "code",
      "metadata": {
        "id": "NrOQVMTh7Vrx",
        "outputId": "24fce6da-ff83-4365-a1a4-b0fd249477d5",
        "colab": {
          "base_uri": "https://localhost:8080/"
        }
      },
      "source": [
        "tokenized_df.text[:5]"
      ],
      "execution_count": null,
      "outputs": [
        {
          "output_type": "execute_result",
          "data": {
            "text/plain": [
              "0                                                                                                          [xxbos, xxmaj, what, @dhepburn, said, .]\n",
              "1                                                                     [xxbos, plus, you, 've, added, commercials, to, the, experience, …, tacky, .]\n",
              "2                                                            [xxbos, i, did, n't, today, …, xxmaj, must, mean, i, need, to, take, another, trip, !]\n",
              "3    [xxbos, it, 's, really, aggressive, to, blast, obnoxious, \", entertainment, \", in, your, guests, ', faces, &, &, they, have, little, recourse]\n",
              "4                                                                                       [xxbos, and, it, 's, a, really, big, bad, thing, about, it]\n",
              "Name: text, dtype: object"
            ]
          },
          "metadata": {
            "tags": []
          },
          "execution_count": 23
        }
      ]
    },
    {
      "cell_type": "markdown",
      "metadata": {
        "id": "cDvouEWUej4w"
      },
      "source": [
        "*tokenize_df* returns the tokenized dataframe and also the counting of the tokenized words in the dataset. For example if we want to get all the words that appear at least 3 times, we can write the following code:"
      ]
    },
    {
      "cell_type": "code",
      "metadata": {
        "scrolled": true,
        "id": "2TGHLDckej4x",
        "outputId": "3ae5e50d-d4fd-4e37-b265-79a3f578d58b",
        "colab": {
          "base_uri": "https://localhost:8080/"
        }
      },
      "source": [
        "len([key for key in vocab_count if vocab_count[key]>2])"
      ],
      "execution_count": null,
      "outputs": [
        {
          "output_type": "execute_result",
          "data": {
            "text/plain": [
              "4654"
            ]
          },
          "metadata": {
            "tags": []
          },
          "execution_count": 24
        }
      ]
    },
    {
      "cell_type": "markdown",
      "metadata": {
        "id": "-VV8UoEZej4z"
      },
      "source": [
        "So 4683 words appear **at least** 3 times in the entire dataset."
      ]
    },
    {
      "cell_type": "markdown",
      "metadata": {
        "id": "r2BRmizOej40"
      },
      "source": [
        "We can now compare the tokenized VS the original tweets:\n",
        "\n"
      ]
    },
    {
      "cell_type": "code",
      "metadata": {
        "scrolled": false,
        "id": "CA-2LCb6ej40",
        "outputId": "1625da39-6574-4de5-e835-45bf33ecf993",
        "colab": {
          "base_uri": "https://localhost:8080/"
        }
      },
      "source": [
        "i = 0\n",
        "for a,b in zip(list(tokenized_df.text), list(tweets.text)):\n",
        "    print('before: ', b)\n",
        "    print('after: ', ' '.join(a))\n",
        "    print('\\n')\n",
        "    if i == 5:\n",
        "        break\n",
        "    i+=1"
      ],
      "execution_count": null,
      "outputs": [
        {
          "output_type": "stream",
          "text": [
            "before:  @VirginAmerica What @dhepburn said.\n",
            "after:  xxbos xxmaj what @dhepburn said .\n",
            "\n",
            "\n",
            "before:  @VirginAmerica plus you've added commercials to the experience... tacky.\n",
            "after:  xxbos plus you 've added commercials to the experience … tacky .\n",
            "\n",
            "\n",
            "before:  @VirginAmerica I didn't today... Must mean I need to take another trip!\n",
            "after:  xxbos i did n't today … xxmaj must mean i need to take another trip !\n",
            "\n",
            "\n",
            "before:  @VirginAmerica it's really aggressive to blast obnoxious \"entertainment\" in your guests' faces &amp; they have little recourse\n",
            "after:  xxbos it 's really aggressive to blast obnoxious \" entertainment \" in your guests ' faces & & they have little recourse\n",
            "\n",
            "\n",
            "before:  @VirginAmerica and it's a really big bad thing about it\n",
            "after:  xxbos and it 's a really big bad thing about it\n",
            "\n",
            "\n",
            "before:  @VirginAmerica seriously would pay $30 a flight for seats that didn't have this playing.\n",
            "it's really the only bad thing about flying VA\n",
            "after:  xxbos seriously would pay $ 30 a flight for seats that did n't have this playing . \n",
            " it 's really the only bad thing about flying xxup va\n",
            "\n",
            "\n"
          ],
          "name": "stdout"
        }
      ]
    },
    {
      "cell_type": "markdown",
      "metadata": {
        "id": "Mfzk0mFUej43"
      },
      "source": [
        "## Create the DataLoaders"
      ]
    },
    {
      "cell_type": "code",
      "metadata": {
        "id": "gqABDa6bWpcR"
      },
      "source": [
        "# TODO: Random splitting is not a good idea, we have to see what are the distributions of labels of the tweets.\n",
        "# For example if we have 80% negative tweets in training and 20% positive and then the other way around in validation\n",
        "# This might not be optimal. In particular we should have a homogenous distribution of tweets in the training set\n",
        "# in order to not have a bias towards a particular classifciation. 80% neg => Bias towards neg tweet classification."
      ],
      "execution_count": 2,
      "outputs": []
    },
    {
      "cell_type": "code",
      "metadata": {
        "id": "C_YRkNKzOpaQ"
      },
      "source": [
        "def rm_first_handle(t):\n",
        "    return re.sub(r'^@\\w* ', '', t)\n",
        "\n",
        "rules = defaults.text_proc_rules\n",
        "rules.insert(0, rm_first_handle)"
      ],
      "execution_count": null,
      "outputs": []
    },
    {
      "cell_type": "markdown",
      "metadata": {
        "id": "OYmIMQefej43"
      },
      "source": [
        "We will now create a [TextDataLoader](https://docs.fast.ai/text.data#TextDataLoaders) which is a Wrapper around the [DataLoader](https://docs.fast.ai/data.core.html#DataLoaders) class. The DataLoader splits our dataset between training and validation. The TextDataLoader adds more functionality specific to NLP problems, like the vocabulary of the data.\n",
        "\n",
        "Now a few things:\n",
        "- Remember that the TextDataLoaders just consider a word as part of the vocab if it appears **more than 3 times** in the entire dataset by default if you use `TextDataLoaders.from_df`.\n",
        "- We also need `is_lm=True` because we will first train a **Language Model**."
      ]
    },
    {
      "cell_type": "code",
      "metadata": {
        "scrolled": false,
        "id": "xy_gntFeej46",
        "outputId": "e8337671-3373-4d77-accd-0fa9c51a0f9b",
        "colab": {
          "base_uri": "https://localhost:8080/",
          "height": 544
        }
      },
      "source": [
        "lm_dls = TextDataLoaders.from_df(tweets, text_col='text',  is_lm=True)\n",
        "lm_dls.show_batch(max_n=5)"
      ],
      "execution_count": null,
      "outputs": [
        {
          "output_type": "display_data",
          "data": {
            "text/html": [
              ""
            ],
            "text/plain": [
              "<IPython.core.display.HTML object>"
            ]
          },
          "metadata": {
            "tags": []
          }
        },
        {
          "output_type": "display_data",
          "data": {
            "text/html": [
              "<table border=\"1\" class=\"dataframe\">\n",
              "  <thead>\n",
              "    <tr style=\"text-align: right;\">\n",
              "      <th></th>\n",
              "      <th>text</th>\n",
              "      <th>text_</th>\n",
              "    </tr>\n",
              "  </thead>\n",
              "  <tbody>\n",
              "    <tr>\n",
              "      <th>0</th>\n",
              "      <td>xxbos thank you :-) xxbos you have the xxunk trained employees at these desks . i have n't even started to discuss the # lostluggage yet xxbos is this account even aware of the # destinationdragons contest ? xxmaj the one you re fucking up for me ? xxbos do you not try to get customers to their destinations ? xxmaj no help to get on another airline if you had no</td>\n",
              "      <td>thank you :-) xxbos you have the xxunk trained employees at these desks . i have n't even started to discuss the # lostluggage yet xxbos is this account even aware of the # destinationdragons contest ? xxmaj the one you re fucking up for me ? xxbos do you not try to get customers to their destinations ? xxmaj no help to get on another airline if you had no flights</td>\n",
              "    </tr>\n",
              "    <tr>\n",
              "      <th>1</th>\n",
              "      <td>flight crew did n't stay in boarding area # fail xxbos xxunk . xxmaj that 's the flight i was placed on after original flight to xxmaj charlotte was xxmaj cancelled xxmaj flightled . xxmaj now xxunk is on 1hr delay xxbos xxmaj after an hour+ wait , my issue is resolved . i did contact customer service to comment on the wait time . xxmaj thanks for contacting me . xxbos</td>\n",
              "      <td>crew did n't stay in boarding area # fail xxbos xxunk . xxmaj that 's the flight i was placed on after original flight to xxmaj charlotte was xxmaj cancelled xxmaj flightled . xxmaj now xxunk is on 1hr delay xxbos xxmaj after an hour+ wait , my issue is resolved . i did contact customer service to comment on the wait time . xxmaj thanks for contacting me . xxbos took</td>\n",
              "    </tr>\n",
              "    <tr>\n",
              "      <th>2</th>\n",
              "      <td>assume i was n't rebooked ? xxbos but it 's hard to stay upset at someone when they at least xxup try to show xxunk . xxbos done xxbos will never travel with you again . xxmaj this is xxunk . storms are inevitable but making us hold to just add a lap child # badservice xxbos can i change my flight if i already printed my boarding pass ? xxbos i</td>\n",
              "      <td>i was n't rebooked ? xxbos but it 's hard to stay upset at someone when they at least xxup try to show xxunk . xxbos done xxbos will never travel with you again . xxmaj this is xxunk . storms are inevitable but making us hold to just add a lap child # badservice xxbos can i change my flight if i already printed my boarding pass ? xxbos i would</td>\n",
              "    </tr>\n",
              "    <tr>\n",
              "      <th>3</th>\n",
              "      <td>xxmaj significant xxmaj xxunk in xxmaj short xxmaj interest ( jblu ) - xxup xxunk xxmaj news http : / / t.co / xxunk xxbos offering us absolutely nothing for our troubles either . xxmaj xxunk the @tsa xxbos yeah … that 's not what happened . xxmaj i 'm really pissed . xxmaj this is the kind of thing i expect from xxup us or xxmaj xxunk , not you .</td>\n",
              "      <td>significant xxmaj xxunk in xxmaj short xxmaj interest ( jblu ) - xxup xxunk xxmaj news http : / / t.co / xxunk xxbos offering us absolutely nothing for our troubles either . xxmaj xxunk the @tsa xxbos yeah … that 's not what happened . xxmaj i 'm really pissed . xxmaj this is the kind of thing i expect from xxup us or xxmaj xxunk , not you . xxbos</td>\n",
              "    </tr>\n",
              "    <tr>\n",
              "      <th>4</th>\n",
              "      <td>unable to help with everything else , why waste more time to hear ' call corp ' xxbos xxmaj do less please @jetblue xxbos xxmaj xxunk , xxmaj cuba - xxmaj to share my love of photography and leave pictures behind , as well as to deliver much - needed items . # flyingitforward xxbos so she has to take a xxmaj late xxmaj flightr flight booked by her corporate ( disney</td>\n",
              "      <td>to help with everything else , why waste more time to hear ' call corp ' xxbos xxmaj do less please @jetblue xxbos xxmaj xxunk , xxmaj cuba - xxmaj to share my love of photography and leave pictures behind , as well as to deliver much - needed items . # flyingitforward xxbos so she has to take a xxmaj late xxmaj flightr flight booked by her corporate ( disney )</td>\n",
              "    </tr>\n",
              "  </tbody>\n",
              "</table>"
            ],
            "text/plain": [
              "<IPython.core.display.HTML object>"
            ]
          },
          "metadata": {
            "tags": []
          }
        }
      ]
    },
    {
      "cell_type": "markdown",
      "metadata": {
        "id": "QwpZAYuDej49"
      },
      "source": [
        "Let's see a little bit the structure of this dataloader:"
      ]
    },
    {
      "cell_type": "code",
      "metadata": {
        "scrolled": false,
        "id": "LsorDk6mej49",
        "outputId": "ee50db72-906e-4a33-b26f-8c62d2f0bc64",
        "colab": {
          "base_uri": "https://localhost:8080/",
          "height": 187
        }
      },
      "source": [
        "lm_dls._docs"
      ],
      "execution_count": null,
      "outputs": [
        {
          "output_type": "execute_result",
          "data": {
            "text/plain": [
              "{'__getitem__': 'Retrieve `DataLoader` at `i` (`0` is training, `1` is validation)',\n",
              " 'cpu': 'Use the cpu',\n",
              " 'cuda': 'Use the gpu if available',\n",
              " 'from_dblock': 'Create a dataloaders from a given `dblock`',\n",
              " 'new_empty': 'Create a new empty version of `self` with the same transforms',\n",
              " 'to': 'Use `device`',\n",
              " 'train': 'Training `DataLoader`',\n",
              " 'train_ds': 'Training `Dataset`',\n",
              " 'valid': 'Validation `DataLoader`',\n",
              " 'valid_ds': 'Validation `Dataset`'}"
            ]
          },
          "metadata": {
            "tags": []
          },
          "execution_count": 17
        }
      ]
    },
    {
      "cell_type": "markdown",
      "metadata": {
        "id": "CqvqB28oej5B"
      },
      "source": [
        "The previous DataLoader was for training or fine tunning the language model. The following one will be the DataLoader used for classification."
      ]
    },
    {
      "cell_type": "code",
      "metadata": {
        "id": "145WVt_rogIo",
        "outputId": "dbdcd66e-ba28-4975-e0b1-6ced916288ea",
        "colab": {
          "base_uri": "https://localhost:8080/"
        }
      },
      "source": [
        "tc_dls.train.dataset[0]"
      ],
      "execution_count": null,
      "outputs": [
        {
          "output_type": "execute_result",
          "data": {
            "text/plain": [
              "(TensorText([   2, 2535,   26, 1495,  858,   24,   20,   10,  166,  139,   54,   93,\n",
              "           10,  178,   85,   83,   53,  113,  694,   47,   34,  193,   25,  659]),\n",
              " TensorCategory(0))"
            ]
          },
          "metadata": {
            "tags": []
          },
          "execution_count": 10
        }
      ]
    },
    {
      "cell_type": "code",
      "metadata": {
        "id": "PPZxW6B7fUL0",
        "outputId": "2b10f203-861e-445b-9389-766bcfac3afe",
        "colab": {
          "base_uri": "https://localhost:8080/"
        }
      },
      "source": [
        "tc_dls.one_batch()"
      ],
      "execution_count": null,
      "outputs": [
        {
          "output_type": "execute_result",
          "data": {
            "text/plain": [
              "(TensorText([[   2,    8,  396,  ...,   38,  282,   17],\n",
              "         [   2,  107, 3364,  ...,    1,    1,    1],\n",
              "         [   2,    8,  173,  ...,    1,    1,    1],\n",
              "         ...,\n",
              "         [   2,  229,   18,  ...,    1,    1,    1],\n",
              "         [   2,   33,   39,  ...,    1,    1,    1],\n",
              "         [   2,   11,   32,  ...,    1,    1,    1]]),\n",
              " TensorCategory([1, 0, 0, 0, 2, 0, 0, 0, 0, 0, 2, 1, 0, 0, 0, 0, 0, 0, 0, 0, 1, 0, 0, 1,\n",
              "         0, 2, 0, 0, 0, 2, 0, 0, 0, 0, 0, 0, 0, 0, 0, 1, 1, 1, 0, 0, 0, 0, 0, 2,\n",
              "         0, 0, 0, 0, 0, 0, 1, 0, 0, 1, 0, 1, 0, 1, 2, 0]))"
            ]
          },
          "metadata": {
            "tags": []
          },
          "execution_count": 7
        }
      ]
    },
    {
      "cell_type": "code",
      "metadata": {
        "id": "_XjEx7AXej5C",
        "outputId": "f1c0543f-bc95-48d7-ef2e-805f036bf742",
        "colab": {
          "base_uri": "https://localhost:8080/",
          "height": 433
        }
      },
      "source": [
        "tc_dls = TextDataLoaders.from_df(tweets, text_col='text', label_col='airline_sentiment')\n",
        "tc_dls.show_batch(max_n=8)"
      ],
      "execution_count": null,
      "outputs": [
        {
          "output_type": "display_data",
          "data": {
            "text/html": [
              ""
            ],
            "text/plain": [
              "<IPython.core.display.HTML object>"
            ]
          },
          "metadata": {
            "tags": []
          }
        },
        {
          "output_type": "display_data",
          "data": {
            "text/html": [
              "<table border=\"1\" class=\"dataframe\">\n",
              "  <thead>\n",
              "    <tr style=\"text-align: right;\">\n",
              "      <th></th>\n",
              "      <th>text</th>\n",
              "      <th>category</th>\n",
              "    </tr>\n",
              "  </thead>\n",
              "  <tbody>\n",
              "    <tr>\n",
              "      <th>0</th>\n",
              "      <td>xxbos xxmaj hi have a question re future xxmaj flight xxmaj booking xxmaj problems . xxup dub - jac 29 / 9 xxup jac - lax 8 / 10 xxup lax - dub 13 / 10 . xxmaj i 'm * xxunk xxmaj what is checked bag allowance for xxup jac - lax ?</td>\n",
              "      <td>neutral</td>\n",
              "    </tr>\n",
              "    <tr>\n",
              "      <th>1</th>\n",
              "      <td>xxbos xxmaj many xxmaj thanks for the xxmaj follow . \\n▁ # xxunk # xxunk # xxup usa # xxmaj xxunk \\n xxmaj looking for xxmaj any xxmaj help 😍 \\n 💗 🇬 🇧 💗 🇺 🇸 💗 \\n 🎀 xxunk 🎀 http : / / t.co / xxunk xxpad xxpad xxpad xxpad xxpad</td>\n",
              "      <td>neutral</td>\n",
              "    </tr>\n",
              "    <tr>\n",
              "      <th>2</th>\n",
              "      <td>xxbos xxmaj hi , xxmaj i m flying xxup sfo - lax - xxunk - xxunk . xxmaj my connecting time in xxup lax is xxunk m . xxmaj is it enough time ? xxmaj do i have to collect my bag and xxunk on xxup xxunk ? xxpad xxpad xxpad xxpad xxpad xxpad</td>\n",
              "      <td>neutral</td>\n",
              "    </tr>\n",
              "    <tr>\n",
              "      <th>3</th>\n",
              "      <td>xxbos i ❤ ️ xxmaj jetblue but i was on flt xxunk from fll to sfo . xxunk off was over 1 hr xxmaj late xxmaj flight , div to phx &amp; &amp; got in 2 hrs xxmaj late xxmaj flight . xxmaj what will be done ? xxpad xxpad xxpad xxpad xxpad xxpad</td>\n",
              "      <td>negative</td>\n",
              "    </tr>\n",
              "    <tr>\n",
              "      <th>4</th>\n",
              "      <td>xxbos - xxup seriously it 's 2015 ? ! ? ! xxup no wifi on a 5hr flight from xxup cle - sfo # xxunk . xxmaj you 're the xxup only airline w / out wifi … and pls no ' xxunk ' xxup bs . xxpad xxpad xxpad xxpad xxpad xxpad xxpad</td>\n",
              "      <td>negative</td>\n",
              "    </tr>\n",
              "    <tr>\n",
              "      <th>5</th>\n",
              "      <td>xxbos xxup you xxup are xxup amazing xxrep 3 ! xxup you xxup are xxup the xxup best xxrep 3 ! xxup follow xxup me xxup please xxup and i xxup follow xxup you xxup back ; ) xxrep 3 🙏 ✌ ️ 😉 ) xxpad xxpad xxpad xxpad xxpad xxpad xxpad xxpad xxpad</td>\n",
              "      <td>positive</td>\n",
              "    </tr>\n",
              "    <tr>\n",
              "      <th>6</th>\n",
              "      <td>xxbos xxmaj waiting for xxunk xxup ewr - ord , delayed 47 mins . xxmaj might miss xxunk xxup ord - xxunk at 6 pm xxup ct . xxmaj any room on xxunk xxup ord - xxunk in case i miss xxunk ? xxpad xxpad xxpad xxpad xxpad xxpad xxpad xxpad xxpad xxpad xxpad</td>\n",
              "      <td>negative</td>\n",
              "    </tr>\n",
              "    <tr>\n",
              "      <th>7</th>\n",
              "      <td>xxbos yes , i am as well . * * five * * xxup hours xxup on xxup hold , xxup folks . xxmaj can you xxup please tell me if this is typical ? ! xxmaj trying to be understanding here . xxpad xxpad xxpad xxpad xxpad xxpad xxpad xxpad xxpad xxpad xxpad</td>\n",
              "      <td>negative</td>\n",
              "    </tr>\n",
              "  </tbody>\n",
              "</table>"
            ],
            "text/plain": [
              "<IPython.core.display.HTML object>"
            ]
          },
          "metadata": {
            "tags": []
          }
        }
      ]
    },
    {
      "cell_type": "markdown",
      "metadata": {
        "id": "-bbkHiyPej5E"
      },
      "source": [
        "From the code of `TextDataLoaders.from_df` we can see that the vocab is created with words that appear **at least 3 times** in the entire dataset. Any words that appear with a lower frequency will be automatically tokenized as `xxunk`, which stands for *unknown*."
      ]
    },
    {
      "cell_type": "markdown",
      "metadata": {
        "id": "Nihen0qRej5E"
      },
      "source": [
        "So far the words in the vocab are words that appear at least 3 times in the entire dataset, if we want to change that, we can not do it directly from the high level API that fastai offers, but instead we need a couple of more lines of code. Anyway the following lines are just what `TextDataLoaders.from_df` does but changing the parameter **min_freq** to one."
      ]
    },
    {
      "cell_type": "code",
      "metadata": {
        "scrolled": true,
        "id": "pJOj79rvej5F",
        "outputId": "ef33bc44-9733-4e62-da1f-985b410f76db"
      },
      "source": [
        "'''\n",
        "If you wanna have a TextDataLoader with words that appear less than 3 times in the dataset:\n",
        "'''\n",
        "# we set min_freq to ONE to allow any words that appear at least once.\n",
        "min_freq=1\n",
        "\n",
        "dblock = DataBlock(blocks=[TextBlock.from_df(text_cols='text', is_lm=True, min_freq=min_freq) ],\n",
        "                           get_x=ColReader(\"text\"),\n",
        "                           splitter=splitter = RandomSplitter(valid_pct=0.2))\n",
        "\n",
        "tweets_f1 = TextDataLoaders.from_dblock(dblock, tweets)"
      ],
      "execution_count": null,
      "outputs": [
        {
          "output_type": "display_data",
          "data": {
            "text/html": [
              ""
            ],
            "text/plain": [
              "<IPython.core.display.HTML object>"
            ]
          },
          "metadata": {
            "tags": []
          }
        },
        {
          "output_type": "stream",
          "text": [
            "/Users/arnaujc/miniconda3/envs/fastai2/lib/python3.7/site-packages/numpy/core/_asarray.py:83: VisibleDeprecationWarning: Creating an ndarray from ragged nested sequences (which is a list-or-tuple of lists-or-tuples-or ndarrays with different lengths or shapes) is deprecated. If you meant to do this, you must specify 'dtype=object' when creating the ndarray\n",
            "  return array(a, dtype, copy=False, order=order)\n"
          ],
          "name": "stderr"
        }
      ]
    },
    {
      "cell_type": "markdown",
      "metadata": {
        "id": "p8iRqH26ej5H"
      },
      "source": [
        "Another issue is that eventhough `TextDataLoaders.from_df` call `tokenize_df`, the first will add some extra special tokens that are not provided by `tokenize_df`. Let's see what this means:"
      ]
    },
    {
      "cell_type": "code",
      "metadata": {
        "scrolled": true,
        "id": "LL2geuW8ej5I",
        "outputId": "0da4f745-d5f1-43ba-c8db-19ebe5e90d55"
      },
      "source": [
        "print('Length of vocabulary obtained from: ')\n",
        "print(f'\\n   - tokenize_df: {len(set(vocab))}')\n",
        "print(f'\\n   - TextDataLoaders.from_df (min_freq=3): {len(lm_dls.vocab)}')\n",
        "print(f'\\n   - TextDataLoaders.from_dblock (min_freq=1): {len(tweets_f1.vocab)}')\n"
      ],
      "execution_count": null,
      "outputs": [
        {
          "output_type": "stream",
          "text": [
            "Length of vocabulary obtained from: \n",
            "\n",
            "   - tokenize_df: 16033\n",
            "\n",
            "   - TextDataLoaders.from_df (min_freq=3): 4688\n",
            "\n",
            "   - TextDataLoaders.from_dblock (min_freq=1): 16040\n"
          ],
          "name": "stdout"
        }
      ]
    },
    {
      "cell_type": "markdown",
      "metadata": {
        "id": "HT46U_Jnej5L"
      },
      "source": [
        "A priori you would expect that the vocab from `tokenize_df`and `TextDataLoaders.from_dblock` to be the same size as both obtain the vocab from any word that appears in the dataset. Despite of this one has 7 more items than the other. Which are those items?"
      ]
    },
    {
      "cell_type": "code",
      "metadata": {
        "id": "25TDq-1Fej5M"
      },
      "source": [
        "def vocab_diff(vocab1, vocab2):\n",
        "    if len(vocab1)>len(vocab2):\n",
        "        b_vocab = set(vocab1)\n",
        "        s_vocab = set(vocab2)\n",
        "    else:\n",
        "        b_vocab = set(vocab2)\n",
        "        s_vocab = set(vocab1)\n",
        "        \n",
        "    return list(b_vocab-s_vocab.intersection(b_vocab))\n",
        "        "
      ],
      "execution_count": null,
      "outputs": []
    },
    {
      "cell_type": "markdown",
      "metadata": {
        "id": "DW5IZPQsej5S"
      },
      "source": [
        "The added special tokens from `TextDataLoaders.from_df` are:"
      ]
    },
    {
      "cell_type": "code",
      "metadata": {
        "id": "41D8bqyjej5T",
        "outputId": "1173a215-55be-429e-e922-a079a0803241"
      },
      "source": [
        "vocab_diff(tweets_f1.vocab, vocab)"
      ],
      "execution_count": null,
      "outputs": [
        {
          "output_type": "execute_result",
          "data": {
            "text/plain": [
              "['xxunk', 'xxpad', 'xxeos', 'xxfake', 'xxfld']"
            ]
          },
          "metadata": {
            "tags": []
          },
          "execution_count": 86
        }
      ]
    },
    {
      "cell_type": "markdown",
      "metadata": {
        "id": "i34un_Qeej5Z"
      },
      "source": [
        "Besides, for some reason the special token `xxfake` appears twice in the vocab from `tweets_f1`:"
      ]
    },
    {
      "cell_type": "code",
      "metadata": {
        "scrolled": true,
        "id": "OKGwlPDyej5Z",
        "outputId": "ee49016f-4ebe-4e7f-d7b8-02a22242137e"
      },
      "source": [
        "import collections\n",
        "print({item:count for item, count in collections.Counter(tweets_f1.vocab).items() if count > 1})"
      ],
      "execution_count": null,
      "outputs": [
        {
          "output_type": "stream",
          "text": [
            "{'xxfake': 3}\n"
          ],
          "name": "stdout"
        }
      ]
    },
    {
      "cell_type": "code",
      "metadata": {
        "id": "1Ayyad-7ej5b",
        "outputId": "c8346470-3c38-46d0-9078-14434e4a75b5"
      },
      "source": [
        "vocab_diff([key for key in vocab_to_index if vocab_to_index[key]>2], lm_dls.vocab)"
      ],
      "execution_count": null,
      "outputs": [
        {
          "output_type": "execute_result",
          "data": {
            "text/plain": [
              "['xxunk', 'xxpad', 'xxeos', 'xxfake', 'xxfld']"
            ]
          },
          "metadata": {
            "tags": []
          },
          "execution_count": 76
        }
      ]
    },
    {
      "cell_type": "markdown",
      "metadata": {
        "id": "sHEjMUrtej5t"
      },
      "source": [
        "## Some tools for debugging the data"
      ]
    },
    {
      "cell_type": "markdown",
      "metadata": {
        "id": "3DNxpDYYej5t"
      },
      "source": [
        "A useful tool for debugging can be to find some word in the original texts, for example:"
      ]
    },
    {
      "cell_type": "code",
      "metadata": {
        "scrolled": false,
        "id": "8tTMaN9Iej5u",
        "outputId": "790af3e1-5a73-4623-f028-3e4156ce2108",
        "colab": {
          "base_uri": "https://localhost:8080/"
        }
      },
      "source": [
        "tweets.text[tweets.text.str.contains('think the US site allows that ', regex=False)]"
      ],
      "execution_count": null,
      "outputs": [
        {
          "output_type": "execute_result",
          "data": {
            "text/plain": [
              "11108    @usairways I don't think the US site allows that (unlike http://t.co/etfjqIwUvt). Can I use a US credit if I held on http://t.co/etfjqIwUvt?\n",
              "Name: text, dtype: object"
            ]
          },
          "metadata": {
            "tags": []
          },
          "execution_count": 20
        }
      ]
    },
    {
      "cell_type": "markdown",
      "metadata": {
        "id": "XqV9UZ3Cej5w"
      },
      "source": [
        "The word \"*explaining*\" appears twice in the dataset, once in row 2279 and once in row 14225"
      ]
    },
    {
      "cell_type": "markdown",
      "metadata": {
        "id": "NuvQgeX0ej5w"
      },
      "source": [
        "Another useful tool is to decode the numericalized datasets:"
      ]
    },
    {
      "cell_type": "code",
      "metadata": {
        "id": "PcRN4cIeej5x"
      },
      "source": [
        "decoded = lm_dls.train_ds.decode(lm_dls.train_ds)"
      ],
      "execution_count": null,
      "outputs": []
    },
    {
      "cell_type": "code",
      "metadata": {
        "scrolled": true,
        "id": "-uGqwvwkej51",
        "outputId": "dae7ac20-d758-4b6f-a834-89e6537635d0"
      },
      "source": [
        "lm_dls.train_ds[0], decoded[0]"
      ],
      "execution_count": null,
      "outputs": [
        {
          "output_type": "execute_result",
          "data": {
            "text/plain": [
              "((TensorText([   2,   25,  725,   30, 1336,   72,   24,    0, 1282,   16,   23,    0,\n",
              "            23,    0,   52,   31,   14,   14,   48,   14,    0]),),\n",
              " ('xxbos is helping me step up my xxunk game ! # xxunk # xxunk http : / / t.co / xxunk',))"
            ]
          },
          "metadata": {
            "tags": []
          },
          "execution_count": 101
        }
      ]
    },
    {
      "cell_type": "markdown",
      "metadata": {
        "id": "ojKij_Eiej54"
      },
      "source": [
        "The dictionary between tokenized words and integers is found inside the [Numericalize](https://docs.fast.ai/text.data#Numericalize) class:"
      ]
    },
    {
      "cell_type": "code",
      "metadata": {
        "scrolled": true,
        "id": "eVFDmWITej6M",
        "outputId": "17032370-d8f0-40c9-d432-89e67314bd3e"
      },
      "source": [
        "lm_dls.train_ds.numericalize.o2i"
      ],
      "execution_count": null,
      "outputs": [
        {
          "output_type": "execute_result",
          "data": {
            "text/plain": [
              "defaultdict(int,\n",
              "            {'xxunk': 0,\n",
              "             'xxpad': 1,\n",
              "             'xxbos': 2,\n",
              "             'xxeos': 3,\n",
              "             'xxfld': 4,\n",
              "             'xxrep': 5,\n",
              "             'xxwrep': 6,\n",
              "             'xxup': 7,\n",
              "             'xxmaj': 8,\n",
              "             '.': 9,\n",
              "             'to': 10,\n",
              "             'i': 11,\n",
              "             'the': 12,\n",
              "             'a': 13,\n",
              "             '/': 14,\n",
              "             'you': 15,\n",
              "             '!': 16,\n",
              "             '?': 17,\n",
              "             ',': 18,\n",
              "             'for': 19,\n",
              "             'flight': 20,\n",
              "             'on': 21,\n",
              "             'and': 22,\n",
              "             '#': 23,\n",
              "             'my': 24,\n",
              "             'is': 25,\n",
              "             'in': 26,\n",
              "             'it': 27,\n",
              "             'of': 28,\n",
              "             \"n't\": 29,\n",
              "             'me': 30,\n",
              "             ':': 31,\n",
              "             'have': 32,\n",
              "             'that': 33,\n",
              "             'your': 34,\n",
              "             'was': 35,\n",
              "             'not': 36,\n",
              "             'with': 37,\n",
              "             '-': 38,\n",
              "             \"'s\": 39,\n",
              "             'no': 40,\n",
              "             'at': 41,\n",
              "             'do': 42,\n",
              "             'this': 43,\n",
              "             'get': 44,\n",
              "             '&': 45,\n",
              "             'we': 46,\n",
              "             'but': 47,\n",
              "             't.co': 48,\n",
              "             'be': 49,\n",
              "             'from': 50,\n",
              "             'can': 51,\n",
              "             'http': 52,\n",
              "             'are': 53,\n",
              "             '…': 54,\n",
              "             'thanks': 55,\n",
              "             'cancelled': 56,\n",
              "             'now': 57,\n",
              "             'an': 58,\n",
              "             'just': 59,\n",
              "             'service': 60,\n",
              "             '3': 61,\n",
              "             '\"': 62,\n",
              "             'so': 63,\n",
              "             'help': 64,\n",
              "             'been': 65,\n",
              "             '2': 66,\n",
              "             'what': 67,\n",
              "             'time': 68,\n",
              "             'will': 69,\n",
              "             'they': 70,\n",
              "             'customer': 71,\n",
              "             'up': 72,\n",
              "             'out': 73,\n",
              "             'all': 74,\n",
              "             'our': 75,\n",
              "             \"'m\": 76,\n",
              "             'us': 77,\n",
              "             'hours': 78,\n",
              "             'when': 79,\n",
              "             'flights': 80,\n",
              "             'how': 81,\n",
              "             'hold': 82,\n",
              "             'there': 83,\n",
              "             'plane': 84,\n",
              "             'if': 85,\n",
              "             'would': 86,\n",
              "             'why': 87,\n",
              "             'thank': 88,\n",
              "             'ca': 89,\n",
              "             'still': 90,\n",
              "             'one': 91,\n",
              "             'please': 92,\n",
              "             'need': 93,\n",
              "             'delayed': 94,\n",
              "             'did': 95,\n",
              "             'back': 96,\n",
              "             'gate': 97,\n",
              "             'had': 98,\n",
              "             'call': 99,\n",
              "             'about': 100,\n",
              "             'has': 101,\n",
              "             'am': 102,\n",
              "             'flightled': 103,\n",
              "             'or': 104,\n",
              "             'bag': 105,\n",
              "             'as': 106,\n",
              "             '4': 107,\n",
              "             'got': 108,\n",
              "             'after': 109,\n",
              "             'hour': 110,\n",
              "             \"'ve\": 111,\n",
              "             ')': 112,\n",
              "             'any': 113,\n",
              "             'like': 114,\n",
              "             'phone': 115,\n",
              "             'late': 116,\n",
              "             'today': 117,\n",
              "             '$': 118,\n",
              "             'airline': 119,\n",
              "             'over': 120,\n",
              "             'more': 121,\n",
              "             '(': 122,\n",
              "             'by': 123,\n",
              "             'again': 124,\n",
              "             'fly': 125,\n",
              "             'guys': 126,\n",
              "             'should': 127,\n",
              "             'waiting': 128,\n",
              "             'does': 129,\n",
              "             'know': 130,\n",
              "             'could': 131,\n",
              "             'way': 132,\n",
              "             'trying': 133,\n",
              "             'airport': 134,\n",
              "             'only': 135,\n",
              "             'great': 136,\n",
              "             'then': 137,\n",
              "             'u': 138,\n",
              "             'day': 139,\n",
              "             'going': 140,\n",
              "             'wait': 141,\n",
              "             'because': 142,\n",
              "             'never': 143,\n",
              "             'flying': 144,\n",
              "             'change': 145,\n",
              "             'weather': 146,\n",
              "             'make': 147,\n",
              "             'go': 148,\n",
              "             'tomorrow': 149,\n",
              "             'last': 150,\n",
              "             \"'re\": 151,\n",
              "             'check': 152,\n",
              "             'delay': 153,\n",
              "             'really': 154,\n",
              "             'good': 155,\n",
              "             '1': 156,\n",
              "             'were': 157,\n",
              "             'even': 158,\n",
              "             'home': 159,\n",
              "             'off': 160,\n",
              "             'minutes': 161,\n",
              "             'here': 162,\n",
              "             'people': 163,\n",
              "             'seat': 164,\n",
              "             'bags': 165,\n",
              "             'another': 166,\n",
              "             '@jetblue': 167,\n",
              "             'new': 168,\n",
              "             'want': 169,\n",
              "             'told': 170,\n",
              "             'w': 171,\n",
              "             'first': 172,\n",
              "             'united': 173,\n",
              "             'take': 174,\n",
              "             'very': 175,\n",
              "             '..': 176,\n",
              "             'agent': 177,\n",
              "             'see': 178,\n",
              "             '@americanair': 179,\n",
              "             'luggage': 180,\n",
              "             'dm': 181,\n",
              "             '5': 182,\n",
              "             'ticket': 183,\n",
              "             'them': 184,\n",
              "             'she': 185,\n",
              "             'than': 186,\n",
              "             'ever': 187,\n",
              "             'getting': 188,\n",
              "             'love': 189,\n",
              "             'lost': 190,\n",
              "             'due': 191,\n",
              "             \"'ll\": 192,\n",
              "             'number': 193,\n",
              "             'too': 194,\n",
              "             'travel': 195,\n",
              "             'worst': 196,\n",
              "             'someone': 197,\n",
              "             'yes': 198,\n",
              "             'work': 199,\n",
              "             'next': 200,\n",
              "             'email': 201,\n",
              "             'let': 202,\n",
              "             'much': 203,\n",
              "             'crew': 204,\n",
              "             'baggage': 205,\n",
              "             'hrs': 206,\n",
              "             'who': 207,\n",
              "             'flighted': 208,\n",
              "             'days': 209,\n",
              "             'two': 210,\n",
              "             'through': 211,\n",
              "             'aa': 212,\n",
              "             'made': 213,\n",
              "             'trip': 214,\n",
              "             'before': 215,\n",
              "             'right': 216,\n",
              "             'their': 217,\n",
              "             'seats': 218,\n",
              "             'other': 219,\n",
              "             'response': 220,\n",
              "             'being': 221,\n",
              "             'experience': 222,\n",
              "             'problems': 223,\n",
              "             'online': 224,\n",
              "             'some': 225,\n",
              "             'jfk': 226,\n",
              "             'sitting': 227,\n",
              "             'best': 228,\n",
              "             '@united': 229,\n",
              "             'her': 230,\n",
              "             'staff': 231,\n",
              "             'sent': 232,\n",
              "             '“': 233,\n",
              "             '”': 234,\n",
              "             'where': 235,\n",
              "             'passengers': 236,\n",
              "             'bad': 237,\n",
              "             'wo': 238,\n",
              "             'min': 239,\n",
              "             'better': 240,\n",
              "             'customers': 241,\n",
              "             'boarding': 242,\n",
              "             'long': 243,\n",
              "             'already': 244,\n",
              "             'line': 245,\n",
              "             'book': 246,\n",
              "             'booked': 247,\n",
              "             'said': 248,\n",
              "             'sure': 249,\n",
              "             'left': 250,\n",
              "             '6': 251,\n",
              "             'since': 252,\n",
              "             'he': 253,\n",
              "             'times': 254,\n",
              "             'stuck': 255,\n",
              "             'give': 256,\n",
              "             'well': 257,\n",
              "             'morning': 258,\n",
              "             'reservation': 259,\n",
              "             'dfw': 260,\n",
              "             'into': 261,\n",
              "             '+': 262,\n",
              "             'miles': 263,\n",
              "             'tonight': 264,\n",
              "             'flightr': 265,\n",
              "             'miss': 266,\n",
              "             'same': 267,\n",
              "             'think': 268,\n",
              "             'website': 269,\n",
              "             'find': 270,\n",
              "             'agents': 271,\n",
              "             'yet': 272,\n",
              "             'nothing': 273,\n",
              "             'airlines': 274,\n",
              "             'issue': 275,\n",
              "             '10': 276,\n",
              "             'use': 277,\n",
              "             'care': 278,\n",
              "             'connection': 279,\n",
              "             'fleet': 280,\n",
              "             'fleek': 281,\n",
              "             'lax': 282,\n",
              "             'says': 283,\n",
              "             'booking': 284,\n",
              "             'delays': 285,\n",
              "             'night': 286,\n",
              "             'nt': 287,\n",
              "             'hotel': 288,\n",
              "             'refund': 289,\n",
              "             'jetblue': 290,\n",
              "             'system': 291,\n",
              "             'tried': 292,\n",
              "             'flt': 293,\n",
              "             'tell': 294,\n",
              "             'air': 295,\n",
              "             'info': 296,\n",
              "             ':)': 297,\n",
              "             'put': 298,\n",
              "             'rebooked': 299,\n",
              "             'keep': 300,\n",
              "             'hope': 301,\n",
              "             '@usairways': 302,\n",
              "             'anything': 303,\n",
              "             'pay': 304,\n",
              "             'called': 305,\n",
              "             'nice': 306,\n",
              "             'rude': 307,\n",
              "             'missed': 308,\n",
              "             'down': 309,\n",
              "             'ago': 310,\n",
              "             'also': 311,\n",
              "             'free': 312,\n",
              "             'follow': 313,\n",
              "             \"'\": 314,\n",
              "             'its': 315,\n",
              "             'done': 316,\n",
              "             '30': 317,\n",
              "             'tickets': 318,\n",
              "             'class': 319,\n",
              "             'finally': 320,\n",
              "             'awesome': 321,\n",
              "             \"'d\": 322,\n",
              "             'mins': 323,\n",
              "             'rebook': 324,\n",
              "             '7': 325,\n",
              "             'phl': 326,\n",
              "             'issues': 327,\n",
              "             'able': 328,\n",
              "             'week': 329,\n",
              "             'sfo': 330,\n",
              "             'credit': 331,\n",
              "             '8': 332,\n",
              "             'checked': 333,\n",
              "             'wifi': 334,\n",
              "             'ord': 335,\n",
              "             'every': 336,\n",
              "             'business': 337,\n",
              "             'working': 338,\n",
              "             '️': 339,\n",
              "             'until': 340,\n",
              "             'anyone': 341,\n",
              "             'appreciate': 342,\n",
              "             'having': 343,\n",
              "             'come': 344,\n",
              "             'say': 345,\n",
              "             'missing': 346,\n",
              "             'status': 347,\n",
              "             'looking': 348,\n",
              "             'board': 349,\n",
              "             'app': 350,\n",
              "             'team': 351,\n",
              "             'available': 352,\n",
              "             'via': 353,\n",
              "             'dca': 354,\n",
              "             'person': 355,\n",
              "             'update': 356,\n",
              "             'problem': 357,\n",
              "             'voucher': 358,\n",
              "             'always': 359,\n",
              "             'which': 360,\n",
              "             'yesterday': 361,\n",
              "             'ok': 362,\n",
              "             'without': 363,\n",
              "             'making': 364,\n",
              "             'thx': 365,\n",
              "             'leave': 366,\n",
              "             'answer': 367,\n",
              "             'many': 368,\n",
              "             '\\n': 369,\n",
              "             'upgrade': 370,\n",
              "             'sorry': 371,\n",
              "             'helpful': 372,\n",
              "             'terrible': 373,\n",
              "             'understand': 374,\n",
              "             '20': 375,\n",
              "             'look': 376,\n",
              "             'early': 377,\n",
              "             'fail': 378,\n",
              "             'disappointed': 379,\n",
              "             'extra': 380,\n",
              "             'instead': 381,\n",
              "             'pm': 382,\n",
              "             'amazing': 383,\n",
              "             '1st': 384,\n",
              "             'clt': 385,\n",
              "             'ewr': 386,\n",
              "             'name': 387,\n",
              "             'year': 388,\n",
              "             'speak': 389,\n",
              "             'open': 390,\n",
              "             'stop': 391,\n",
              "             'rep': 392,\n",
              "             'fix': 393,\n",
              "             'money': 394,\n",
              "             'send': 395,\n",
              "             'hi': 396,\n",
              "             'paid': 397,\n",
              "             'claim': 398,\n",
              "             'planes': 399,\n",
              "             'almost': 400,\n",
              "             'contact': 401,\n",
              "             'bos': 402,\n",
              "             'rt': 403,\n",
              "             'though': 404,\n",
              "             'earlier': 405,\n",
              "             'pilot': 406,\n",
              "             'pass': 407,\n",
              "             'm': 408,\n",
              "             'southwest': 409,\n",
              "             'departure': 410,\n",
              "             'site': 411,\n",
              "             'dallas': 412,\n",
              "             'happy': 413,\n",
              "             'took': 414,\n",
              "             'different': 415,\n",
              "             '@southwestair': 416,\n",
              "             'connecting': 417,\n",
              "             'boston': 418,\n",
              "             'while': 419,\n",
              "             'try': 420,\n",
              "             'talk': 421,\n",
              "             'supposed': 422,\n",
              "             'vegas': 423,\n",
              "             'hung': 424,\n",
              "             'attendant': 425,\n",
              "             'full': 426,\n",
              "             ':(': 427,\n",
              "             'unacceptable': 428,\n",
              "             'received': 429,\n",
              "             'something': 430,\n",
              "             'ridiculous': 431,\n",
              "             'least': 432,\n",
              "             'direct': 433,\n",
              "             'poor': 434,\n",
              "             'employees': 435,\n",
              "             'everyone': 436,\n",
              "             'airways': 437,\n",
              "             'wife': 438,\n",
              "             'job': 439,\n",
              "             'actually': 440,\n",
              "             'oh': 441,\n",
              "             'company': 442,\n",
              "             'stranded': 443,\n",
              "             'family': 444,\n",
              "             'ground': 445,\n",
              "             'chicago': 446,\n",
              "             ';': 447,\n",
              "             'horrible': 448,\n",
              "             'show': 449,\n",
              "             'old': 450,\n",
              "             '15': 451,\n",
              "             'tarmac': 452,\n",
              "             'card': 453,\n",
              "             'denver': 454,\n",
              "             'his': 455,\n",
              "             'destinationdragons': 456,\n",
              "             'add': 457,\n",
              "             'twitter': 458,\n",
              "             '24': 459,\n",
              "             'found': 460,\n",
              "             'seriously': 461,\n",
              "             'san': 462,\n",
              "             'calling': 463,\n",
              "             'snow': 464,\n",
              "             'those': 465,\n",
              "             'start': 466,\n",
              "             'most': 467,\n",
              "             'landed': 468,\n",
              "             'taking': 469,\n",
              "             'ur': 470,\n",
              "             'food': 471,\n",
              "             'leaving': 472,\n",
              "             'needs': 473,\n",
              "             'chance': 474,\n",
              "             'doing': 475,\n",
              "             'maybe': 476,\n",
              "             'american': 477,\n",
              "             'far': 478,\n",
              "             'weeks': 479,\n",
              "             'wrong': 480,\n",
              "             'tweet': 481,\n",
              "             '45': 482,\n",
              "             'away': 483,\n",
              "             'policy': 484,\n",
              "             'reason': 485,\n",
              "             'might': 486,\n",
              "             'point': 487,\n",
              "             '@': 488,\n",
              "             'vacation': 489,\n",
              "             'gave': 490,\n",
              "             'account': 491,\n",
              "             '0': 492,\n",
              "             'reply': 493,\n",
              "             'half': 494,\n",
              "             'fee': 495,\n",
              "             'both': 496,\n",
              "             'enough': 497,\n",
              "             'message': 498,\n",
              "             'big': 499,\n",
              "             'sit': 500,\n",
              "             '40': 501,\n",
              "             'coming': 502,\n",
              "             'o': 503,\n",
              "             'reservations': 504,\n",
              "             'return': 505,\n",
              "             'option': 506,\n",
              "             'hey': 507,\n",
              "             'once': 508,\n",
              "             'b': 509,\n",
              "             'desk': 510,\n",
              "             'confirmation': 511,\n",
              "             'past': 512,\n",
              "             'charge': 513,\n",
              "             'hr': 514,\n",
              "             'thing': 515,\n",
              "             'nyc': 516,\n",
              "             'may': 517,\n",
              "             'three': 518,\n",
              "             'went': 519,\n",
              "             'frustrated': 520,\n",
              "             'mechanical': 521,\n",
              "             'bc': 522,\n",
              "             'little': 523,\n",
              "             'together': 524,\n",
              "             'broken': 525,\n",
              "             'car': 526,\n",
              "             'these': 527,\n",
              "             '@delta': 528,\n",
              "             'using': 529,\n",
              "             'changed': 530,\n",
              "             'link': 531,\n",
              "             'offer': 532,\n",
              "             'question': 533,\n",
              "             'kids': 534,\n",
              "             'asked': 535,\n",
              "             'twice': 536,\n",
              "             're': 537,\n",
              "             'soon': 538,\n",
              "             '9': 539,\n",
              "             'destination': 540,\n",
              "             '>': 541,\n",
              "             'iad': 542,\n",
              "             'around': 543,\n",
              "             '50': 544,\n",
              "             'him': 545,\n",
              "             'newark': 546,\n",
              "             'less': 547,\n",
              "             'charlotte': 548,\n",
              "             'ua': 549,\n",
              "             'cool': 550,\n",
              "             'possible': 551,\n",
              "             'stay': 552,\n",
              "             'saying': 553,\n",
              "             'used': 554,\n",
              "             '25': 555,\n",
              "             'things': 556,\n",
              "             's': 557,\n",
              "             'looks': 558,\n",
              "             'pls': 559,\n",
              "             'makes': 560,\n",
              "             'few': 561,\n",
              "             'phx': 562,\n",
              "             'longer': 563,\n",
              "             'lot': 564,\n",
              "             'guess': 565,\n",
              "             'houston': 566,\n",
              "             'runway': 567,\n",
              "             'fll': 568,\n",
              "             'worse': 569,\n",
              "             'cost': 570,\n",
              "             '800': 571,\n",
              "             'traveling': 572,\n",
              "             'real': 573,\n",
              "             'friend': 574,\n",
              "             'landing': 575,\n",
              "             'given': 576,\n",
              "             'else': 577,\n",
              "             'awful': 578,\n",
              "             'terminal': 579,\n",
              "             'during': 580,\n",
              "             'scheduled': 581,\n",
              "             'plus': 582,\n",
              "             'hard': 583,\n",
              "             'points': 584,\n",
              "             'waited': 585,\n",
              "             'lga': 586,\n",
              "             'telling': 587,\n",
              "             'idea': 588,\n",
              "             '✈': 589,\n",
              "             'y': 590,\n",
              "             'life': 591,\n",
              "             'seems': 592,\n",
              "             'lack': 593,\n",
              "             'hear': 594,\n",
              "             'frustrating': 595,\n",
              "             '200': 596,\n",
              "             'mean': 597,\n",
              "             'https': 598,\n",
              "             'arrived': 599,\n",
              "             'such': 600,\n",
              "             'heard': 601,\n",
              "             'happened': 602,\n",
              "             'row': 603,\n",
              "             'sucks': 604,\n",
              "             'own': 605,\n",
              "             'thru': 606,\n",
              "             'attendants': 607,\n",
              "             'believe': 608,\n",
              "             'sat': 609,\n",
              "             'cust': 610,\n",
              "             'lol': 611,\n",
              "             'philly': 612,\n",
              "             'international': 613,\n",
              "             'feel': 614,\n",
              "             'everything': 615,\n",
              "             'member': 616,\n",
              "             'assistance': 617,\n",
              "             'hoping': 618,\n",
              "             'calls': 619,\n",
              "             'iah': 620,\n",
              "             'arrive': 621,\n",
              "             'd': 622,\n",
              "             'options': 623,\n",
              "             'end': 624,\n",
              "             '100': 625,\n",
              "             'monday': 626,\n",
              "             'carry': 627,\n",
              "             'request': 628,\n",
              "             'miami': 629,\n",
              "             'information': 630,\n",
              "             'den': 631,\n",
              "             'reflight': 632,\n",
              "             'maintenance': 633,\n",
              "             'swa': 634,\n",
              "             'dc': 635,\n",
              "             'minute': 636,\n",
              "             'quick': 637,\n",
              "             'loyal': 638,\n",
              "             'pick': 639,\n",
              "             'usairways': 640,\n",
              "             'second': 641,\n",
              "             'las': 642,\n",
              "             'expect': 643,\n",
              "             'standby': 644,\n",
              "             'glad': 645,\n",
              "             'jet': 646,\n",
              "             'changes': 647,\n",
              "             'counting': 648,\n",
              "             'process': 649,\n",
              "             'forward': 650,\n",
              "             'wanted': 651,\n",
              "             'ceo': 652,\n",
              "             'each': 653,\n",
              "             'bwi': 654,\n",
              "             'n’t': 655,\n",
              "             'error': 656,\n",
              "             'joke': 657,\n",
              "             'ask': 658,\n",
              "             'busy': 659,\n",
              "             'non': 660,\n",
              "             '--': 661,\n",
              "             'world': 662,\n",
              "             'checking': 663,\n",
              "             'thought': 664,\n",
              "             'room': 665,\n",
              "             '11': 666,\n",
              "             'needed': 667,\n",
              "             'spent': 668,\n",
              "             'usair': 669,\n",
              "             '2nd': 670,\n",
              "             'wish': 671,\n",
              "             'la': 672,\n",
              "             'c': 673,\n",
              "             'suck': 674,\n",
              "             'pilots': 675,\n",
              "             'boarded': 676,\n",
              "             'case': 677,\n",
              "             'reach': 678,\n",
              "             'apology': 679,\n",
              "             'complaint': 680,\n",
              "             'blue': 681,\n",
              "             'deal': 682,\n",
              "             'city': 683,\n",
              "             'wow': 684,\n",
              "             'human': 685,\n",
              "             'bring': 686,\n",
              "             'tv': 687,\n",
              "             'paying': 688,\n",
              "             'guy': 689,\n",
              "             'years': 690,\n",
              "             'empty': 691,\n",
              "             'computer': 692,\n",
              "             'group': 693,\n",
              "             'fees': 694,\n",
              "             'asking': 695,\n",
              "             'communication': 696,\n",
              "             'sw': 697,\n",
              "             'flew': 698,\n",
              "             'club': 699,\n",
              "             'yeah': 700,\n",
              "             'buy': 701,\n",
              "             'lose': 702,\n",
              "             'passenger': 703,\n",
              "             'entire': 704,\n",
              "             'address': 705,\n",
              "             'between': 706,\n",
              "             'form': 707,\n",
              "             'unitedairlines': 708,\n",
              "             'sunday': 709,\n",
              "             '@imaginedragons': 710,\n",
              "             'award': 711,\n",
              "             'bought': 712,\n",
              "             'provide': 713,\n",
              "             'respond': 714,\n",
              "             'place': 715,\n",
              "             'currently': 716,\n",
              "             \"y'\": 717,\n",
              "             'flighting': 718,\n",
              "             'run': 719,\n",
              "             'taken': 720,\n",
              "             'pretty': 721,\n",
              "             'happens': 722,\n",
              "             'under': 723,\n",
              "             'updates': 724,\n",
              "             'helping': 725,\n",
              "             '12': 726,\n",
              "             'whole': 727,\n",
              "             'months': 728,\n",
              "             'drive': 729,\n",
              "             'leg': 730,\n",
              "             'counter': 731,\n",
              "             'hopefully': 732,\n",
              "             'either': 733,\n",
              "             'asap': 734,\n",
              "             'month': 735,\n",
              "             '=': 736,\n",
              "             'supervisor': 737,\n",
              "             'rather': 738,\n",
              "             'delta': 739,\n",
              "             'seem': 740,\n",
              "             'happen': 741,\n",
              "             'list': 742,\n",
              "             'live': 743,\n",
              "             'beyond': 744,\n",
              "             'moved': 745,\n",
              "             'correct': 746,\n",
              "             'super': 747,\n",
              "             'r': 748,\n",
              "             'confirmed': 749,\n",
              "             'wtf': 750,\n",
              "             'price': 751,\n",
              "             'future': 752,\n",
              "             'sleep': 753,\n",
              "             'fault': 754,\n",
              "             'nashville': 755,\n",
              "             'flightlations': 756,\n",
              "             'appreciated': 757,\n",
              "             '*': 758,\n",
              "             'companion': 759,\n",
              "             'holding': 760,\n",
              "             'fine': 761,\n",
              "             'tsa': 762,\n",
              "             'high': 763,\n",
              "             'ready': 764,\n",
              "             'date': 765,\n",
              "             'atl': 766,\n",
              "             'automated': 767,\n",
              "             'mco': 768,\n",
              "             'support': 769,\n",
              "             'plans': 770,\n",
              "             'austin': 771,\n",
              "             'safety': 772,\n",
              "             'details': 773,\n",
              "             'upset': 774,\n",
              "             'okay': 775,\n",
              "             'figure': 776,\n",
              "             'media': 777,\n",
              "             'sad': 778,\n",
              "             'offered': 779,\n",
              "             'checkin': 780,\n",
              "             'apparently': 781,\n",
              "             'access': 782,\n",
              "             'easy': 783,\n",
              "             'cabin': 784,\n",
              "             'purchase': 785,\n",
              "             'orlando': 786,\n",
              "             'top': 787,\n",
              "             'situation': 788,\n",
              "             'tuesday': 789,\n",
              "             'hate': 790,\n",
              "             'atlanta': 791,\n",
              "             'customerservice': 792,\n",
              "             'flown': 793,\n",
              "             '2015': 794,\n",
              "             'completely': 795,\n",
              "             'reschedule': 796,\n",
              "             'luv': 797,\n",
              "             'handle': 798,\n",
              "             'na': 799,\n",
              "             'treat': 800,\n",
              "             'probably': 801,\n",
              "             'set': 802,\n",
              "             'part': 803,\n",
              "             'compensation': 804,\n",
              "             'employee': 805,\n",
              "             '1.5': 806,\n",
              "             'following': 807,\n",
              "             'record': 808,\n",
              "             'must': 809,\n",
              "             'cause': 810,\n",
              "             '👍': 811,\n",
              "             'friends': 812,\n",
              "             'running': 813,\n",
              "             ';)': 814,\n",
              "             'charged': 815,\n",
              "             'n': 816,\n",
              "             'e': 817,\n",
              "             'luck': 818,\n",
              "             'storm': 819,\n",
              "             'read': 820,\n",
              "             'zero': 821,\n",
              "             'clothes': 822,\n",
              "             'original': 823,\n",
              "             'delivered': 824,\n",
              "             'means': 825,\n",
              "             'gets': 826,\n",
              "             'sending': 827,\n",
              "             'switch': 828,\n",
              "             'disconnected': 829,\n",
              "             'kind': 830,\n",
              "             'cold': 831,\n",
              "             'middle': 832,\n",
              "             'feb': 833,\n",
              "             'fare': 834,\n",
              "             'connections': 835,\n",
              "             'platinum': 836,\n",
              "             'members': 837,\n",
              "             'fact': 838,\n",
              "             'ice': 839,\n",
              "             'seen': 840,\n",
              "             'allowed': 841,\n",
              "             'huge': 842,\n",
              "             'losing': 843,\n",
              "             'allow': 844,\n",
              "             'schedule': 845,\n",
              "             'share': 846,\n",
              "             'front': 847,\n",
              "             'giving': 848,\n",
              "             'priority': 849,\n",
              "             'gon': 850,\n",
              "             '😂': 851,\n",
              "             'fun': 852,\n",
              "             'gives': 853,\n",
              "             'helped': 854,\n",
              "             'several': 855,\n",
              "             'myself': 856,\n",
              "             'rdu': 857,\n",
              "             'changing': 858,\n",
              "             'mia': 859,\n",
              "             'answering': 860,\n",
              "             'four': 861,\n",
              "             'friendly': 862,\n",
              "             'pre': 863,\n",
              "             'came': 864,\n",
              "             'despite': 865,\n",
              "             'space': 866,\n",
              "             '1k': 867,\n",
              "             'shit': 868,\n",
              "             'explain': 869,\n",
              "             'aircraft': 870,\n",
              "             'weekend': 871,\n",
              "             'extremely': 872,\n",
              "             'crazy': 873,\n",
              "             'hello': 874,\n",
              "             'country': 875,\n",
              "             'rock': 876,\n",
              "             'layover': 877,\n",
              "             'lots': 878,\n",
              "             'takes': 879,\n",
              "             'route': 880,\n",
              "             'gold': 881,\n",
              "             'flightlation': 882,\n",
              "             'husband': 883,\n",
              "             'round': 884,\n",
              "             'spoke': 885,\n",
              "             'word': 886,\n",
              "             'ppl': 887,\n",
              "             'services': 888,\n",
              "             'winter': 889,\n",
              "             'lounge': 890,\n",
              "             'fixed': 891,\n",
              "             'unable': 892,\n",
              "             'multiple': 893,\n",
              "             'sense': 894,\n",
              "             'water': 895,\n",
              "             '@virginamerica': 896,\n",
              "             'birthday': 897,\n",
              "             'mobile': 898,\n",
              "             'friday': 899,\n",
              "             '😭': 900,\n",
              "             'rescheduled': 901,\n",
              "             'land': 902,\n",
              "             'inconvenience': 903,\n",
              "             'mileage': 904,\n",
              "             'tix': 905,\n",
              "             'complete': 906,\n",
              "             'reps': 907,\n",
              "             'knew': 908,\n",
              "             'goes': 909,\n",
              "             '.@united': 910,\n",
              "             'held': 911,\n",
              "             'works': 912,\n",
              "             'arrival': 913,\n",
              "             'answers': 914,\n",
              "             'unfortunately': 915,\n",
              "             'control': 916,\n",
              "             'bna': 917,\n",
              "             'wall': 918,\n",
              "             'totally': 919,\n",
              "             'afternoon': 920,\n",
              "             'report': 921,\n",
              "             'absolutely': 922,\n",
              "             'overnight': 923,\n",
              "             'mom': 924,\n",
              "             'mine': 925,\n",
              "             'kudos': 926,\n",
              "             'load': 927,\n",
              "             'confirm': 928,\n",
              "             'nope': 929,\n",
              "             'responding': 930,\n",
              "             'phones': 931,\n",
              "             'treated': 932,\n",
              "             'hang': 933,\n",
              "             'plan': 934,\n",
              "             'true': 935,\n",
              "             'relations': 936,\n",
              "             'haha': 937,\n",
              "             'virgin': 938,\n",
              "             '❤': 939,\n",
              "             'news': 940,\n",
              "             '😊': 941,\n",
              "             'code': 942,\n",
              "             'folks': 943,\n",
              "             'keeps': 944,\n",
              "             'spend': 945,\n",
              "             'area': 946,\n",
              "             'small': 947,\n",
              "             '3rd': 948,\n",
              "             'child': 949,\n",
              "             'learn': 950,\n",
              "             'overhead': 951,\n",
              "             '90': 952,\n",
              "             'wonderful': 953,\n",
              "             'baby': 954,\n",
              "             'drop': 955,\n",
              "             'worth': 956,\n",
              "             'literally': 957,\n",
              "             'dealing': 958,\n",
              "             'showing': 959,\n",
              "             'attitude': 960,\n",
              "             'social': 961,\n",
              "             'letter': 962,\n",
              "             'dividend': 963,\n",
              "             'page': 964,\n",
              "             'anyway': 965,\n",
              "             'closed': 966,\n",
              "             'ny': 967,\n",
              "             'bit': 968,\n",
              "             'march': 969,\n",
              "             'evening': 970,\n",
              "             'course': 971,\n",
              "             'excellent': 972,\n",
              "             'man': 973,\n",
              "             'saw': 974,\n",
              "             'short': 975,\n",
              "             'daughter': 976,\n",
              "             'vouchers': 977,\n",
              "             'connect': 978,\n",
              "             '🙏': 979,\n",
              "             'offering': 980,\n",
              "             'fl': 981,\n",
              "             'excited': 982,\n",
              "             'sign': 983,\n",
              "             'flyer': 984,\n",
              "             'ride': 985,\n",
              "             'watch': 986,\n",
              "             '%': 987,\n",
              "             'depart': 988,\n",
              "             'choice': 989,\n",
              "             'americanairlines': 990,\n",
              "             'passbook': 991,\n",
              "             ':-)': 992,\n",
              "             'yr': 993,\n",
              "             'submitted': 994,\n",
              "             'others': 995,\n",
              "             'anymore': 996,\n",
              "             'arriving': 997,\n",
              "             'matter': 998,\n",
              "             'conf': 999,\n",
              "             ...})"
            ]
          },
          "metadata": {
            "tags": []
          },
          "execution_count": 100
        }
      ]
    },
    {
      "cell_type": "code",
      "metadata": {
        "id": "pYeQLsq4ej6O"
      },
      "source": [
        "# [lm_dls.train_ds.numericalize.o2i[word] for word in decoded[0][0].split()]"
      ],
      "execution_count": null,
      "outputs": []
    },
    {
      "cell_type": "markdown",
      "metadata": {
        "id": "0r3biWlrej6Q"
      },
      "source": [
        "Also useful:"
      ]
    },
    {
      "cell_type": "code",
      "metadata": {
        "scrolled": false,
        "id": "vP0UbTqfej6Q"
      },
      "source": [
        "for text in decoded:\n",
        "        if 'xxeos' in text[0]:\n",
        "            print(text[0])"
      ],
      "execution_count": null,
      "outputs": []
    },
    {
      "cell_type": "markdown",
      "metadata": {
        "id": "m7fzk-mAej6S"
      },
      "source": [
        "## Training"
      ]
    },
    {
      "cell_type": "markdown",
      "metadata": {
        "id": "Vo7ZAUCqHGQ4"
      },
      "source": [
        "Make sure that the vocabs of the classifier and the Language Model are the same (as a crosscheck):"
      ]
    },
    {
      "cell_type": "code",
      "metadata": {
        "id": "xVu-uN7b2-GT"
      },
      "source": [
        "assert set(lm_dls.vocab) == set(tc_dls.vocab[0]), 'Vocabs are not equal!'"
      ],
      "execution_count": null,
      "outputs": []
    },
    {
      "cell_type": "markdown",
      "metadata": {
        "id": "vf_EdKqrej6T"
      },
      "source": [
        "Now let's define the [Callbacks](https://docs.fast.ai/callback.tracker) we are going to use:\n",
        "- [ActivationStats](https://docs.fast.ai/callback.hook#ActivationStats): Callback that record the mean and std of activations.\n",
        "- [ShowGraphCallback](https://docs.fast.ai/callback.progress#ShowGraphCallback): Update a graph of training and validation loss\n",
        "- [ParamScheduler](https://docs.fast.ai/callback.schedule#ParamScheduler): We are not going to use it in this guide, but it is definitely interesting to play with it. It allows to change the learning rate at different stages of the training and also to have a different learning rate scheduler for every parameter group. "
      ]
    },
    {
      "cell_type": "code",
      "metadata": {
        "id": "4Jwm-NT8ej6T"
      },
      "source": [
        "cbs = [\n",
        "       ShowGraphCallback,\n",
        "       ActivationStats(with_hist=True),\n",
        "       SaveModelCallback\n",
        "#        ParamScheduler(sched)\n",
        "      ]"
      ],
      "execution_count": null,
      "outputs": []
    },
    {
      "cell_type": "markdown",
      "metadata": {
        "id": "qYNqsuAlej6V"
      },
      "source": [
        "Now let's create the learner. The [Learner](https://docs.fast.ai/learner) class is the class that contains everything necessary for training. It contains:\n",
        "- DataLoaders\n",
        "- Model\n",
        "- Loss function\n",
        "- Optimizer \n",
        "- Splitter to split the model in several parameter groups\n",
        "- Callbacks for the training.\n",
        "- etc.\n",
        "\n",
        "In the following line we will pass as arguments to the function [language_model_learner](https://docs.fast.ai/text.learner#language_model_learner): \n",
        "- The DataLoader\n",
        "- The name of the model: [AWS_LSTM](https://docs.fast.ai/text.models.awdlstm)\n",
        "- The Callbacks\n",
        "- The path were we wanna save the trained model or part of the model, e.g. just the encoder"
      ]
    },
    {
      "cell_type": "code",
      "metadata": {
        "id": "KeE_PEQJej6W",
        "outputId": "7d3ee651-2c2d-43ca-f06a-37055281e968",
        "colab": {
          "base_uri": "https://localhost:8080/",
          "height": 17
        }
      },
      "source": [
        "learner = language_model_learner(lm_dls, AWD_LSTM, cbs=cbs, metrics=[accuracy])"
      ],
      "execution_count": null,
      "outputs": [
        {
          "output_type": "display_data",
          "data": {
            "text/html": [
              ""
            ],
            "text/plain": [
              "<IPython.core.display.HTML object>"
            ]
          },
          "metadata": {
            "tags": []
          }
        }
      ]
    },
    {
      "cell_type": "markdown",
      "metadata": {
        "id": "K7wOFq-4ej6i"
      },
      "source": [
        "We can see that there are already certain Callbacks which are set up by default:"
      ]
    },
    {
      "cell_type": "code",
      "metadata": {
        "id": "TpqDL7iTej6i",
        "outputId": "d11cc5c0-dd7f-4247-dbf9-12147a8ac117",
        "colab": {
          "base_uri": "https://localhost:8080/",
          "height": 136
        }
      },
      "source": [
        "list(learner.cbs)"
      ],
      "execution_count": null,
      "outputs": [
        {
          "output_type": "execute_result",
          "data": {
            "text/plain": [
              "[TrainEvalCallback,\n",
              " Recorder,\n",
              " ActivationStats,\n",
              " SaveModelCallback,\n",
              " ModelResetter,\n",
              " RNNRegularizer,\n",
              " ProgressCallback]"
            ]
          },
          "metadata": {
            "tags": []
          },
          "execution_count": 56
        }
      ]
    },
    {
      "cell_type": "markdown",
      "metadata": {
        "id": "6zxuJx340FQy"
      },
      "source": [
        "The following code shows the layers of the language model:"
      ]
    },
    {
      "cell_type": "code",
      "metadata": {
        "id": "8LYXMbgQmE6a",
        "outputId": "4bbf52d9-838b-4f5a-8a0f-aa156a1df4f3",
        "colab": {
          "base_uri": "https://localhost:8080/",
          "height": 170
        }
      },
      "source": [
        "modules = [m for m in flatten_model(learner.model) if has_params(m)]; modules"
      ],
      "execution_count": null,
      "outputs": [
        {
          "output_type": "execute_result",
          "data": {
            "text/plain": [
              "[Embedding(4688, 400, padding_idx=1),\n",
              " Embedding(4688, 400, padding_idx=1),\n",
              " LSTM(400, 1152, batch_first=True),\n",
              " ParameterModule(),\n",
              " LSTM(1152, 1152, batch_first=True),\n",
              " ParameterModule(),\n",
              " LSTM(1152, 400, batch_first=True),\n",
              " ParameterModule(),\n",
              " Linear(in_features=400, out_features=4688, bias=True)]"
            ]
          },
          "metadata": {
            "tags": []
          },
          "execution_count": 61
        }
      ]
    },
    {
      "cell_type": "markdown",
      "metadata": {
        "id": "cKhQlRugej6l"
      },
      "source": [
        "And we will do the same for the Learner of the Text Classifier:"
      ]
    },
    {
      "cell_type": "code",
      "metadata": {
        "id": "xHaICN6Sej6m",
        "outputId": "a465fbd1-c76d-46df-a700-f051ac84d3c9",
        "colab": {
          "base_uri": "https://localhost:8080/",
          "height": 17
        }
      },
      "source": [
        "learn = text_classifier_learner(tc_dls, AWD_LSTM, drop_mult=0.5, cbs=cbs, model_dir='classifier', metrics=[accuracy, F1Score(average='micro')]).to_fp16()"
      ],
      "execution_count": null,
      "outputs": [
        {
          "output_type": "display_data",
          "data": {
            "text/html": [
              ""
            ],
            "text/plain": [
              "<IPython.core.display.HTML object>"
            ]
          },
          "metadata": {
            "tags": []
          }
        }
      ]
    },
    {
      "cell_type": "code",
      "metadata": {
        "id": "-44vh7ki0LPN"
      },
      "source": [
        "learn"
      ],
      "execution_count": null,
      "outputs": []
    },
    {
      "cell_type": "code",
      "metadata": {
        "id": "ExlUuZ1DpZVd",
        "outputId": "ff272aa4-1ce0-4df2-8250-f58465ab1afc",
        "colab": {
          "base_uri": "https://localhost:8080/"
        }
      },
      "source": [
        "learn.loss_func"
      ],
      "execution_count": null,
      "outputs": [
        {
          "output_type": "execute_result",
          "data": {
            "text/plain": [
              "FlattenedLoss of CrossEntropyLoss()"
            ]
          },
          "metadata": {
            "tags": []
          },
          "execution_count": 18
        }
      ]
    },
    {
      "cell_type": "code",
      "metadata": {
        "id": "K_ASGSibFyhp",
        "outputId": "73146bad-afa1-4ecc-da12-d6d90d51ca6b",
        "colab": {
          "base_uri": "https://localhost:8080/",
          "height": 187
        }
      },
      "source": [
        "list(learn.cbs)"
      ],
      "execution_count": null,
      "outputs": [
        {
          "output_type": "execute_result",
          "data": {
            "text/plain": [
              "[TrainEvalCallback,\n",
              " Recorder,\n",
              " ProgressCallback,\n",
              " ShowGraphCallback,\n",
              " ActivationStats,\n",
              " SaveModelCallback,\n",
              " ModelResetter,\n",
              " RNNRegularizer,\n",
              " ModelToHalf,\n",
              " MixedPrecision]"
            ]
          },
          "metadata": {
            "tags": []
          },
          "execution_count": 104
        }
      ]
    },
    {
      "cell_type": "markdown",
      "metadata": {
        "id": "xbecWlLjzu-a"
      },
      "source": [
        "By default when we load a pretrained model with the `language_model_learner`, not all the layers are trainable, to see which layers are potentially trainable we use the following code:"
      ]
    },
    {
      "cell_type": "code",
      "metadata": {
        "id": "OYnVWHah8iZE"
      },
      "source": [
        "def requires_grad_bool(m:nn.Module)->Optional[bool]:\n",
        "    ps = list(m.parameters())\n",
        "    return ps[0].requires_grad\n",
        "\n",
        "def trainable_layers(learn):\n",
        "  modules = [m for m in flatten_model(learn.model) if has_params(m)]\n",
        "  for it in modules:\n",
        "    print(f\"{requires_grad_bool(it)}  -- \",it)"
      ],
      "execution_count": null,
      "outputs": []
    },
    {
      "cell_type": "code",
      "metadata": {
        "id": "hu5TRoii1_oy",
        "outputId": "212a04ad-ec23-4191-995d-53629c6d0bfd",
        "colab": {
          "base_uri": "https://localhost:8080/"
        }
      },
      "source": [
        "trainable_layers(learner)"
      ],
      "execution_count": null,
      "outputs": [
        {
          "output_type": "stream",
          "text": [
            "True  --  Embedding(4688, 400, padding_idx=1)\n",
            "True  --  Embedding(4688, 400, padding_idx=1)\n",
            "False  --  LSTM(400, 1152, batch_first=True)\n",
            "False  --  ParameterModule()\n",
            "False  --  LSTM(1152, 1152, batch_first=True)\n",
            "False  --  ParameterModule()\n",
            "False  --  LSTM(1152, 400, batch_first=True)\n",
            "False  --  ParameterModule()\n",
            "True  --  Linear(in_features=400, out_features=4688, bias=True)\n"
          ],
          "name": "stdout"
        }
      ]
    },
    {
      "cell_type": "markdown",
      "metadata": {
        "id": "tyG0R1JSjB2Q"
      },
      "source": [
        "Now we are going to try to find the best learning rate for our models, in order to do so I recommend to check the follwing question asked in stackoverflow --> [choosing-the-learning-rate-using-fastais-learn-lr-find](https://stackoverflow.com/questions/61172627/choosing-the-learning-rate-using-fastais-learn-lr-find)\n"
      ]
    },
    {
      "cell_type": "code",
      "metadata": {
        "id": "k4c4PgrNej6p",
        "outputId": "3d230291-81c6-459e-cd1f-a13fe366572a",
        "colab": {
          "base_uri": "https://localhost:8080/",
          "height": 300
        }
      },
      "source": [
        "learner.lr_find()"
      ],
      "execution_count": null,
      "outputs": [
        {
          "output_type": "display_data",
          "data": {
            "text/html": [
              ""
            ],
            "text/plain": [
              "<IPython.core.display.HTML object>"
            ]
          },
          "metadata": {
            "tags": []
          }
        },
        {
          "output_type": "execute_result",
          "data": {
            "text/plain": [
              "SuggestedLRs(lr_min=0.06309573650360108, lr_steep=0.05754399299621582)"
            ]
          },
          "metadata": {
            "tags": []
          },
          "execution_count": 23
        },
        {
          "output_type": "display_data",
          "data": {
            "image/png": "[encoded data removed]",
            "text/plain": [
              "<Figure size 432x288 with 1 Axes>"
            ]
          },
          "metadata": {
            "tags": [],
            "needs_background": "light"
          }
        }
      ]
    },
    {
      "cell_type": "code",
      "metadata": {
        "id": "Ioubr-M1ej62",
        "outputId": "93c98764-0553-49f7-cad3-afe12079b3e6",
        "colab": {
          "base_uri": "https://localhost:8080/",
          "height": 300
        }
      },
      "source": [
        "learn.lr_find()"
      ],
      "execution_count": null,
      "outputs": [
        {
          "output_type": "display_data",
          "data": {
            "text/html": [
              ""
            ],
            "text/plain": [
              "<IPython.core.display.HTML object>"
            ]
          },
          "metadata": {
            "tags": []
          }
        },
        {
          "output_type": "execute_result",
          "data": {
            "text/plain": [
              "SuggestedLRs(lr_min=0.03630780577659607, lr_steep=6.309573450380412e-07)"
            ]
          },
          "metadata": {
            "tags": []
          },
          "execution_count": 24
        },
        {
          "output_type": "display_data",
          "data": {
            "image/png": "[encoded data removed]",
            "text/plain": [
              "<Figure size 432x288 with 1 Axes>"
            ]
          },
          "metadata": {
            "tags": [],
            "needs_background": "light"
          }
        }
      ]
    },
    {
      "cell_type": "markdown",
      "metadata": {
        "id": "BmealYs1ej64"
      },
      "source": [
        "Now let's follow the receipt from Jeremy Howard in his [paper](https://arxiv.org/abs/1801.06146). It is important to understand whats the difference between `fit`and `fit_one_cycle` (for that take a look [here](https://iconof.com/1cycle-learning-rate-policy/)). Also as you will see we will progressively unfreeze the layers during training, this is seen to perform better than just `fit`."
      ]
    },
    {
      "cell_type": "code",
      "metadata": {
        "id": "YLZcZQQlej64"
      },
      "source": [
        "??learner.fit_one_cycle"
      ],
      "execution_count": null,
      "outputs": []
    },
    {
      "cell_type": "code",
      "metadata": {
        "id": "IM4JvcfEej67",
        "outputId": "719cfdb6-c410-479a-f18b-79aca80068ad",
        "colab": {
          "base_uri": "https://localhost:8080/",
          "height": 930
        }
      },
      "source": [
        "learner.fit_one_cycle(10, 2e-2)\n",
        "trainable_layers(learner)\n",
        "learner.save('language_model')\n",
        "learner.save_encoder('finetuned')"
      ],
      "execution_count": null,
      "outputs": [
        {
          "output_type": "display_data",
          "data": {
            "text/html": [
              "<table border=\"1\" class=\"dataframe\">\n",
              "  <thead>\n",
              "    <tr style=\"text-align: left;\">\n",
              "      <th>epoch</th>\n",
              "      <th>train_loss</th>\n",
              "      <th>valid_loss</th>\n",
              "      <th>accuracy</th>\n",
              "      <th>time</th>\n",
              "    </tr>\n",
              "  </thead>\n",
              "  <tbody>\n",
              "    <tr>\n",
              "      <td>0</td>\n",
              "      <td>5.539936</td>\n",
              "      <td>4.457477</td>\n",
              "      <td>0.215821</td>\n",
              "      <td>00:23</td>\n",
              "    </tr>\n",
              "    <tr>\n",
              "      <td>1</td>\n",
              "      <td>4.761879</td>\n",
              "      <td>4.046057</td>\n",
              "      <td>0.260796</td>\n",
              "      <td>00:24</td>\n",
              "    </tr>\n",
              "    <tr>\n",
              "      <td>2</td>\n",
              "      <td>4.397099</td>\n",
              "      <td>3.955548</td>\n",
              "      <td>0.270067</td>\n",
              "      <td>00:23</td>\n",
              "    </tr>\n",
              "    <tr>\n",
              "      <td>3</td>\n",
              "      <td>4.189374</td>\n",
              "      <td>3.926775</td>\n",
              "      <td>0.273716</td>\n",
              "      <td>00:23</td>\n",
              "    </tr>\n",
              "    <tr>\n",
              "      <td>4</td>\n",
              "      <td>4.059564</td>\n",
              "      <td>3.897834</td>\n",
              "      <td>0.277185</td>\n",
              "      <td>00:23</td>\n",
              "    </tr>\n",
              "    <tr>\n",
              "      <td>5</td>\n",
              "      <td>3.953596</td>\n",
              "      <td>3.884399</td>\n",
              "      <td>0.278342</td>\n",
              "      <td>00:23</td>\n",
              "    </tr>\n",
              "    <tr>\n",
              "      <td>6</td>\n",
              "      <td>3.879201</td>\n",
              "      <td>3.872232</td>\n",
              "      <td>0.282024</td>\n",
              "      <td>00:23</td>\n",
              "    </tr>\n",
              "    <tr>\n",
              "      <td>7</td>\n",
              "      <td>3.813741</td>\n",
              "      <td>3.865988</td>\n",
              "      <td>0.281825</td>\n",
              "      <td>00:23</td>\n",
              "    </tr>\n",
              "    <tr>\n",
              "      <td>8</td>\n",
              "      <td>3.761609</td>\n",
              "      <td>3.859925</td>\n",
              "      <td>0.283270</td>\n",
              "      <td>00:24</td>\n",
              "    </tr>\n",
              "    <tr>\n",
              "      <td>9</td>\n",
              "      <td>3.727535</td>\n",
              "      <td>3.859301</td>\n",
              "      <td>0.283260</td>\n",
              "      <td>00:24</td>\n",
              "    </tr>\n",
              "  </tbody>\n",
              "</table>"
            ],
            "text/plain": [
              "<IPython.core.display.HTML object>"
            ]
          },
          "metadata": {
            "tags": []
          }
        },
        {
          "output_type": "display_data",
          "data": {
            "image/png": "[encoded data removed]",
            "text/plain": [
              "<Figure size 432x288 with 1 Axes>"
            ]
          },
          "metadata": {
            "tags": []
          }
        },
        {
          "output_type": "stream",
          "text": [
            "Better model found at epoch 0 with valid_loss value: 4.45747709274292.\n",
            "Better model found at epoch 1 with valid_loss value: 4.046057224273682.\n",
            "Better model found at epoch 2 with valid_loss value: 3.9555482864379883.\n",
            "Better model found at epoch 3 with valid_loss value: 3.926774501800537.\n",
            "Better model found at epoch 4 with valid_loss value: 3.897833824157715.\n",
            "Better model found at epoch 5 with valid_loss value: 3.884399175643921.\n",
            "Better model found at epoch 6 with valid_loss value: 3.872231960296631.\n",
            "Better model found at epoch 7 with valid_loss value: 3.865988254547119.\n",
            "Better model found at epoch 8 with valid_loss value: 3.8599250316619873.\n",
            "Better model found at epoch 9 with valid_loss value: 3.8593008518218994.\n",
            "True  --  Embedding(4688, 400, padding_idx=1)\n",
            "True  --  Embedding(4688, 400, padding_idx=1)\n",
            "False  --  LSTM(400, 1152, batch_first=True)\n",
            "False  --  ParameterModule()\n",
            "False  --  LSTM(1152, 1152, batch_first=True)\n",
            "False  --  ParameterModule()\n",
            "False  --  LSTM(1152, 400, batch_first=True)\n",
            "False  --  ParameterModule()\n",
            "True  --  Linear(in_features=400, out_features=4688, bias=True)\n"
          ],
          "name": "stdout"
        }
      ]
    },
    {
      "cell_type": "code",
      "metadata": {
        "id": "DSwpJ0TAej7g",
        "outputId": "09cc6959-5227-4884-b8fc-75af355cd63a",
        "colab": {
          "base_uri": "https://localhost:8080/",
          "height": 975
        }
      },
      "source": [
        "learn = learn.load_encoder('finetuned')\n",
        "learn.fit_one_cycle(12, 2e-3)\n",
        "print('\\n')\n",
        "trainable_layers(learn)"
      ],
      "execution_count": null,
      "outputs": [
        {
          "output_type": "display_data",
          "data": {
            "text/html": [
              "<table border=\"1\" class=\"dataframe\">\n",
              "  <thead>\n",
              "    <tr style=\"text-align: left;\">\n",
              "      <th>epoch</th>\n",
              "      <th>train_loss</th>\n",
              "      <th>valid_loss</th>\n",
              "      <th>accuracy</th>\n",
              "      <th>recall_score</th>\n",
              "      <th>time</th>\n",
              "    </tr>\n",
              "  </thead>\n",
              "  <tbody>\n",
              "    <tr>\n",
              "      <td>0</td>\n",
              "      <td>0.995995</td>\n",
              "      <td>0.624403</td>\n",
              "      <td>0.765710</td>\n",
              "      <td>0.765710</td>\n",
              "      <td>00:21</td>\n",
              "    </tr>\n",
              "    <tr>\n",
              "      <td>1</td>\n",
              "      <td>0.864309</td>\n",
              "      <td>0.572109</td>\n",
              "      <td>0.781762</td>\n",
              "      <td>0.781762</td>\n",
              "      <td>00:21</td>\n",
              "    </tr>\n",
              "    <tr>\n",
              "      <td>2</td>\n",
              "      <td>0.751390</td>\n",
              "      <td>0.529996</td>\n",
              "      <td>0.791325</td>\n",
              "      <td>0.791325</td>\n",
              "      <td>00:21</td>\n",
              "    </tr>\n",
              "    <tr>\n",
              "      <td>3</td>\n",
              "      <td>0.734262</td>\n",
              "      <td>0.504116</td>\n",
              "      <td>0.799180</td>\n",
              "      <td>0.799180</td>\n",
              "      <td>00:21</td>\n",
              "    </tr>\n",
              "    <tr>\n",
              "      <td>4</td>\n",
              "      <td>0.709011</td>\n",
              "      <td>0.531006</td>\n",
              "      <td>0.788251</td>\n",
              "      <td>0.788251</td>\n",
              "      <td>00:21</td>\n",
              "    </tr>\n",
              "    <tr>\n",
              "      <td>5</td>\n",
              "      <td>0.687876</td>\n",
              "      <td>0.525286</td>\n",
              "      <td>0.796448</td>\n",
              "      <td>0.796448</td>\n",
              "      <td>00:21</td>\n",
              "    </tr>\n",
              "    <tr>\n",
              "      <td>6</td>\n",
              "      <td>0.692096</td>\n",
              "      <td>0.522182</td>\n",
              "      <td>0.798156</td>\n",
              "      <td>0.798156</td>\n",
              "      <td>00:21</td>\n",
              "    </tr>\n",
              "    <tr>\n",
              "      <td>7</td>\n",
              "      <td>0.700101</td>\n",
              "      <td>0.524677</td>\n",
              "      <td>0.799863</td>\n",
              "      <td>0.799863</td>\n",
              "      <td>00:21</td>\n",
              "    </tr>\n",
              "    <tr>\n",
              "      <td>8</td>\n",
              "      <td>0.661100</td>\n",
              "      <td>0.516883</td>\n",
              "      <td>0.803620</td>\n",
              "      <td>0.803620</td>\n",
              "      <td>00:21</td>\n",
              "    </tr>\n",
              "    <tr>\n",
              "      <td>9</td>\n",
              "      <td>0.662443</td>\n",
              "      <td>0.513084</td>\n",
              "      <td>0.802937</td>\n",
              "      <td>0.802937</td>\n",
              "      <td>00:21</td>\n",
              "    </tr>\n",
              "    <tr>\n",
              "      <td>10</td>\n",
              "      <td>0.655044</td>\n",
              "      <td>0.516874</td>\n",
              "      <td>0.800888</td>\n",
              "      <td>0.800888</td>\n",
              "      <td>00:21</td>\n",
              "    </tr>\n",
              "    <tr>\n",
              "      <td>11</td>\n",
              "      <td>0.669073</td>\n",
              "      <td>0.518054</td>\n",
              "      <td>0.798497</td>\n",
              "      <td>0.798497</td>\n",
              "      <td>00:21</td>\n",
              "    </tr>\n",
              "  </tbody>\n",
              "</table>"
            ],
            "text/plain": [
              "<IPython.core.display.HTML object>"
            ]
          },
          "metadata": {
            "tags": []
          }
        },
        {
          "output_type": "display_data",
          "data": {
            "image/png": "[encoded data removed]",
            "text/plain": [
              "<Figure size 432x288 with 1 Axes>"
            ]
          },
          "metadata": {
            "tags": []
          }
        },
        {
          "output_type": "stream",
          "text": [
            "Better model found at epoch 0 with valid_loss value: 0.6244032979011536.\n",
            "Better model found at epoch 1 with valid_loss value: 0.5721092224121094.\n",
            "Better model found at epoch 2 with valid_loss value: 0.5299962759017944.\n",
            "Better model found at epoch 3 with valid_loss value: 0.5041163563728333.\n",
            "\n",
            "\n",
            "False  --  Embedding(4688, 400, padding_idx=1)\n",
            "False  --  Embedding(4688, 400, padding_idx=1)\n",
            "False  --  LSTM(400, 1152, batch_first=True)\n",
            "False  --  ParameterModule()\n",
            "False  --  LSTM(1152, 1152, batch_first=True)\n",
            "False  --  ParameterModule()\n",
            "False  --  LSTM(1152, 400, batch_first=True)\n",
            "False  --  ParameterModule()\n",
            "True  --  BatchNorm1d(1200, eps=1e-05, momentum=0.1, affine=True, track_running_stats=True)\n",
            "True  --  Linear(in_features=1200, out_features=50, bias=False)\n",
            "True  --  BatchNorm1d(50, eps=1e-05, momentum=0.1, affine=True, track_running_stats=True)\n",
            "True  --  Linear(in_features=50, out_features=3, bias=False)\n"
          ],
          "name": "stdout"
        }
      ]
    },
    {
      "cell_type": "code",
      "metadata": {
        "id": "gbgE2ssanc9p",
        "outputId": "7170f8c2-78c7-4e0a-88c0-a70d78b044c8",
        "colab": {
          "base_uri": "https://localhost:8080/",
          "height": 300
        }
      },
      "source": [
        "learn.lr_find()"
      ],
      "execution_count": null,
      "outputs": [
        {
          "output_type": "display_data",
          "data": {
            "text/html": [
              ""
            ],
            "text/plain": [
              "<IPython.core.display.HTML object>"
            ]
          },
          "metadata": {
            "tags": []
          }
        },
        {
          "output_type": "execute_result",
          "data": {
            "text/plain": [
              "SuggestedLRs(lr_min=9.12010818865383e-08, lr_steep=2.2908675418875646e-06)"
            ]
          },
          "metadata": {
            "tags": []
          },
          "execution_count": 35
        },
        {
          "output_type": "display_data",
          "data": {
            "image/png": "[encoded data removed]",
            "text/plain": [
              "<Figure size 432x288 with 1 Axes>"
            ]
          },
          "metadata": {
            "tags": [],
            "needs_background": "light"
          }
        }
      ]
    },
    {
      "cell_type": "code",
      "metadata": {
        "id": "_7WWKB3uej7k",
        "outputId": "60bd9593-aa03-4ff0-b624-554834108254",
        "colab": {
          "base_uri": "https://localhost:8080/",
          "height": 775
        }
      },
      "source": [
        "# REFINING 1\n",
        "learn.load('model')\n",
        "learn.freeze_to(-2)\n",
        "learn.fit_one_cycle(5, slice(1e-2/(2.6**4),1e-2))\n",
        "print('\\n')\n",
        "trainable_layers(learn)"
      ],
      "execution_count": null,
      "outputs": [
        {
          "output_type": "display_data",
          "data": {
            "text/html": [
              "<table border=\"1\" class=\"dataframe\">\n",
              "  <thead>\n",
              "    <tr style=\"text-align: left;\">\n",
              "      <th>epoch</th>\n",
              "      <th>train_loss</th>\n",
              "      <th>valid_loss</th>\n",
              "      <th>accuracy</th>\n",
              "      <th>recall_score</th>\n",
              "      <th>time</th>\n",
              "    </tr>\n",
              "  </thead>\n",
              "  <tbody>\n",
              "    <tr>\n",
              "      <td>0</td>\n",
              "      <td>0.717020</td>\n",
              "      <td>0.517677</td>\n",
              "      <td>0.792691</td>\n",
              "      <td>0.792691</td>\n",
              "      <td>00:22</td>\n",
              "    </tr>\n",
              "    <tr>\n",
              "      <td>1</td>\n",
              "      <td>0.636311</td>\n",
              "      <td>0.508235</td>\n",
              "      <td>0.801230</td>\n",
              "      <td>0.801230</td>\n",
              "      <td>00:21</td>\n",
              "    </tr>\n",
              "    <tr>\n",
              "      <td>2</td>\n",
              "      <td>0.572365</td>\n",
              "      <td>0.492020</td>\n",
              "      <td>0.819331</td>\n",
              "      <td>0.819331</td>\n",
              "      <td>00:21</td>\n",
              "    </tr>\n",
              "    <tr>\n",
              "      <td>3</td>\n",
              "      <td>0.491065</td>\n",
              "      <td>0.475087</td>\n",
              "      <td>0.819672</td>\n",
              "      <td>0.819672</td>\n",
              "      <td>00:21</td>\n",
              "    </tr>\n",
              "    <tr>\n",
              "      <td>4</td>\n",
              "      <td>0.424989</td>\n",
              "      <td>0.470437</td>\n",
              "      <td>0.822063</td>\n",
              "      <td>0.822063</td>\n",
              "      <td>00:21</td>\n",
              "    </tr>\n",
              "  </tbody>\n",
              "</table>"
            ],
            "text/plain": [
              "<IPython.core.display.HTML object>"
            ]
          },
          "metadata": {
            "tags": []
          }
        },
        {
          "output_type": "display_data",
          "data": {
            "image/png": "[encoded data removed]",
            "text/plain": [
              "<Figure size 432x288 with 1 Axes>"
            ]
          },
          "metadata": {
            "tags": []
          }
        },
        {
          "output_type": "stream",
          "text": [
            "Better model found at epoch 0 with valid_loss value: 0.5176767110824585.\n",
            "Better model found at epoch 1 with valid_loss value: 0.5082346796989441.\n",
            "Better model found at epoch 2 with valid_loss value: 0.49201956391334534.\n",
            "Better model found at epoch 3 with valid_loss value: 0.47508734464645386.\n",
            "Better model found at epoch 4 with valid_loss value: 0.47043684124946594.\n",
            "\n",
            "\n",
            "False  --  Embedding(4688, 400, padding_idx=1)\n",
            "False  --  Embedding(4688, 400, padding_idx=1)\n",
            "False  --  LSTM(400, 1152, batch_first=True)\n",
            "False  --  ParameterModule()\n",
            "False  --  LSTM(1152, 1152, batch_first=True)\n",
            "False  --  ParameterModule()\n",
            "True  --  LSTM(1152, 400, batch_first=True)\n",
            "True  --  ParameterModule()\n",
            "True  --  BatchNorm1d(1200, eps=1e-05, momentum=0.1, affine=True, track_running_stats=True)\n",
            "True  --  Linear(in_features=1200, out_features=50, bias=False)\n",
            "True  --  BatchNorm1d(50, eps=1e-05, momentum=0.1, affine=True, track_running_stats=True)\n",
            "True  --  Linear(in_features=50, out_features=3, bias=False)\n"
          ],
          "name": "stdout"
        }
      ]
    },
    {
      "cell_type": "code",
      "metadata": {
        "id": "b6SMyRtbej7p",
        "outputId": "c25fd86b-b450-4ab6-cb61-40e403bf8677",
        "colab": {
          "base_uri": "https://localhost:8080/",
          "height": 645
        }
      },
      "source": [
        "# REFINING 2\n",
        "learn.load('model')\n",
        "learn.freeze_to(-3)\n",
        "learn.fit_one_cycle(3, slice(5e-3/(2.6**4),5e-3))\n",
        "print('\\n')\n",
        "trainable_layers(learn)"
      ],
      "execution_count": null,
      "outputs": [
        {
          "output_type": "display_data",
          "data": {
            "text/html": [
              "<table border=\"1\" class=\"dataframe\">\n",
              "  <thead>\n",
              "    <tr style=\"text-align: left;\">\n",
              "      <th>epoch</th>\n",
              "      <th>train_loss</th>\n",
              "      <th>valid_loss</th>\n",
              "      <th>accuracy</th>\n",
              "      <th>recall_score</th>\n",
              "      <th>time</th>\n",
              "    </tr>\n",
              "  </thead>\n",
              "  <tbody>\n",
              "    <tr>\n",
              "      <td>0</td>\n",
              "      <td>0.462303</td>\n",
              "      <td>0.512877</td>\n",
              "      <td>0.812842</td>\n",
              "      <td>0.812842</td>\n",
              "      <td>00:22</td>\n",
              "    </tr>\n",
              "    <tr>\n",
              "      <td>1</td>\n",
              "      <td>0.407726</td>\n",
              "      <td>0.515950</td>\n",
              "      <td>0.814208</td>\n",
              "      <td>0.814208</td>\n",
              "      <td>00:22</td>\n",
              "    </tr>\n",
              "    <tr>\n",
              "      <td>2</td>\n",
              "      <td>0.296786</td>\n",
              "      <td>0.517899</td>\n",
              "      <td>0.823087</td>\n",
              "      <td>0.823087</td>\n",
              "      <td>00:22</td>\n",
              "    </tr>\n",
              "  </tbody>\n",
              "</table>"
            ],
            "text/plain": [
              "<IPython.core.display.HTML object>"
            ]
          },
          "metadata": {
            "tags": []
          }
        },
        {
          "output_type": "display_data",
          "data": {
            "image/png": "[encoded data removed]",
            "text/plain": [
              "<Figure size 432x288 with 1 Axes>"
            ]
          },
          "metadata": {
            "tags": []
          }
        },
        {
          "output_type": "stream",
          "text": [
            "Better model found at epoch 0 with valid_loss value: 0.5128772854804993.\n",
            "\n",
            "\n",
            "False  --  Embedding(4688, 400, padding_idx=1)\n",
            "False  --  Embedding(4688, 400, padding_idx=1)\n",
            "False  --  LSTM(400, 1152, batch_first=True)\n",
            "False  --  ParameterModule()\n",
            "True  --  LSTM(1152, 1152, batch_first=True)\n",
            "True  --  ParameterModule()\n",
            "True  --  LSTM(1152, 400, batch_first=True)\n",
            "True  --  ParameterModule()\n",
            "True  --  BatchNorm1d(1200, eps=1e-05, momentum=0.1, affine=True, track_running_stats=True)\n",
            "True  --  Linear(in_features=1200, out_features=50, bias=False)\n",
            "True  --  BatchNorm1d(50, eps=1e-05, momentum=0.1, affine=True, track_running_stats=True)\n",
            "True  --  Linear(in_features=50, out_features=3, bias=False)\n"
          ],
          "name": "stdout"
        }
      ]
    },
    {
      "cell_type": "code",
      "metadata": {
        "id": "Qmv2NDB0ej7r",
        "outputId": "95dfba18-8fba-4df9-95cf-55fac2c876a0",
        "colab": {
          "base_uri": "https://localhost:8080/",
          "height": 614
        }
      },
      "source": [
        "# REFINING 3\n",
        "learn.load('model')\n",
        "learn.unfreeze()\n",
        "learn.fit_one_cycle(2, slice(1e-3/(2.6**4),1e-3))\n",
        "print('\\n')\n",
        "trainable_layers(learn)"
      ],
      "execution_count": null,
      "outputs": [
        {
          "output_type": "display_data",
          "data": {
            "text/html": [
              "<table border=\"1\" class=\"dataframe\">\n",
              "  <thead>\n",
              "    <tr style=\"text-align: left;\">\n",
              "      <th>epoch</th>\n",
              "      <th>train_loss</th>\n",
              "      <th>valid_loss</th>\n",
              "      <th>accuracy</th>\n",
              "      <th>recall_score</th>\n",
              "      <th>time</th>\n",
              "    </tr>\n",
              "  </thead>\n",
              "  <tbody>\n",
              "    <tr>\n",
              "      <td>0</td>\n",
              "      <td>0.395718</td>\n",
              "      <td>0.491641</td>\n",
              "      <td>0.824454</td>\n",
              "      <td>0.824454</td>\n",
              "      <td>00:23</td>\n",
              "    </tr>\n",
              "    <tr>\n",
              "      <td>1</td>\n",
              "      <td>0.341011</td>\n",
              "      <td>0.499426</td>\n",
              "      <td>0.822746</td>\n",
              "      <td>0.822746</td>\n",
              "      <td>00:23</td>\n",
              "    </tr>\n",
              "  </tbody>\n",
              "</table>"
            ],
            "text/plain": [
              "<IPython.core.display.HTML object>"
            ]
          },
          "metadata": {
            "tags": []
          }
        },
        {
          "output_type": "display_data",
          "data": {
            "image/png": "[encoded data removed]",
            "text/plain": [
              "<Figure size 432x288 with 1 Axes>"
            ]
          },
          "metadata": {
            "tags": []
          }
        },
        {
          "output_type": "stream",
          "text": [
            "Better model found at epoch 0 with valid_loss value: 0.49164143204689026.\n",
            "\n",
            "\n",
            "True  --  Embedding(4688, 400, padding_idx=1)\n",
            "True  --  Embedding(4688, 400, padding_idx=1)\n",
            "True  --  LSTM(400, 1152, batch_first=True)\n",
            "True  --  ParameterModule()\n",
            "True  --  LSTM(1152, 1152, batch_first=True)\n",
            "True  --  ParameterModule()\n",
            "True  --  LSTM(1152, 400, batch_first=True)\n",
            "True  --  ParameterModule()\n",
            "True  --  BatchNorm1d(1200, eps=1e-05, momentum=0.1, affine=True, track_running_stats=True)\n",
            "True  --  Linear(in_features=1200, out_features=50, bias=False)\n",
            "True  --  BatchNorm1d(50, eps=1e-05, momentum=0.1, affine=True, track_running_stats=True)\n",
            "True  --  Linear(in_features=50, out_features=3, bias=False)\n"
          ],
          "name": "stdout"
        }
      ]
    },
    {
      "cell_type": "markdown",
      "metadata": {
        "id": "JTJP1wEso81R"
      },
      "source": [
        "We reach an accuracy of 83% fo tweet classification, not bad! "
      ]
    },
    {
      "cell_type": "code",
      "metadata": {
        "id": "QSzM5Pj4ej77"
      },
      "source": [
        "# Remove ShowGraphCallback Callback, it crashes with learn.predict\n",
        "learner.remove_cb(ShowGraphCallback)\n",
        "learn.remove_cb(ShowGraphCallback)"
      ],
      "execution_count": null,
      "outputs": []
    },
    {
      "cell_type": "markdown",
      "metadata": {
        "id": "d4b38WNtej79"
      },
      "source": [
        "You can now test the language model; you can use it to create inventend sentences and see if they make sense. The more the invented sentences look like made by a person the better trained the language model."
      ]
    },
    {
      "cell_type": "code",
      "metadata": {
        "id": "PPPwYVoHej8A"
      },
      "source": [
        "learner = learner.load('language_model')"
      ],
      "execution_count": null,
      "outputs": []
    },
    {
      "cell_type": "code",
      "metadata": {
        "scrolled": true,
        "id": "ADNaK17hej8G",
        "outputId": "cebd5cae-39f6-4de4-ae26-9ee856694000",
        "colab": {
          "base_uri": "https://localhost:8080/",
          "height": 35
        }
      },
      "source": [
        "learner.predict(\"Never\", 15, temperature=0.75) "
      ],
      "execution_count": null,
      "outputs": [
        {
          "output_type": "display_data",
          "data": {
            "text/html": [
              ""
            ],
            "text/plain": [
              "<IPython.core.display.HTML object>"
            ]
          },
          "metadata": {
            "tags": []
          }
        },
        {
          "output_type": "execute_result",
          "data": {
            "application/vnd.google.colaboratory.intrinsic+json": {
              "type": "string"
            },
            "text/plain": [
              "\"Never got a customer service number delivery your bag No Ca n't do\""
            ]
          },
          "metadata": {
            "tags": []
          },
          "execution_count": 44
        }
      ]
    },
    {
      "cell_type": "markdown",
      "metadata": {
        "id": "14PtCjptfil5"
      },
      "source": [
        "## Statistics of the training"
      ]
    },
    {
      "cell_type": "code",
      "metadata": {
        "id": "0cBgyw3rromi",
        "outputId": "ce79b067-dcb1-4859-fd2f-3d4d68eff107",
        "colab": {
          "base_uri": "https://localhost:8080/",
          "height": 34
        }
      },
      "source": [
        "list(learner.activation_stats.stats[0])"
      ],
      "execution_count": null,
      "outputs": [
        {
          "output_type": "execute_result",
          "data": {
            "text/plain": [
              "[None, None, None, None, None, None, None, None, None, None, None, None]"
            ]
          },
          "metadata": {
            "tags": []
          },
          "execution_count": 32
        }
      ]
    },
    {
      "cell_type": "code",
      "metadata": {
        "id": "B6PUztGarxXJ",
        "outputId": "0fe4a9a7-4600-4af8-c733-182c0acd5e8e",
        "colab": {
          "base_uri": "https://localhost:8080/",
          "height": 227
        }
      },
      "source": [
        "learner.activation_stats.plot_layer_stats(8)"
      ],
      "execution_count": null,
      "outputs": [
        {
          "output_type": "display_data",
          "data": {
            "image/png": "[encoded data removed]",
            "text/plain": [
              "<Figure size 864x216 with 3 Axes>"
            ]
          },
          "metadata": {
            "tags": [],
            "needs_background": "light"
          }
        }
      ]
    },
    {
      "cell_type": "code",
      "metadata": {
        "id": "qmQPvtIPv8nT",
        "outputId": "51a49485-d096-4efe-83b8-d79a6f869e70",
        "colab": {
          "base_uri": "https://localhost:8080/",
          "height": 92
        }
      },
      "source": [
        "learner.activation_stats.color_dim(8)"
      ],
      "execution_count": null,
      "outputs": [
        {
          "output_type": "display_data",
          "data": {
            "image/png": "[encoded data removed]",
            "text/plain": [
              "<Figure size 720x360 with 1 Axes>"
            ]
          },
          "metadata": {
            "tags": [],
            "needs_background": "light"
          }
        }
      ]
    },
    {
      "cell_type": "markdown",
      "metadata": {
        "id": "QQHEFDLRej8V"
      },
      "source": [
        "## Asses model performance"
      ]
    },
    {
      "cell_type": "code",
      "metadata": {
        "id": "nrHIgwqTLOe3",
        "outputId": "fd37b7e4-4bac-4c18-d1fa-5e0981049331",
        "colab": {
          "base_uri": "https://localhost:8080/",
          "height": 34
        }
      },
      "source": [
        "n= 1392\n",
        "learn.predict(tweets.text[n]), tweets.airline_sentiment[n]"
      ],
      "execution_count": null,
      "outputs": [
        {
          "output_type": "display_data",
          "data": {
            "text/html": [
              ""
            ],
            "text/plain": [
              "<IPython.core.display.HTML object>"
            ]
          },
          "metadata": {
            "tags": []
          }
        },
        {
          "output_type": "execute_result",
          "data": {
            "text/plain": [
              "(('negative', tensor(0), tensor([0.9860, 0.0098, 0.0042])), 'negative')"
            ]
          },
          "metadata": {
            "tags": []
          },
          "execution_count": 123
        }
      ]
    },
    {
      "cell_type": "code",
      "metadata": {
        "id": "mlxthbjVMibS",
        "outputId": "ead8a55d-1070-41ab-92b5-ef2f10f8d27b",
        "colab": {
          "base_uri": "https://localhost:8080/",
          "height": 35
        }
      },
      "source": [
        "tweets.text[n]"
      ],
      "execution_count": null,
      "outputs": [
        {
          "output_type": "execute_result",
          "data": {
            "application/vnd.google.colaboratory.intrinsic+json": {
              "type": "string"
            },
            "text/plain": [
              "\"@VirginAmerica I didn't today... Must mean I need to take another trip!\""
            ]
          },
          "metadata": {
            "tags": []
          },
          "execution_count": 114
        }
      ]
    },
    {
      "cell_type": "code",
      "metadata": {
        "id": "ExyZeJocQR-h",
        "outputId": "dc2f216d-9407-4e2a-d4e9-b55186fd1ca6",
        "colab": {
          "base_uri": "https://localhost:8080/",
          "height": 17
        }
      },
      "source": [
        "clas_int = ClassificationInterpretation.from_learner(learn)"
      ],
      "execution_count": null,
      "outputs": [
        {
          "output_type": "display_data",
          "data": {
            "text/html": [
              ""
            ],
            "text/plain": [
              "<IPython.core.display.HTML object>"
            ]
          },
          "metadata": {
            "tags": []
          }
        }
      ]
    },
    {
      "cell_type": "code",
      "metadata": {
        "id": "NZLVD4jLQaao",
        "outputId": "47f605b9-e429-4a47-8572-3628e054098b",
        "colab": {
          "base_uri": "https://localhost:8080/",
          "height": 311
        }
      },
      "source": [
        "clas_int.plot_confusion_matrix()"
      ],
      "execution_count": null,
      "outputs": [
        {
          "output_type": "display_data",
          "data": {
            "image/png": "[encoded data removed]",
            "text/plain": [
              "<Figure size 432x288 with 1 Axes>"
            ]
          },
          "metadata": {
            "tags": [],
            "needs_background": "light"
          }
        }
      ]
    },
    {
      "cell_type": "code",
      "metadata": {
        "id": "pwQuFCcCb_HK",
        "outputId": "25d8bf95-76ea-49f3-8d96-cf68aaa831d1",
        "colab": {
          "base_uri": "https://localhost:8080/",
          "height": 187
        }
      },
      "source": [
        "clas_int.print_classification_report()"
      ],
      "execution_count": null,
      "outputs": [
        {
          "output_type": "stream",
          "text": [
            "              precision    recall  f1-score   support\n",
            "\n",
            "    negative       0.85      0.93      0.89      1799\n",
            "     neutral       0.77      0.61      0.68       657\n",
            "    positive       0.78      0.73      0.76       472\n",
            "\n",
            "    accuracy                           0.82      2928\n",
            "   macro avg       0.80      0.76      0.77      2928\n",
            "weighted avg       0.82      0.82      0.82      2928\n",
            "\n"
          ],
          "name": "stdout"
        }
      ]
    },
    {
      "cell_type": "code",
      "metadata": {
        "id": "WqU8K6FHQqFj",
        "outputId": "85dc46a3-fe48-4c19-f8cc-1d9b13ae717b",
        "colab": {
          "base_uri": "https://localhost:8080/",
          "height": 71
        }
      },
      "source": [
        "clas_int.top_losses()"
      ],
      "execution_count": null,
      "outputs": [
        {
          "output_type": "execute_result",
          "data": {
            "text/plain": [
              "torch.return_types.topk(values=tensor([8.6870e+00, 8.4978e+00, 7.7062e+00,  ..., 1.9073e-05, 1.4067e-05,\n",
              "        1.1802e-05]), indices=tensor([1392, 2834,  838,  ..., 2469,  948,  341]))"
            ]
          },
          "metadata": {
            "tags": []
          },
          "execution_count": 122
        }
      ]
    },
    {
      "cell_type": "code",
      "metadata": {
        "id": "4C11DBpufbzp",
        "outputId": "e7fedbe3-efcb-4ec5-bf07-48291ac151ab",
        "colab": {
          "base_uri": "https://localhost:8080/"
        }
      },
      "source": [
        "tc_dls.vocab[1]"
      ],
      "execution_count": null,
      "outputs": [
        {
          "output_type": "execute_result",
          "data": {
            "text/plain": [
              "(#3) ['negative','neutral','positive']"
            ]
          },
          "metadata": {
            "tags": []
          },
          "execution_count": 58
        }
      ]
    },
    {
      "cell_type": "code",
      "metadata": {
        "id": "uHAyYhyVe4PL",
        "outputId": "bd0423ca-e15b-4e99-9bf1-6aa54fef8859",
        "colab": {
          "base_uri": "https://localhost:8080/",
          "height": 17
        }
      },
      "source": [
        "preds = learn.get_preds(dl=tc_dls[1], with_input=True, with_loss=True, with_decoded=True, act=None)"
      ],
      "execution_count": null,
      "outputs": [
        {
          "output_type": "display_data",
          "data": {
            "text/html": [
              ""
            ],
            "text/plain": [
              "<IPython.core.display.HTML object>"
            ]
          },
          "metadata": {
            "tags": []
          }
        }
      ]
    },
    {
      "cell_type": "markdown",
      "metadata": {
        "id": "bODLVjCAe_Jf"
      },
      "source": [
        "The variable predicts contains the following information: \n",
        "\n",
        "0.   inputs\n",
        "1.   predictions\n",
        "2.   targets\n",
        "3. decoded\n",
        "4. losses"
      ]
    },
    {
      "cell_type": "code",
      "metadata": {
        "id": "ETB9AiRYglLW",
        "outputId": "661b3046-c405-4d75-ee9e-67ab1091540d",
        "colab": {
          "base_uri": "https://localhost:8080/",
          "height": 34
        }
      },
      "source": [
        "torch.sum(preds[3] == preds[2]).item()/len(preds[3])"
      ],
      "execution_count": null,
      "outputs": [
        {
          "output_type": "execute_result",
          "data": {
            "text/plain": [
              "0.8244535519125683"
            ]
          },
          "metadata": {
            "tags": []
          },
          "execution_count": 37
        }
      ]
    },
    {
      "cell_type": "code",
      "metadata": {
        "id": "db3VsEpDhQZd"
      },
      "source": [
        "matches = preds[3] == preds[2]"
      ],
      "execution_count": null,
      "outputs": []
    },
    {
      "cell_type": "code",
      "metadata": {
        "id": "Ic3CUCHSfEIC"
      },
      "source": [
        "decoded_valid = L(zip(lm_dls.valid_ds.decode(preds[0]),\n",
        "                      list(map(lambda x: tc_dls.vocab[1][x], preds[2].tolist())),\n",
        "                      list(map(lambda x: tc_dls.vocab[1][x], preds[3].tolist()))))"
      ],
      "execution_count": null,
      "outputs": []
    },
    {
      "cell_type": "code",
      "metadata": {
        "id": "lbK7zZOeN--X"
      },
      "source": [
        "df = pd.DataFrame(list(decoded_valid[~matches]), columns =['tweet', 'Truth', 'Computed']) "
      ],
      "execution_count": null,
      "outputs": []
    },
    {
      "cell_type": "code",
      "metadata": {
        "id": "6FL1dceJOg9w",
        "outputId": "7923ab6e-9563-407c-8f5e-564c52c6fb1e",
        "colab": {
          "base_uri": "https://localhost:8080/",
          "height": 1000
        }
      },
      "source": [
        "display(HTML(df.to_html(index=False)))"
      ],
      "execution_count": null,
      "outputs": [
        {
          "output_type": "display_data",
          "data": {
            "text/html": [
              "<table border=\"1\" class=\"dataframe\">\n",
              "  <thead>\n",
              "    <tr style=\"text-align: right;\">\n",
              "      <th>tweet</th>\n",
              "      <th>Truth</th>\n",
              "      <th>Computed</th>\n",
              "    </tr>\n",
              "  </thead>\n",
              "  <tbody>\n",
              "    <tr>\n",
              "      <td>xxbos xxmaj but , are your flight attendants fucking tho ? xxup rt @jetblue : xxmaj our fleet 's on fleek . http : / / t.co / xxunk xxpad</td>\n",
              "      <td>negative</td>\n",
              "      <td>neutral</td>\n",
              "    </tr>\n",
              "    <tr>\n",
              "      <td>xxbos update on xxmaj flight xxunk would be appreciated when you have time , thanks xxpad</td>\n",
              "      <td>neutral</td>\n",
              "      <td>negative</td>\n",
              "    </tr>\n",
              "    <tr>\n",
              "      <td>xxbos yes … xxunk … for two different flights and xxunk xxpad</td>\n",
              "      <td>neutral</td>\n",
              "      <td>negative</td>\n",
              "    </tr>\n",
              "    <tr>\n",
              "      <td>xxbos any idea why flight xxunk from xxup xxunk to xxup dfw tomorrow xxmaj cancelled xxmaj flightled about 45 minutes ago ? xxpad</td>\n",
              "      <td>neutral</td>\n",
              "      <td>negative</td>\n",
              "    </tr>\n",
              "    <tr>\n",
              "      <td>xxbos i knew i was correct ! http : / / t.co / xxunk xxpad</td>\n",
              "      <td>neutral</td>\n",
              "      <td>negative</td>\n",
              "    </tr>\n",
              "    <tr>\n",
              "      <td>xxbos # americanview xxmaj sweet xxmaj home xxmaj chicago http : / / t.co / xxunk xxpad</td>\n",
              "      <td>positive</td>\n",
              "      <td>neutral</td>\n",
              "    </tr>\n",
              "    <tr>\n",
              "      <td>xxbos flight # xxunk xxunk xxup orf to xxup phl . xxpad</td>\n",
              "      <td>neutral</td>\n",
              "      <td>negative</td>\n",
              "    </tr>\n",
              "    <tr>\n",
              "      <td>xxbos xxunk xxpad xxpad</td>\n",
              "      <td>neutral</td>\n",
              "      <td>positive</td>\n",
              "    </tr>\n",
              "    <tr>\n",
              "      <td>xxbos gives positive xxunk , but sees increased competition - xxunk http : / / t.co / xxunk xxpad</td>\n",
              "      <td>neutral</td>\n",
              "      <td>negative</td>\n",
              "    </tr>\n",
              "    <tr>\n",
              "      <td>xxbos xxunk luv xxup swa myself and my employees use you always ! ! xxpad</td>\n",
              "      <td>positive</td>\n",
              "      <td>negative</td>\n",
              "    </tr>\n",
              "    <tr>\n",
              "      <td>xxbos you should know the crew today on flight # xxunk xxup aus to xxup pdx was awesome ! # xxup swa xxpad</td>\n",
              "      <td>positive</td>\n",
              "      <td>negative</td>\n",
              "    </tr>\n",
              "    <tr>\n",
              "      <td>xxbos sorry , we are in xxmaj philly . xxmaj should 've told you that . xxpad</td>\n",
              "      <td>neutral</td>\n",
              "      <td>negative</td>\n",
              "    </tr>\n",
              "    <tr>\n",
              "      <td>xxbos good morning , please let me know if i will be able to get those luggage tags . xxmaj tx ! xxpad</td>\n",
              "      <td>neutral</td>\n",
              "      <td>negative</td>\n",
              "    </tr>\n",
              "    <tr>\n",
              "      <td>xxbos tell reservations to rebook me from xxunk to xxunk xxpad xxpad</td>\n",
              "      <td>neutral</td>\n",
              "      <td>negative</td>\n",
              "    </tr>\n",
              "    <tr>\n",
              "      <td>xxbos its in black and white . xxup eu law and all that € 600 for a xxmaj cancelled xxmaj flightled flight . i want my money xxpad</td>\n",
              "      <td>negative</td>\n",
              "      <td>neutral</td>\n",
              "    </tr>\n",
              "    <tr>\n",
              "      <td>xxbos please acknowledge xxmaj attendant xxmaj jeff xxmaj xxunk . xxmaj beat in class and service on xxup sw xxpad</td>\n",
              "      <td>positive</td>\n",
              "      <td>negative</td>\n",
              "    </tr>\n",
              "    <tr>\n",
              "      <td>xxbos s / o to @delta for coming in xxunk and finally taking me home 🙌 🙌 xxpad</td>\n",
              "      <td>neutral</td>\n",
              "      <td>positive</td>\n",
              "    </tr>\n",
              "    <tr>\n",
              "      <td>xxbos does xxunk guarantee the fare only or fare &amp; &amp; seats ? xxpad</td>\n",
              "      <td>neutral</td>\n",
              "      <td>negative</td>\n",
              "    </tr>\n",
              "    <tr>\n",
              "      <td>xxbos the dinner and called me \" xxunk \" . xxmaj not the service i would expect from 1st class . # disappointed xxpad</td>\n",
              "      <td>neutral</td>\n",
              "      <td>negative</td>\n",
              "    </tr>\n",
              "    <tr>\n",
              "      <td>xxbos is the xxunk part of the xxunk too ? xxpad xxpad</td>\n",
              "      <td>neutral</td>\n",
              "      <td>negative</td>\n",
              "    </tr>\n",
              "    <tr>\n",
              "      <td>xxbos flights out of xxmaj dallas on xxmaj tuesday are not going to be xxmaj cancelled xxmaj flightled correct ? xxpad</td>\n",
              "      <td>neutral</td>\n",
              "      <td>negative</td>\n",
              "    </tr>\n",
              "    <tr>\n",
              "      <td>xxbos xxunk should always be the policy xxpad</td>\n",
              "      <td>neutral</td>\n",
              "      <td>negative</td>\n",
              "    </tr>\n",
              "    <tr>\n",
              "      <td>xxbos xxmaj keep the flights cheap and early / on time and you are good . xxmaj flew @americanair and xxmaj cancelled xxmaj flightled my flight 4 times last month . xxmaj united &gt; xxpad</td>\n",
              "      <td>positive</td>\n",
              "      <td>negative</td>\n",
              "    </tr>\n",
              "    <tr>\n",
              "      <td>xxbos - just got it back about 20 mins ago . xxmaj went about 18 hrs w / o it but i appreciate the support . $ 50 voucher + $ 50 for xxunk . xxpad xxpad</td>\n",
              "      <td>positive</td>\n",
              "      <td>negative</td>\n",
              "    </tr>\n",
              "    <tr>\n",
              "      <td>xxbos tried that . xxmaj can not figure out where to go to get it . xxpad</td>\n",
              "      <td>neutral</td>\n",
              "      <td>negative</td>\n",
              "    </tr>\n",
              "    <tr>\n",
              "      <td>xxbos hey southwest ! xxmaj can i see @imaginedragons in xxmaj atlanta ? xxmaj my friend has never been there , loves them , and he is from xxmaj xxunk !</td>\n",
              "      <td>neutral</td>\n",
              "      <td>positive</td>\n",
              "    </tr>\n",
              "    <tr>\n",
              "      <td>xxbos “ @jetblue : xxmaj our fleet 's on fleek . http : / / t.co / xxunk ” xxunk new fav airline xxpad</td>\n",
              "      <td>positive</td>\n",
              "      <td>neutral</td>\n",
              "    </tr>\n",
              "    <tr>\n",
              "      <td>xxbos thank you for getting our daughter home when @americanair xxmaj cancelled xxmaj flightled all their flights to xxmaj nashville xxpad</td>\n",
              "      <td>positive</td>\n",
              "      <td>negative</td>\n",
              "    </tr>\n",
              "    <tr>\n",
              "      <td>xxbos thanks . xxmaj bummer . xxmaj poor planning on my part . i assume the card in xxmaj passbook wo n't work either ? xxpad</td>\n",
              "      <td>neutral</td>\n",
              "      <td>negative</td>\n",
              "    </tr>\n",
              "    <tr>\n",
              "      <td>xxbos - xxmaj group 2 line gets longer every week . xxmaj almost no one left for xxmaj groups 3 - 5 anymore . xxmaj time to make xxmaj explorer xxmaj card xxmaj group 3 ? xxpad</td>\n",
              "      <td>neutral</td>\n",
              "      <td>negative</td>\n",
              "    </tr>\n",
              "    <tr>\n",
              "      <td>xxbos xxunk xxmaj gee that 's like almost caring about ppl more than $ $ . xxmaj think xxmaj i 'm more int in having a trusted xxunk w / daughter . xxpad</td>\n",
              "      <td>neutral</td>\n",
              "      <td>negative</td>\n",
              "    </tr>\n",
              "    <tr>\n",
              "      <td>xxbos the xxunk is n't xxunk by me but rather xxunk . xxmaj app is new . xxpad</td>\n",
              "      <td>neutral</td>\n",
              "      <td>negative</td>\n",
              "    </tr>\n",
              "    <tr>\n",
              "      <td>xxbos u cool xxpad</td>\n",
              "      <td>positive</td>\n",
              "      <td>negative</td>\n",
              "    </tr>\n",
              "    <tr>\n",
              "      <td>xxbos xxunk what about upgrades ? xxpad xxpad</td>\n",
              "      <td>neutral</td>\n",
              "      <td>negative</td>\n",
              "    </tr>\n",
              "    <tr>\n",
              "      <td>xxbos is the new xxunk time confirmed or it may get xxmaj cancelled xxmaj flightled ? xxmaj traveling with kids , need to be certain . xxmaj thx</td>\n",
              "      <td>neutral</td>\n",
              "      <td>negative</td>\n",
              "    </tr>\n",
              "    <tr>\n",
              "      <td>xxbos try harder . xxmaj take a winners attitude to your work . xxpad</td>\n",
              "      <td>neutral</td>\n",
              "      <td>negative</td>\n",
              "    </tr>\n",
              "    <tr>\n",
              "      <td>xxbos i have a flight from omaha to chicago ( en route to xxup nyc ) and they are seating me and my partner separate , please fix this res # xxup xxunk xxpad</td>\n",
              "      <td>negative</td>\n",
              "      <td>neutral</td>\n",
              "    </tr>\n",
              "    <tr>\n",
              "      <td>xxbos xxup xxunk usair , xxmaj happy xxmaj xxunk &lt;3 xxpad xxpad</td>\n",
              "      <td>positive</td>\n",
              "      <td>neutral</td>\n",
              "    </tr>\n",
              "    <tr>\n",
              "      <td>xxbos xxmaj i 'd like to xxunk both options , and what the cost might be to change the date and destination . xxpad</td>\n",
              "      <td>neutral</td>\n",
              "      <td>negative</td>\n",
              "    </tr>\n",
              "    <tr>\n",
              "      <td>xxbos oops , xxmaj sorry , xxmaj done , xxpad</td>\n",
              "      <td>neutral</td>\n",
              "      <td>negative</td>\n",
              "    </tr>\n",
              "    <tr>\n",
              "      <td>xxbos thank you xxrep 5 ! xxmaj and next flight to xxmaj durango then driving to xxmaj xxunk xxmaj new xxmaj mexico for work ! xxmaj but hitting the xxunk in xxmaj durango ! xxpad</td>\n",
              "      <td>neutral</td>\n",
              "      <td>positive</td>\n",
              "    </tr>\n",
              "    <tr>\n",
              "      <td>xxbos greetings xxpad xxpad</td>\n",
              "      <td>neutral</td>\n",
              "      <td>positive</td>\n",
              "    </tr>\n",
              "    <tr>\n",
              "      <td>xxbos an award travel ticket but can not since it is under a different last name . i simply need to change it xxpad</td>\n",
              "      <td>negative</td>\n",
              "      <td>neutral</td>\n",
              "    </tr>\n",
              "    <tr>\n",
              "      <td>xxbos xxmaj received an xxunk to xxunk in e - rewards . xxmaj is this legit from jetblue ? xxmaj just double checking bc the site looked different . xxpad</td>\n",
              "      <td>neutral</td>\n",
              "      <td>negative</td>\n",
              "    </tr>\n",
              "    <tr>\n",
              "      <td>xxbos thank you . \\n xxmaj it 's my daughters 13th xxunk party w / xxunk . weather xxunk , it does n't look promising . \\n xxmaj please assist with earlier flts to xxmaj cmh ? xxpad xxpad</td>\n",
              "      <td>positive</td>\n",
              "      <td>neutral</td>\n",
              "    </tr>\n",
              "    <tr>\n",
              "      <td>xxbos hilarious xxpad xxpad</td>\n",
              "      <td>negative</td>\n",
              "      <td>positive</td>\n",
              "    </tr>\n",
              "    <tr>\n",
              "      <td>xxbos xxmaj first class service on xxup us 769 xxup phl - mco today from the flight attendant in xxup xxunk i did n't catch her name but she was top notch ! xxpad</td>\n",
              "      <td>positive</td>\n",
              "      <td>negative</td>\n",
              "    </tr>\n",
              "    <tr>\n",
              "      <td>xxbos - keeping xxup aa up in the xxmaj air ! xxmaj my crew chief cousin xxmaj alex xxmaj xxunk in xxup dfw ! http : / / t.co / xxunk</td>\n",
              "      <td>neutral</td>\n",
              "      <td>positive</td>\n",
              "    </tr>\n",
              "    <tr>\n",
              "      <td>xxbos ah , that would explain why crew did n't seem particularly xxunk when we xxunk it out . xxmaj it was a little xxunk at first .</td>\n",
              "      <td>neutral</td>\n",
              "      <td>negative</td>\n",
              "    </tr>\n",
              "    <tr>\n",
              "      <td>xxbos xxmaj hi ! i just saw a xxmaj black xxmaj history month commercial on xxup tv &amp; &amp; xxmaj i m excited ! xxmaj in support of this month , will you all xxunk me 1 free trip xxpad xxpad xxpad xxpad xxpad xxpad xxpad xxpad xxpad xxpad xxpad xxpad xxpad xxpad</td>\n",
              "      <td>positive</td>\n",
              "      <td>neutral</td>\n",
              "    </tr>\n",
              "    <tr>\n",
              "      <td>xxbos i have a question . i need to talk to someone by email . xxmaj can you give me your email address ? xxmaj thanks . xxpad</td>\n",
              "      <td>neutral</td>\n",
              "      <td>negative</td>\n",
              "    </tr>\n",
              "    <tr>\n",
              "      <td>xxbos can xxmaj cancelled xxmaj flight my flight anytime if this is where they keep me for the night .. http : / / t.co / xxunk xxpad</td>\n",
              "      <td>positive</td>\n",
              "      <td>negative</td>\n",
              "    </tr>\n",
              "    <tr>\n",
              "      <td>xxbos xxmaj april 6th . xxmaj anything specific i should know for my first flight ? xxpad</td>\n",
              "      <td>neutral</td>\n",
              "      <td>negative</td>\n",
              "    </tr>\n",
              "    <tr>\n",
              "      <td>xxbos [ checked in + xxunk w / no checkin bagage ] guess i 'm all set . :-) xxpad</td>\n",
              "      <td>neutral</td>\n",
              "      <td>negative</td>\n",
              "    </tr>\n",
              "    <tr>\n",
              "      <td>xxbos do n't i always ? xxpad xxpad</td>\n",
              "      <td>neutral</td>\n",
              "      <td>negative</td>\n",
              "    </tr>\n",
              "    <tr>\n",
              "      <td>xxbos - just talking to customer service @united makes me appreciate you even more ! xxmaj they could learn so much from you !</td>\n",
              "      <td>positive</td>\n",
              "      <td>negative</td>\n",
              "    </tr>\n",
              "    <tr>\n",
              "      <td>xxbos xxmaj hawaii what deals u have for me xxpad</td>\n",
              "      <td>neutral</td>\n",
              "      <td>positive</td>\n",
              "    </tr>\n",
              "    <tr>\n",
              "      <td>xxbos xxunk xxmaj spoke to xxmaj corp . xxmaj customer xxmaj support already . xxmaj shame . xxmaj probably a reasonable and cheaper resolution to be had . xxmaj regards</td>\n",
              "      <td>negative</td>\n",
              "      <td>positive</td>\n",
              "    </tr>\n",
              "    <tr>\n",
              "      <td>xxbos do bags still fly for free anymore ? xxpad</td>\n",
              "      <td>neutral</td>\n",
              "      <td>negative</td>\n",
              "    </tr>\n",
              "    <tr>\n",
              "      <td>xxbos this feels nice - what we 've got going on here . xxmaj let 's just xxunk me out with the xxunk in xxunk and we can make it all better . xxpad</td>\n",
              "      <td>neutral</td>\n",
              "      <td>negative</td>\n",
              "    </tr>\n",
              "    <tr>\n",
              "      <td>xxbos xxmaj oh i will . # xxmaj disney bound . # xxunk # xxunk xxpad</td>\n",
              "      <td>neutral</td>\n",
              "      <td>positive</td>\n",
              "    </tr>\n",
              "    <tr>\n",
              "      <td>xxbos companion pass please ! xxpad</td>\n",
              "      <td>neutral</td>\n",
              "      <td>positive</td>\n",
              "    </tr>\n",
              "    <tr>\n",
              "      <td>xxbos xxmaj dear xxmaj virgin customer , while you 're stranded in xxup sf for 3 days &amp; &amp; $ 1 xxrep 3 0 xxunk we 'll do the very least we can to accommodate you ! xxpad xxpad</td>\n",
              "      <td>neutral</td>\n",
              "      <td>negative</td>\n",
              "    </tr>\n",
              "    <tr>\n",
              "      <td>xxbos “ @united : xxunk xxmaj the baggage fee is waived for xxmaj premier members . xxmaj please see http : / / t.co / xxunk . ^jp ” what 's the point of membership ? xxpad</td>\n",
              "      <td>negative</td>\n",
              "      <td>neutral</td>\n",
              "    </tr>\n",
              "    <tr>\n",
              "      <td>xxbos xxmaj thank you for the reply . xxmaj would 've appreciated communication before checking in about the delay . jetblue used to be my go - to</td>\n",
              "      <td>negative</td>\n",
              "      <td>positive</td>\n",
              "    </tr>\n",
              "    <tr>\n",
              "      <td>xxbos is there any way that you could hold flight xxunk in xxup clt my husband is stuck in the security check line . flight scheduled for 1 pm xxpad</td>\n",
              "      <td>neutral</td>\n",
              "      <td>negative</td>\n",
              "    </tr>\n",
              "    <tr>\n",
              "      <td>xxbos we had early bird , and it was great . xxmaj your employees were awesome . xxmaj it was 3 passengers who xxunk the xxunk . xxpad</td>\n",
              "      <td>positive</td>\n",
              "      <td>negative</td>\n",
              "    </tr>\n",
              "    <tr>\n",
              "      <td>xxbos can you not see the thread ? xxpad</td>\n",
              "      <td>negative</td>\n",
              "      <td>neutral</td>\n",
              "    </tr>\n",
              "    <tr>\n",
              "      <td>xxbos i am following you now . i do n't think i can xxup dm until you follow me . xxpad</td>\n",
              "      <td>neutral</td>\n",
              "      <td>negative</td>\n",
              "    </tr>\n",
              "    <tr>\n",
              "      <td>xxbos you just tight that you 're # 59 on the world 's best airlines list &amp; &amp; @virginatlantic is ranked higher ! @virginatlantic here i come !</td>\n",
              "      <td>neutral</td>\n",
              "      <td>positive</td>\n",
              "    </tr>\n",
              "    <tr>\n",
              "      <td>xxbos xxunk xxmaj i 'd at least enjoy a free cocktail … or two . xxpad</td>\n",
              "      <td>positive</td>\n",
              "      <td>negative</td>\n",
              "    </tr>\n",
              "    <tr>\n",
              "      <td>xxbos what is your policy on flying after surgery ? i am still waiting for answer so i can tell me xxunk . xxpad</td>\n",
              "      <td>neutral</td>\n",
              "      <td>negative</td>\n",
              "    </tr>\n",
              "    <tr>\n",
              "      <td>xxbos just emailed xxmaj xxunk xxmaj xxunk and xxmaj jeff xxmaj smisek so hopefully you pay attention now xxpad</td>\n",
              "      <td>neutral</td>\n",
              "      <td>positive</td>\n",
              "    </tr>\n",
              "    <tr>\n",
              "      <td>xxbos @fortunemagazine xxmaj congratulations ! xxpad</td>\n",
              "      <td>neutral</td>\n",
              "      <td>positive</td>\n",
              "    </tr>\n",
              "    <tr>\n",
              "      <td>xxbos xxunk is the xxup ord to xxup phl flight at xxunk xxup pm ( xxunk ) delayed ? xxup dm xxmaj i 'm kinda hoping not to be stranded at xxup ord either . xxpad xxpad</td>\n",
              "      <td>neutral</td>\n",
              "      <td>negative</td>\n",
              "    </tr>\n",
              "    <tr>\n",
              "      <td>xxbos xxup fll to xxup xxunk , great flight , great customer service , xxup thanks ! 2 mths waiting @americanair to speak to a human at customer service xxpad</td>\n",
              "      <td>positive</td>\n",
              "      <td>negative</td>\n",
              "    </tr>\n",
              "    <tr>\n",
              "      <td>xxbos xxmaj thanks , it 's for next weekend though so my guess is it will only go higher . xxpad</td>\n",
              "      <td>neutral</td>\n",
              "      <td>positive</td>\n",
              "    </tr>\n",
              "    <tr>\n",
              "      <td>xxbos xxmaj can someone rebook me ? xxmaj please direct message me . xxpad</td>\n",
              "      <td>neutral</td>\n",
              "      <td>negative</td>\n",
              "    </tr>\n",
              "    <tr>\n",
              "      <td>xxbos can you change xxup xxunk to xxunk on 2 / 23 instead of xxunk ; original reservation was for xxunk yesterday but was xxmaj cancelled xxmaj flightled . xxpad</td>\n",
              "      <td>neutral</td>\n",
              "      <td>negative</td>\n",
              "    </tr>\n",
              "    <tr>\n",
              "      <td>xxbos is that # xxunk ? ? 😁 xxpad</td>\n",
              "      <td>neutral</td>\n",
              "      <td>negative</td>\n",
              "    </tr>\n",
              "    <tr>\n",
              "      <td>xxbos my mom wanted me to change her seat along with my sister , but their two different reservations and idk xxpad</td>\n",
              "      <td>neutral</td>\n",
              "      <td>negative</td>\n",
              "    </tr>\n",
              "    <tr>\n",
              "      <td>xxbos sure can ! xxmaj just a second . xxpad</td>\n",
              "      <td>neutral</td>\n",
              "      <td>negative</td>\n",
              "    </tr>\n",
              "    <tr>\n",
              "      <td>xxbos xxmaj if you read my tweet it is a xxunk in process for folks that take multiple flights in one day . xxpad</td>\n",
              "      <td>neutral</td>\n",
              "      <td>negative</td>\n",
              "    </tr>\n",
              "    <tr>\n",
              "      <td>xxbos thanks ! ! xxpad xxpad</td>\n",
              "      <td>neutral</td>\n",
              "      <td>positive</td>\n",
              "    </tr>\n",
              "    <tr>\n",
              "      <td>xxbos i left my comment with customer care . xxmaj thanks for contacting me . xxpad</td>\n",
              "      <td>positive</td>\n",
              "      <td>negative</td>\n",
              "    </tr>\n",
              "    <tr>\n",
              "      <td>xxbos xxmaj if you want , we can keep you updated on who 's wearing who , &amp; &amp; who 's with who , &amp; &amp; who xxunk what . xxmaj we 're nice like that . ;) xxpad</td>\n",
              "      <td>neutral</td>\n",
              "      <td>positive</td>\n",
              "    </tr>\n",
              "    <tr>\n",
              "      <td>xxbos this makes me happy . i hope these are n't empty promises . xxpad</td>\n",
              "      <td>positive</td>\n",
              "      <td>negative</td>\n",
              "    </tr>\n",
              "    <tr>\n",
              "      <td>xxbos xxmaj xxunk ❄ ️ xxpad</td>\n",
              "      <td>neutral</td>\n",
              "      <td>positive</td>\n",
              "    </tr>\n",
              "    <tr>\n",
              "      <td>xxbos xxmaj any plans to make the southwest app for xxmaj android not crappy ? xxpad</td>\n",
              "      <td>negative</td>\n",
              "      <td>neutral</td>\n",
              "    </tr>\n",
              "    <tr>\n",
              "      <td>xxbos flight xxunk tomorrow xxunk am , status please , thanks xxpad</td>\n",
              "      <td>neutral</td>\n",
              "      <td>negative</td>\n",
              "    </tr>\n",
              "    <tr>\n",
              "      <td>xxbos xxmaj flight for tomorrow was xxmaj cancelled xxmaj flightled . xxmaj new one booked . xxmaj seats taken care of . xxmaj just a tweet to xxunk you all on the service . xxmaj thanks ! xxpad xxpad</td>\n",
              "      <td>positive</td>\n",
              "      <td>negative</td>\n",
              "    </tr>\n",
              "    <tr>\n",
              "      <td>xxbos kudos for not xxmaj cancelled xxmaj flightling flights from xxup dfw this morning . xxmaj united usually first to xxunk … xxpad</td>\n",
              "      <td>positive</td>\n",
              "      <td>negative</td>\n",
              "    </tr>\n",
              "    <tr>\n",
              "      <td>xxbos xxmaj i 'm a huge fan and give y' all too much business … so please fix the damn wifi ! xxpad</td>\n",
              "      <td>negative</td>\n",
              "      <td>positive</td>\n",
              "    </tr>\n",
              "    <tr>\n",
              "      <td>xxbos please … xxunk i have the last tickets for me and my best friend to # destinationdragons http : / / t.co / xxunk xxpad</td>\n",
              "      <td>neutral</td>\n",
              "      <td>positive</td>\n",
              "    </tr>\n",
              "    <tr>\n",
              "      <td>xxbos the xxup usa help line . i accidentally booked a flight on a thursday instead of a wednesday and want to switch xxpad</td>\n",
              "      <td>neutral</td>\n",
              "      <td>negative</td>\n",
              "    </tr>\n",
              "    <tr>\n",
              "      <td>xxbos i will do just about anything to xxup go xxup to xxup the xxup vegas xxup show xxup please xxup man xxpad</td>\n",
              "      <td>positive</td>\n",
              "      <td>neutral</td>\n",
              "    </tr>\n",
              "    <tr>\n",
              "      <td>xxbos found the flight on xxunk xxpad xxpad</td>\n",
              "      <td>neutral</td>\n",
              "      <td>negative</td>\n",
              "    </tr>\n",
              "    <tr>\n",
              "      <td>xxbos what 's the status of flight xxunk xxunk - houston ? xxpad</td>\n",
              "      <td>neutral</td>\n",
              "      <td>negative</td>\n",
              "    </tr>\n",
              "    <tr>\n",
              "      <td>xxbos flight xxunk xxup phx &gt; ord . xxmaj lead xxup fa xxmaj bill is the most professional xxup fa i have seen in 9 years of flying usair . i have no xxup xxunk cards . :-( xxpad</td>\n",
              "      <td>positive</td>\n",
              "      <td>negative</td>\n",
              "    </tr>\n",
              "    <tr>\n",
              "      <td>xxbos still there ? i was posted up in xxmaj downtown waiting for y' all . xxmaj on my way ! xxpad</td>\n",
              "      <td>neutral</td>\n",
              "      <td>negative</td>\n",
              "    </tr>\n",
              "    <tr>\n",
              "      <td>xxbos @fortunemagazine friendliest employees xxpad xxpad</td>\n",
              "      <td>positive</td>\n",
              "      <td>negative</td>\n",
              "    </tr>\n",
              "    <tr>\n",
              "      <td>xxbos xxmaj it 's a xxunk card , but i am a xxmaj dividend member .</td>\n",
              "      <td>neutral</td>\n",
              "      <td>positive</td>\n",
              "    </tr>\n",
              "    <tr>\n",
              "      <td>xxbos xxmaj xxunk :) xxpad xxpad</td>\n",
              "      <td>neutral</td>\n",
              "      <td>positive</td>\n",
              "    </tr>\n",
              "    <tr>\n",
              "      <td>xxbos “ @southwestair : xxmaj congrats to these fans who are seeing # destinationdragons in xxup xxunk . ! xxup slc , you 're next ! http : / / t.co / xxunk ” xxmaj thanks again xxup sw xxpad xxpad xxpad xxpad xxpad xxpad xxpad xxpad xxpad xxpad xxpad xxpad xxpad xxpad</td>\n",
              "      <td>neutral</td>\n",
              "      <td>positive</td>\n",
              "    </tr>\n",
              "    <tr>\n",
              "      <td>xxbos it was 639 xxpad xxpad</td>\n",
              "      <td>neutral</td>\n",
              "      <td>negative</td>\n",
              "    </tr>\n",
              "    <tr>\n",
              "      <td>xxbos where is your email address ? xxmaj its not on this page : http : / / t.co / xxunk xxpad</td>\n",
              "      <td>neutral</td>\n",
              "      <td>negative</td>\n",
              "    </tr>\n",
              "    <tr>\n",
              "      <td>xxbos xxmaj can you provide xxunk on how i should work with them to resolve the issue xxpad</td>\n",
              "      <td>neutral</td>\n",
              "      <td>negative</td>\n",
              "    </tr>\n",
              "    <tr>\n",
              "      <td>xxbos xxmaj ca n't bring up my reservation online using xxmaj flight xxmaj booking xxmaj problems code xxpad</td>\n",
              "      <td>neutral</td>\n",
              "      <td>negative</td>\n",
              "    </tr>\n",
              "    <tr>\n",
              "      <td>xxbos xxmaj get me out of this 7 degree weather … here we go ! # xxunk 🌞 ✈ ️ xxunk xxpad</td>\n",
              "      <td>neutral</td>\n",
              "      <td>negative</td>\n",
              "    </tr>\n",
              "    <tr>\n",
              "      <td>xxbos i appreciate the reply . xxup rt @southwestair : xxunk xxmaj we ’re so sorry to keep you waiting , xxmaj xxunk . xxmaj an xxmaj agent will be with you shortly … xxunk xxpad xxpad</td>\n",
              "      <td>positive</td>\n",
              "      <td>negative</td>\n",
              "    </tr>\n",
              "    <tr>\n",
              "      <td>xxbos me too . xxmaj me too . xxpad</td>\n",
              "      <td>neutral</td>\n",
              "      <td>negative</td>\n",
              "    </tr>\n",
              "    <tr>\n",
              "      <td>xxbos no not yet . xxmaj waiting to be connected to an agent xxpad</td>\n",
              "      <td>neutral</td>\n",
              "      <td>negative</td>\n",
              "    </tr>\n",
              "    <tr>\n",
              "      <td>xxbos thanks for reaching out to me . xxmaj my xxmaj gold xxmaj div no . xxunk . xxmaj my xxmaj flights were changed under xxmaj confirmation # xxup xxunk .</td>\n",
              "      <td>positive</td>\n",
              "      <td>negative</td>\n",
              "    </tr>\n",
              "    <tr>\n",
              "      <td>xxbos awesome . i flew y all xxmaj sat morning . xxmaj any way we can correct my bill ? xxpad</td>\n",
              "      <td>positive</td>\n",
              "      <td>negative</td>\n",
              "    </tr>\n",
              "    <tr>\n",
              "      <td>xxbos xxmaj not necessary . i am confident the excellent in - flight staff will make the appropriate report . xxpad</td>\n",
              "      <td>positive</td>\n",
              "      <td>negative</td>\n",
              "    </tr>\n",
              "    <tr>\n",
              "      <td>xxbos where is xxunk ? xxpad</td>\n",
              "      <td>neutral</td>\n",
              "      <td>negative</td>\n",
              "    </tr>\n",
              "    <tr>\n",
              "      <td>xxbos xxmaj am on web site requesting refund for xxmaj cancelled xxmaj flightled flight . xxmaj it requires xxunk document number . xxmaj where get it ? xxpad</td>\n",
              "      <td>neutral</td>\n",
              "      <td>negative</td>\n",
              "    </tr>\n",
              "    <tr>\n",
              "      <td>xxbos once again on xxmaj xxunk 's xxmaj best xxmaj places xxmaj to xxmaj work xxunk # 15 overall # xxunk # xxunk xxpad</td>\n",
              "      <td>neutral</td>\n",
              "      <td>positive</td>\n",
              "    </tr>\n",
              "    <tr>\n",
              "      <td>xxbos look what i xxunk at xxmaj uvf http : / / t.co / xxunk xxunk</td>\n",
              "      <td>neutral</td>\n",
              "      <td>negative</td>\n",
              "    </tr>\n",
              "    <tr>\n",
              "      <td>xxbos i ended up on a flight to xxup la my fourth time on standby . xxmaj thanks ! http : / / t.co / xxup xxunk xxpad</td>\n",
              "      <td>positive</td>\n",
              "      <td>neutral</td>\n",
              "    </tr>\n",
              "    <tr>\n",
              "      <td>xxbos maybe on my return trip 👍 xxpad</td>\n",
              "      <td>positive</td>\n",
              "      <td>negative</td>\n",
              "    </tr>\n",
              "    <tr>\n",
              "      <td>xxbos app just reminded me i will be flying to # xxup fll in 2 weeks . # xxunk # xxunk xxunk # family # friends # sunshine</td>\n",
              "      <td>positive</td>\n",
              "      <td>neutral</td>\n",
              "    </tr>\n",
              "    <tr>\n",
              "      <td>xxbos the person is currently xxunk gates xxunk and 73 in xxup lax xxpad</td>\n",
              "      <td>neutral</td>\n",
              "      <td>negative</td>\n",
              "    </tr>\n",
              "    <tr>\n",
              "      <td>xxbos how long is that flight ? http : / / t.co / xxunk xxpad</td>\n",
              "      <td>neutral</td>\n",
              "      <td>negative</td>\n",
              "    </tr>\n",
              "    <tr>\n",
              "      <td>xxbos xxmaj yesterday , xxmaj i 'm sorted now .</td>\n",
              "      <td>neutral</td>\n",
              "      <td>negative</td>\n",
              "    </tr>\n",
              "    <tr>\n",
              "      <td>xxbos .@jetblue xxmaj wish you would make xxmaj austin , xxup tx a hub . xxmaj missing you as my “ only ” airline for all my biz travel since i moved from xxup bos . :( xxpad xxpad</td>\n",
              "      <td>positive</td>\n",
              "      <td>neutral</td>\n",
              "    </tr>\n",
              "    <tr>\n",
              "      <td>xxbos question : are there xxunk xxunk xxunk outlets in all planes ? xxmaj if so , where ? xxpad</td>\n",
              "      <td>neutral</td>\n",
              "      <td>negative</td>\n",
              "    </tr>\n",
              "    <tr>\n",
              "      <td>xxbos xxmaj your staff , both on deck and in the cabin on xxup xxunk xxup sfo - &gt; xxup bos were exceptional today . xxmaj please tell them well done :) xxpad</td>\n",
              "      <td>positive</td>\n",
              "      <td>negative</td>\n",
              "    </tr>\n",
              "    <tr>\n",
              "      <td>xxbos http : / / t.co / xxunk , xxunk , xxunk sell too cheap xxup mad - nyc with usairways . xxmaj are they trusted xxunk or is it a scam ? xxpad</td>\n",
              "      <td>neutral</td>\n",
              "      <td>negative</td>\n",
              "    </tr>\n",
              "    <tr>\n",
              "      <td>xxbos ca n’t access your website from xxmaj safari on iphone 6 . xxmaj seems to work on xxmaj xxunk and ipad . xxmaj need iphone to add xxmaj passbook .</td>\n",
              "      <td>negative</td>\n",
              "      <td>neutral</td>\n",
              "    </tr>\n",
              "    <tr>\n",
              "      <td>xxbos xxunk @jetblue \\n in xxmaj customer xxmaj service ? \\n xxmaj who will win ! \\n xxmaj for xxmaj me @americanair is a xxunk to a trip to xxmaj cali &lt;3 xxpad</td>\n",
              "      <td>positive</td>\n",
              "      <td>neutral</td>\n",
              "    </tr>\n",
              "    <tr>\n",
              "      <td>xxbos xxunk . xxmaj just landed in xxup lit .</td>\n",
              "      <td>neutral</td>\n",
              "      <td>negative</td>\n",
              "    </tr>\n",
              "    <tr>\n",
              "      <td>xxbos xxmaj oh they seem to have xxunk now lol</td>\n",
              "      <td>neutral</td>\n",
              "      <td>negative</td>\n",
              "    </tr>\n",
              "    <tr>\n",
              "      <td>xxbos i will give it a couple more weeks . xxmaj thank you . xxpad</td>\n",
              "      <td>neutral</td>\n",
              "      <td>positive</td>\n",
              "    </tr>\n",
              "    <tr>\n",
              "      <td>xxbos how about xxunk xxup xxunk - ord ? xxpad</td>\n",
              "      <td>neutral</td>\n",
              "      <td>negative</td>\n",
              "    </tr>\n",
              "    <tr>\n",
              "      <td>xxbos xxmaj view of downtown xxmaj xxunk xxmaj xxunk , the xxmaj xxunk xxmaj sign , and beyond that rain in the xxunk ! http : / / t.co / xxmaj xxunk xxpad</td>\n",
              "      <td>positive</td>\n",
              "      <td>neutral</td>\n",
              "    </tr>\n",
              "    <tr>\n",
              "      <td>xxbos the child is two years old xxpad</td>\n",
              "      <td>neutral</td>\n",
              "      <td>negative</td>\n",
              "    </tr>\n",
              "    <tr>\n",
              "      <td>xxbos lol the fleet on fleek … i see y all xxunk … new jets on deck .. xxpad</td>\n",
              "      <td>neutral</td>\n",
              "      <td>positive</td>\n",
              "    </tr>\n",
              "    <tr>\n",
              "      <td>xxbos xxmaj the xxmaj fact xxmaj that u xxmaj see xxmaj black xxmaj history xxmaj month 12 xxmaj months a xxmaj year xxmaj is xxmaj xxunk ! xxmaj we xxup will xxup be xxmaj an xxmaj xxunk xxmaj base xxmaj for xxmaj corp . xxmaj like u xxmaj in xxmaj future ! xxpad</td>\n",
              "      <td>positive</td>\n",
              "      <td>neutral</td>\n",
              "    </tr>\n",
              "    <tr>\n",
              "      <td>xxbos xxmaj thanks - it 's very helpful to understand that the xxunk price seats that are sold at check - in have priority over the certificates .</td>\n",
              "      <td>positive</td>\n",
              "      <td>negative</td>\n",
              "    </tr>\n",
              "    <tr>\n",
              "      <td>xxbos xxmaj aw , thanks for the kind words . xxmaj totally makes these extra 6 hours sitting in an airport s xxrep 4 o much better .</td>\n",
              "      <td>positive</td>\n",
              "      <td>negative</td>\n",
              "    </tr>\n",
              "    <tr>\n",
              "      <td>xxbos xxmaj happy # xxup xxunk to my friends @americanair . xxmaj hope the weather is n't causing you too many headaches . xxpad</td>\n",
              "      <td>positive</td>\n",
              "      <td>negative</td>\n",
              "    </tr>\n",
              "    <tr>\n",
              "      <td>xxbos what are the chances you will be xxmaj cancelled xxmaj flighting all flights in and out of xxmaj nashville again ? xxpad</td>\n",
              "      <td>negative</td>\n",
              "      <td>neutral</td>\n",
              "    </tr>\n",
              "    <tr>\n",
              "      <td>xxbos missed my flight . xxmaj how does standby work ? xxpad</td>\n",
              "      <td>neutral</td>\n",
              "      <td>negative</td>\n",
              "    </tr>\n",
              "    <tr>\n",
              "      <td>xxbos no , i have a pricey xxmaj chase xxmaj mileage xxmaj plus xxup cc .</td>\n",
              "      <td>neutral</td>\n",
              "      <td>negative</td>\n",
              "    </tr>\n",
              "    <tr>\n",
              "      <td>xxbos xxunk used xxunk xxunk - low $ taking share from driving | now xxunk approach through data xxunk # anamarketers</td>\n",
              "      <td>neutral</td>\n",
              "      <td>negative</td>\n",
              "    </tr>\n",
              "    <tr>\n",
              "      <td>xxbos booked an award ticket recently , now same ticket is less miles . how do i contact you without using the online form or phone ? xxpad</td>\n",
              "      <td>negative</td>\n",
              "      <td>neutral</td>\n",
              "    </tr>\n",
              "    <tr>\n",
              "      <td>xxbos you need to follow me i order for me to xxup dm … . xxpad</td>\n",
              "      <td>neutral</td>\n",
              "      <td>negative</td>\n",
              "    </tr>\n",
              "    <tr>\n",
              "      <td>xxbos unfortunately not . i think i watched it take off from the bus . xxmaj rebooked for a xxmaj late xxmaj flightr flight now # xxunk xxpad</td>\n",
              "      <td>neutral</td>\n",
              "      <td>negative</td>\n",
              "    </tr>\n",
              "    <tr>\n",
              "      <td>xxbos it 's cool . i did n't need to go to work today . xxmaj or get home to make sure my house is ok in the xxunk wind chill . xxpad</td>\n",
              "      <td>neutral</td>\n",
              "      <td>negative</td>\n",
              "    </tr>\n",
              "    <tr>\n",
              "      <td>xxbos can not add my frequent flyer number on your website . xxmaj can you help ? xxpad</td>\n",
              "      <td>negative</td>\n",
              "      <td>neutral</td>\n",
              "    </tr>\n",
              "    <tr>\n",
              "      <td>xxbos i know that . xxmaj thanks for the standard reply . xxpad</td>\n",
              "      <td>negative</td>\n",
              "      <td>positive</td>\n",
              "    </tr>\n",
              "    <tr>\n",
              "      <td>xxbos xxmaj is it true , as xxunk are saying , that you have no way to collect money from passengers ( after door xxunk ) who want a xxup mce seat ? xxpad</td>\n",
              "      <td>neutral</td>\n",
              "      <td>negative</td>\n",
              "    </tr>\n",
              "    <tr>\n",
              "      <td>xxbos xxmaj need more info on that ! @united : xxunk xxmaj we have great xxunk xxunk . xxunk 's not included . xxmaj we status match xxup aa . ^kp ” xxpad</td>\n",
              "      <td>neutral</td>\n",
              "      <td>negative</td>\n",
              "    </tr>\n",
              "    <tr>\n",
              "      <td>xxbos are you trying to break a world record for most delayed flights in a year ? xxpad</td>\n",
              "      <td>negative</td>\n",
              "      <td>neutral</td>\n",
              "    </tr>\n",
              "    <tr>\n",
              "      <td>xxbos @jms2802 : outsource it all xxmaj united xxmaj airlines … your customers are just loving you for it . xxmaj outsource . xxmaj outsource . xxmaj outsource . xxpad</td>\n",
              "      <td>positive</td>\n",
              "      <td>negative</td>\n",
              "    </tr>\n",
              "    <tr>\n",
              "      <td>xxbos thanks ! xxmaj makes sense . xxmaj just annoying that it ca n't be xxunk better . xxpad</td>\n",
              "      <td>negative</td>\n",
              "      <td>positive</td>\n",
              "    </tr>\n",
              "    <tr>\n",
              "      <td>xxbos xxmaj on flight xxunk tomorrow ( we d 2 / 18 ) xxup den - bna . xxmaj will we be delayed or xxmaj cancelled xxmaj flightled ? xxpad</td>\n",
              "      <td>neutral</td>\n",
              "      <td>negative</td>\n",
              "    </tr>\n",
              "    <tr>\n",
              "      <td>xxbos xxmaj international xxpad</td>\n",
              "      <td>neutral</td>\n",
              "      <td>negative</td>\n",
              "    </tr>\n",
              "    <tr>\n",
              "      <td>xxbos i am just wondering when are you going to open up fares for xxmaj november ? xxpad</td>\n",
              "      <td>neutral</td>\n",
              "      <td>negative</td>\n",
              "    </tr>\n",
              "    <tr>\n",
              "      <td>xxbos thanks for making the worst fly experience ever . xxmaj will never book again with your airline . xxmaj train your flight attendants better . xxpad</td>\n",
              "      <td>negative</td>\n",
              "      <td>positive</td>\n",
              "    </tr>\n",
              "    <tr>\n",
              "      <td>xxbos we have n't departed yet so let 's not get too high hopes . xxmaj but everything has been on schedule so far</td>\n",
              "      <td>positive</td>\n",
              "      <td>negative</td>\n",
              "    </tr>\n",
              "    <tr>\n",
              "      <td>xxbos we even offered to fly in to another airport and they said they could n't do that . xxmaj no explanation why they ca n't . xxpad</td>\n",
              "      <td>neutral</td>\n",
              "      <td>negative</td>\n",
              "    </tr>\n",
              "    <tr>\n",
              "      <td>xxbos whatever your lil # mint heart xxunk ! http : / / t.co / xxunk</td>\n",
              "      <td>neutral</td>\n",
              "      <td>negative</td>\n",
              "    </tr>\n",
              "    <tr>\n",
              "      <td>xxbos myself and 2 others xxpad</td>\n",
              "      <td>neutral</td>\n",
              "      <td>negative</td>\n",
              "    </tr>\n",
              "    <tr>\n",
              "      <td>xxbos them and @americanair xxpad xxpad</td>\n",
              "      <td>negative</td>\n",
              "      <td>positive</td>\n",
              "    </tr>\n",
              "    <tr>\n",
              "      <td>xxbos i was going to change it to tomorrow because i am concerned if the xxunk does make i wo n't be able to leave the airport 1 / 2</td>\n",
              "      <td>neutral</td>\n",
              "      <td>negative</td>\n",
              "    </tr>\n",
              "    <tr>\n",
              "      <td>xxbos unfortunately i do n't even have that . xxmaj my phone died before o had a chance to xxunk it . xxmaj it was from xxup oma to xxup san from 3 / 27 - 4 / 2 xxpad xxpad xxpad xxpad xxpad xxpad xxpad xxpad xxpad xxpad xxpad xxpad xxpad xxpad</td>\n",
              "      <td>neutral</td>\n",
              "      <td>negative</td>\n",
              "    </tr>\n",
              "    <tr>\n",
              "      <td>xxbos @americanair can someone help me with some travel issues today ? xxpad</td>\n",
              "      <td>neutral</td>\n",
              "      <td>negative</td>\n",
              "    </tr>\n",
              "    <tr>\n",
              "      <td>xxbos no thanks xxpad</td>\n",
              "      <td>neutral</td>\n",
              "      <td>negative</td>\n",
              "    </tr>\n",
              "    <tr>\n",
              "      <td>xxbos returned from vacation + went to luggage services . xxmaj golf bag was presented in clear wrap that could 've been used in the first place .</td>\n",
              "      <td>neutral</td>\n",
              "      <td>negative</td>\n",
              "    </tr>\n",
              "    <tr>\n",
              "      <td>xxbos xxmaj there is nothing on my usair xxup cc at this point , but the email stated i would be charged . xxmaj thanks for the reply .</td>\n",
              "      <td>neutral</td>\n",
              "      <td>negative</td>\n",
              "    </tr>\n",
              "    <tr>\n",
              "      <td>xxbos xxunk i heard you re planning on letting people fly in the overhead xxunk . why would you do that ? xxpad</td>\n",
              "      <td>neutral</td>\n",
              "      <td>negative</td>\n",
              "    </tr>\n",
              "    <tr>\n",
              "      <td>xxbos first airline to use # xxunk in flight # airlines xxpad</td>\n",
              "      <td>positive</td>\n",
              "      <td>negative</td>\n",
              "    </tr>\n",
              "    <tr>\n",
              "      <td>xxbos xxmaj hi , booked a flight yesterday and received an email w / confirmation number but today i got this error \" no active flight segments \"</td>\n",
              "      <td>neutral</td>\n",
              "      <td>negative</td>\n",
              "    </tr>\n",
              "    <tr>\n",
              "      <td>xxbos yay for xxunk tracking system ! xxmaj my bags made it to my destination and not xxmaj laguardia like the app said !</td>\n",
              "      <td>negative</td>\n",
              "      <td>positive</td>\n",
              "    </tr>\n",
              "    <tr>\n",
              "      <td>xxbos thanks for xxup not ! xxmaj sending me an update that our flight was delayed 3 hours . xxmaj unbelievable ! xxpad</td>\n",
              "      <td>negative</td>\n",
              "      <td>positive</td>\n",
              "    </tr>\n",
              "    <tr>\n",
              "      <td>xxbos no thanks xxpad</td>\n",
              "      <td>neutral</td>\n",
              "      <td>negative</td>\n",
              "    </tr>\n",
              "    <tr>\n",
              "      <td>xxbos @amybruni xxmaj no wifi on this flight so we ca n't tweet you our xxmaj oscar party pics at 37 , xxrep 3 0 ft . # xxunk :-( xxup sea ✈ xxunk</td>\n",
              "      <td>negative</td>\n",
              "      <td>neutral</td>\n",
              "    </tr>\n",
              "    <tr>\n",
              "      <td>xxbos xxmaj even though this flight # xxunk did n't have much needed hot xxunk 4 us ny - xxunk , the landing was super smooth 👍 👍 😊 # xxunk</td>\n",
              "      <td>positive</td>\n",
              "      <td>negative</td>\n",
              "    </tr>\n",
              "    <tr>\n",
              "      <td>xxbos xxmaj haha ! @jetblue : xxmaj our fleet 's on fleek . http : / / t.co / xxunk ”</td>\n",
              "      <td>negative</td>\n",
              "      <td>neutral</td>\n",
              "    </tr>\n",
              "    <tr>\n",
              "      <td>xxbos xxup aa xxmaj gate xxmaj supervisor xxunk xxunk allowed flight xxup xxunk to leave xxup jfk to xxup xxunk on xxunk w / o 8 customers that made final boarding call . xxpad</td>\n",
              "      <td>neutral</td>\n",
              "      <td>negative</td>\n",
              "    </tr>\n",
              "    <tr>\n",
              "      <td>xxbos xxmaj it 's xxunk . xxmaj we boarded and we are waiting now to take off , hopefully . xxpad</td>\n",
              "      <td>neutral</td>\n",
              "      <td>negative</td>\n",
              "    </tr>\n",
              "    <tr>\n",
              "      <td>xxbos xxmaj thanks . xxmaj i 'm finding lower fares already on other carriers with direct flights . xxmaj july 8 - 13 .</td>\n",
              "      <td>positive</td>\n",
              "      <td>negative</td>\n",
              "    </tr>\n",
              "    <tr>\n",
              "      <td>xxbos i d appreciate that . xxmaj would also you mind contacting the pilot of my flight and request that i be allowed to announce over intercom ?</td>\n",
              "      <td>neutral</td>\n",
              "      <td>negative</td>\n",
              "    </tr>\n",
              "    <tr>\n",
              "      <td>xxbos @united xxunk xxunk xxunk xxunk xxup bs that # xxmaj xxunk # xxmaj late xxmaj flight # xxunk http : / / t.co / xxunk xxpad</td>\n",
              "      <td>negative</td>\n",
              "      <td>neutral</td>\n",
              "    </tr>\n",
              "    <tr>\n",
              "      <td>xxbos i need the phone number to baggage claim in xxup lax , my mom left her phone and someone called saying they would put it there but on</td>\n",
              "      <td>neutral</td>\n",
              "      <td>negative</td>\n",
              "    </tr>\n",
              "    <tr>\n",
              "      <td>xxbos xxup just xxup landed flight 545 . xxmaj any chance of making flight xxunk xxmaj phoenix to xxup aus xxpad</td>\n",
              "      <td>neutral</td>\n",
              "      <td>negative</td>\n",
              "    </tr>\n",
              "    <tr>\n",
              "      <td>xxbos i clear that folder xxunk and jetblue is white listed so it never got to me . xxpad</td>\n",
              "      <td>neutral</td>\n",
              "      <td>negative</td>\n",
              "    </tr>\n",
              "    <tr>\n",
              "      <td>xxbos have xxmaj xxunk at xxup xxunk xxup ord train your other staff on how to treat customers . a xxunk pleasure to deal with . xxpad</td>\n",
              "      <td>positive</td>\n",
              "      <td>negative</td>\n",
              "    </tr>\n",
              "    <tr>\n",
              "      <td>xxbos wish you flew out of xxmaj atlanta … xxmaj soon ? xxpad</td>\n",
              "      <td>neutral</td>\n",
              "      <td>positive</td>\n",
              "    </tr>\n",
              "    <tr>\n",
              "      <td>xxbos your ticket agents at gate 4 in xxmaj providence airport rocked tonight , especially xxmaj xxunk , sorry if that is not the correct xxunk . xxpad</td>\n",
              "      <td>positive</td>\n",
              "      <td>negative</td>\n",
              "    </tr>\n",
              "    <tr>\n",
              "      <td>xxbos can i get a free xxunk to compensate my flight delay ( yet again ) thx</td>\n",
              "      <td>negative</td>\n",
              "      <td>neutral</td>\n",
              "    </tr>\n",
              "    <tr>\n",
              "      <td>xxbos xxmaj excited that xxmaj i 'll be flying from xxmaj syracuse to interview in xxmaj dallas on xxmaj friday for the xxup fa xxunk this is a goal &amp; &amp; dream of mine !</td>\n",
              "      <td>positive</td>\n",
              "      <td>neutral</td>\n",
              "    </tr>\n",
              "    <tr>\n",
              "      <td>xxbos when are you xxunk your flights for xxmaj september ? xxmaj just found out you fly direct xxunk to las ! xxmaj so excited ! # xxunk</td>\n",
              "      <td>positive</td>\n",
              "      <td>neutral</td>\n",
              "    </tr>\n",
              "    <tr>\n",
              "      <td>xxbos will do ! # heart # flying xxpad</td>\n",
              "      <td>neutral</td>\n",
              "      <td>positive</td>\n",
              "    </tr>\n",
              "    <tr>\n",
              "      <td>xxbos xxmaj yes , thanks i found those , did n't see the xxunk tab at first :) xxpad</td>\n",
              "      <td>neutral</td>\n",
              "      <td>positive</td>\n",
              "    </tr>\n",
              "    <tr>\n",
              "      <td>xxbos xxmaj thank you ! xxpad</td>\n",
              "      <td>neutral</td>\n",
              "      <td>positive</td>\n",
              "    </tr>\n",
              "    <tr>\n",
              "      <td>xxbos xxmaj are the hours of operation for the xxmaj club at xxup sfo that are posted online current ? xxpad</td>\n",
              "      <td>neutral</td>\n",
              "      <td>negative</td>\n",
              "    </tr>\n",
              "    <tr>\n",
              "      <td>xxbos @united . xxmaj thanks xxmaj united for the no running water and xxmaj late xxmaj flight flight from xxmaj grand xxmaj xxunk to xxmaj denver xxpad</td>\n",
              "      <td>negative</td>\n",
              "      <td>positive</td>\n",
              "    </tr>\n",
              "    <tr>\n",
              "      <td>xxbos xxmaj y' all need to get it together xxpad</td>\n",
              "      <td>neutral</td>\n",
              "      <td>negative</td>\n",
              "    </tr>\n",
              "    <tr>\n",
              "      <td>xxbos @imaginedragons xxunk well timed tweet , just boarded and will be listening on my way home ! xxpad</td>\n",
              "      <td>positive</td>\n",
              "      <td>negative</td>\n",
              "    </tr>\n",
              "    <tr>\n",
              "      <td>xxbos my daughter 's college game in xxmaj denver . xxmaj only one set of parents will be there xxrep 3 😢 xxpad</td>\n",
              "      <td>neutral</td>\n",
              "      <td>negative</td>\n",
              "    </tr>\n",
              "    <tr>\n",
              "      <td>xxbos probably had money on xxunk they said to hell with @cowboycerrone lol xxpad</td>\n",
              "      <td>neutral</td>\n",
              "      <td>negative</td>\n",
              "    </tr>\n",
              "    <tr>\n",
              "      <td>xxbos xxmaj can a pair of tickets waiting for me after my xxunk practice ? i live here and definitely know where that is ! @imaginedragons xxpad</td>\n",
              "      <td>positive</td>\n",
              "      <td>neutral</td>\n",
              "    </tr>\n",
              "    <tr>\n",
              "      <td>xxbos i was not the one traveling . i was asking for my sister who was waiting on my nephew in xxmaj midland … flight eventually landed xxpad</td>\n",
              "      <td>neutral</td>\n",
              "      <td>negative</td>\n",
              "    </tr>\n",
              "    <tr>\n",
              "      <td>xxbos flight xxunk xxup jfk to xxup tpa xxunk on xxmaj saturday ! xxmaj one way ticket ! xxpad</td>\n",
              "      <td>neutral</td>\n",
              "      <td>negative</td>\n",
              "    </tr>\n",
              "    <tr>\n",
              "      <td>xxbos is my favorite airline ! i ca n't wait to book my flight to xxmaj new xxmaj orleans for my trip in xxmaj april ! ! :) :)</td>\n",
              "      <td>positive</td>\n",
              "      <td>neutral</td>\n",
              "    </tr>\n",
              "    <tr>\n",
              "      <td>xxbos landed safely everything worked out . xxpad</td>\n",
              "      <td>positive</td>\n",
              "      <td>negative</td>\n",
              "    </tr>\n",
              "    <tr>\n",
              "      <td>xxbos allows you to change a flight once for no fee , yay ! i will always book flights with them . @americanair changes you $ 200 xxpad</td>\n",
              "      <td>positive</td>\n",
              "      <td>negative</td>\n",
              "    </tr>\n",
              "    <tr>\n",
              "      <td>xxbos xxmaj congrats on winning the xxunk award for xxmaj best xxmaj deals from an xxmaj airline ( us ) http : / / t.co / xxunk xxpad</td>\n",
              "      <td>positive</td>\n",
              "      <td>neutral</td>\n",
              "    </tr>\n",
              "    <tr>\n",
              "      <td>xxbos think flight xxunk from xxup bna to xxup lax will get off the ground tomorrow xxrep 3 ? # please # xxunk xxpad</td>\n",
              "      <td>neutral</td>\n",
              "      <td>negative</td>\n",
              "    </tr>\n",
              "    <tr>\n",
              "      <td>xxbos xxunk on the terminal , what ' the best option ? xxmaj arrive xxup c , depart xxup xxunk xxmaj breakfast xxunk is what xxmaj i 'm xxunk .. xxmaj any update on xxrep 3 1 9 ? xxpad xxpad xxpad xxpad xxpad xxpad xxpad xxpad xxpad xxpad xxpad xxpad xxpad xxpad</td>\n",
              "      <td>neutral</td>\n",
              "      <td>negative</td>\n",
              "    </tr>\n",
              "    <tr>\n",
              "      <td>xxbos i need # xxmaj united to be a better airline ! ! xxpad</td>\n",
              "      <td>negative</td>\n",
              "      <td>positive</td>\n",
              "    </tr>\n",
              "    <tr>\n",
              "      <td>xxbos xxmaj i 'd like the xxunk i originally tried for @americanair - again , happy to pay the difference xxpad</td>\n",
              "      <td>neutral</td>\n",
              "      <td>negative</td>\n",
              "    </tr>\n",
              "    <tr>\n",
              "      <td>xxbos xxmaj haha . i figured that . i was meaning there 's no return flights out of xxmaj charlotte . xxmaj it 's like n / a for a week plus xxpad</td>\n",
              "      <td>neutral</td>\n",
              "      <td>negative</td>\n",
              "    </tr>\n",
              "    <tr>\n",
              "      <td>xxbos thanks . xxmaj not tonight it would seem . http : / / t.co / xxunk</td>\n",
              "      <td>neutral</td>\n",
              "      <td>negative</td>\n",
              "    </tr>\n",
              "    <tr>\n",
              "      <td>xxbos was wondering if you guys recieved my dm and we 're able to xxunk respond asap</td>\n",
              "      <td>neutral</td>\n",
              "      <td>negative</td>\n",
              "    </tr>\n",
              "    <tr>\n",
              "      <td>xxbos xxunk there s only one flt xxup phl - xxunk per day . xxpad</td>\n",
              "      <td>neutral</td>\n",
              "      <td>negative</td>\n",
              "    </tr>\n",
              "    <tr>\n",
              "      <td>xxbos @usairways xxmaj yes , obviously ! xxmaj it just stinks that 4 pm is the one option when she was supposed to fly at 7 am xxup yesterday .</td>\n",
              "      <td>neutral</td>\n",
              "      <td>negative</td>\n",
              "    </tr>\n",
              "    <tr>\n",
              "      <td>xxbos xxmaj after an hour+ wait , my issue is resolved . i did contact customer service to comment on the wait time . xxmaj thanks for contacting me .</td>\n",
              "      <td>positive</td>\n",
              "      <td>negative</td>\n",
              "    </tr>\n",
              "    <tr>\n",
              "      <td>xxbos xxmaj offering xxmaj special xxmaj fares to xxunk xxunk http : / / t.co / xxunk xxunk xxunk http : / / t.co / xxunk xxpad</td>\n",
              "      <td>neutral</td>\n",
              "      <td>positive</td>\n",
              "    </tr>\n",
              "    <tr>\n",
              "      <td>xxbos flight 435 xxpad</td>\n",
              "      <td>neutral</td>\n",
              "      <td>negative</td>\n",
              "    </tr>\n",
              "    <tr>\n",
              "      <td>xxbos i saw it finally come through on the mobile app . xxmaj however it 's for tomorrow and i have meetings tonight that xxmaj i 'm trying to make .</td>\n",
              "      <td>neutral</td>\n",
              "      <td>negative</td>\n",
              "    </tr>\n",
              "    <tr>\n",
              "      <td>xxbos anything yet xxup xxunk ? xxpad xxpad</td>\n",
              "      <td>neutral</td>\n",
              "      <td>negative</td>\n",
              "    </tr>\n",
              "    <tr>\n",
              "      <td>xxbos can you help me update a birthday that was incorrectly input in a reservation ? xxmaj this is xxunk me from checking in</td>\n",
              "      <td>neutral</td>\n",
              "      <td>negative</td>\n",
              "    </tr>\n",
              "    <tr>\n",
              "      <td>xxbos way to take advantage of # mayweatherpacquiao :) xxpad</td>\n",
              "      <td>neutral</td>\n",
              "      <td>negative</td>\n",
              "    </tr>\n",
              "    <tr>\n",
              "      <td>xxbos just heard # xxmaj xxunk airport was closed due to xxunk xxunk , any updates</td>\n",
              "      <td>neutral</td>\n",
              "      <td>negative</td>\n",
              "    </tr>\n",
              "    <tr>\n",
              "      <td>xxbos i have followed you . xxmaj awaiting your xxup dm . xxpad</td>\n",
              "      <td>neutral</td>\n",
              "      <td>negative</td>\n",
              "    </tr>\n",
              "    <tr>\n",
              "      <td>xxbos flt xxunk out of mht . xxmaj have fun with my kids and xxunk 10 of them ! ! xxmaj jack says hi ! http : / / t.co / xxunk xxpad</td>\n",
              "      <td>neutral</td>\n",
              "      <td>negative</td>\n",
              "    </tr>\n",
              "    <tr>\n",
              "      <td>xxbos social media team is on point on # xxunk :) xxpad</td>\n",
              "      <td>positive</td>\n",
              "      <td>negative</td>\n",
              "    </tr>\n",
              "    <tr>\n",
              "      <td>xxbos would love to do more for virgin just like i do for xxunk xxpad</td>\n",
              "      <td>positive</td>\n",
              "      <td>neutral</td>\n",
              "    </tr>\n",
              "    <tr>\n",
              "      <td>xxbos xxunk well here we go xxpad xxpad</td>\n",
              "      <td>positive</td>\n",
              "      <td>negative</td>\n",
              "    </tr>\n",
              "    <tr>\n",
              "      <td>xxbos no problem … just funny have a nice day</td>\n",
              "      <td>neutral</td>\n",
              "      <td>negative</td>\n",
              "    </tr>\n",
              "    <tr>\n",
              "      <td>xxbos “ @southwestair : xxunk xxmaj no , no , you must 've heard us wrong . xxmaj sweet xxunk , though \" 4 the record , i did n't leave the 80 's , the 80 's left me xxpad xxpad xxpad xxpad xxpad xxpad xxpad xxpad xxpad xxpad xxpad xxpad xxpad</td>\n",
              "      <td>neutral</td>\n",
              "      <td>negative</td>\n",
              "    </tr>\n",
              "    <tr>\n",
              "      <td>xxbos @virginamerica , the only airline based in xxmaj xxunk xxmaj xxunk ! # xxunk # xxunk # xxunk xxunk 's http : / / t.co / xxunk</td>\n",
              "      <td>positive</td>\n",
              "      <td>neutral</td>\n",
              "    </tr>\n",
              "    <tr>\n",
              "      <td>xxbos i have a little more time then that .. lol . xxmaj well actually a lot more . 36 days more . xxmaj but xxmaj i 'm just excited ! ! xxpad</td>\n",
              "      <td>positive</td>\n",
              "      <td>negative</td>\n",
              "    </tr>\n",
              "    <tr>\n",
              "      <td>xxbos xxmaj how can we get refund instead of credit for flight that you xxmaj cancelled xxmaj flightled ? xxmaj we could n't switch to a flight tomorrow .</td>\n",
              "      <td>neutral</td>\n",
              "      <td>negative</td>\n",
              "    </tr>\n",
              "    <tr>\n",
              "      <td>xxbos so what about xxmaj california xxpad xxpad</td>\n",
              "      <td>neutral</td>\n",
              "      <td>negative</td>\n",
              "    </tr>\n",
              "    <tr>\n",
              "      <td>xxbos flight xxunk to xxmaj boston delayed due to weather in xxmaj tampa ? xxpad</td>\n",
              "      <td>neutral</td>\n",
              "      <td>negative</td>\n",
              "    </tr>\n",
              "    <tr>\n",
              "      <td>xxbos xxup ua flight xxunk . xxup sfo to xxup lax took my carry on at gate . xxmaj i 'm xxmaj group 2 , overhead bins are empty</td>\n",
              "      <td>neutral</td>\n",
              "      <td>negative</td>\n",
              "    </tr>\n",
              "    <tr>\n",
              "      <td>xxbos “ @jetblue : xxunk xxmaj why not ? xxmaj we 'd sure love to see you , xxmaj xxunk ! # xxunk # xxunk ;) ” you know me too well xxunk xxpad</td>\n",
              "      <td>positive</td>\n",
              "      <td>neutral</td>\n",
              "    </tr>\n",
              "    <tr>\n",
              "      <td>xxbos xxunk deals never seem to include xxup xxunk or xxup xxunk … wish they did !</td>\n",
              "      <td>neutral</td>\n",
              "      <td>negative</td>\n",
              "    </tr>\n",
              "    <tr>\n",
              "      <td>xxbos xxmaj worked like a charm . xxmaj bag was waiting on the carousel when we got to baggage claim . # xxunk # xxunk # xxunk</td>\n",
              "      <td>positive</td>\n",
              "      <td>negative</td>\n",
              "    </tr>\n",
              "    <tr>\n",
              "      <td>xxbos xxunk xxunk ! xxmaj knowing you , you will fix this ;) xxpad</td>\n",
              "      <td>positive</td>\n",
              "      <td>negative</td>\n",
              "    </tr>\n",
              "    <tr>\n",
              "      <td>xxbos yes and i would like a refund . xxpad</td>\n",
              "      <td>neutral</td>\n",
              "      <td>negative</td>\n",
              "    </tr>\n",
              "    <tr>\n",
              "      <td>xxbos “ @jetblue : xxmaj our fleet 's on fleek . http : / / t.co / xxunk ” 😐 make it stop .</td>\n",
              "      <td>negative</td>\n",
              "      <td>neutral</td>\n",
              "    </tr>\n",
              "    <tr>\n",
              "      <td>xxbos just wanted to let you know how wonderful xxmaj xxunk the gate agent was working flight xxunk xxmaj xxunk to xxmaj ase . xxmaj let her know she xxunk</td>\n",
              "      <td>positive</td>\n",
              "      <td>negative</td>\n",
              "    </tr>\n",
              "    <tr>\n",
              "      <td>xxbos you bet : ) xxpad</td>\n",
              "      <td>positive</td>\n",
              "      <td>negative</td>\n",
              "    </tr>\n",
              "    <tr>\n",
              "      <td>xxbos xxmaj i 'm in another country - please xxmaj cancelled xxmaj flight my reservation . xxmaj i 've booked through xxmaj xxunk air</td>\n",
              "      <td>neutral</td>\n",
              "      <td>negative</td>\n",
              "    </tr>\n",
              "    <tr>\n",
              "      <td>xxbos i have a disabled seat in row 6 do i get to board earlier ?</td>\n",
              "      <td>neutral</td>\n",
              "      <td>negative</td>\n",
              "    </tr>\n",
              "    <tr>\n",
              "      <td>xxbos xxunk was flight out of xxmaj houston xxpad</td>\n",
              "      <td>neutral</td>\n",
              "      <td>negative</td>\n",
              "    </tr>\n",
              "    <tr>\n",
              "      <td>xxbos &amp; &amp; @americanair what are your weight restrictions for carry on luggage ? xxmaj can find xxunk but not weight restrictions . xxup xxunk xxpad</td>\n",
              "      <td>neutral</td>\n",
              "      <td>negative</td>\n",
              "    </tr>\n",
              "    <tr>\n",
              "      <td>xxbos boarding passes now xxunk with # iphone # xxmaj passbook \\n http : / / t.co / xxunk xxpad</td>\n",
              "      <td>neutral</td>\n",
              "      <td>negative</td>\n",
              "    </tr>\n",
              "    <tr>\n",
              "      <td>xxbos i left my xxunk on the plane is there any way for me to get it back ? @united xxpad</td>\n",
              "      <td>neutral</td>\n",
              "      <td>negative</td>\n",
              "    </tr>\n",
              "    <tr>\n",
              "      <td>xxbos @derekc21 , i leave xxmaj xxunk tomorrow , back to xxmaj xxunk , xxmaj only in xxmaj delhi one night . we need to use our xxunk to make magic . xxpad</td>\n",
              "      <td>negative</td>\n",
              "      <td>neutral</td>\n",
              "    </tr>\n",
              "    <tr>\n",
              "      <td>xxbos xxunk tomorrow from xxup ric to xxup bos . xxmaj looking good or am i better rescheduling ? xxpad</td>\n",
              "      <td>neutral</td>\n",
              "      <td>negative</td>\n",
              "    </tr>\n",
              "    <tr>\n",
              "      <td>xxbos xxmaj no , it 's weird ! ! i picked other cities just to test , those worked … not the one i want . xxmaj works on phone though , so xxmaj i 'll use that . xxpad xxpad xxpad xxpad xxpad xxpad xxpad xxpad xxpad xxpad xxpad xxpad xxpad xxpad</td>\n",
              "      <td>neutral</td>\n",
              "      <td>negative</td>\n",
              "    </tr>\n",
              "    <tr>\n",
              "      <td>xxbos how it feels on flight 4251 http : / / t.co / xxunk xxpad</td>\n",
              "      <td>negative</td>\n",
              "      <td>neutral</td>\n",
              "    </tr>\n",
              "    <tr>\n",
              "      <td>xxbos xxmaj does anyone know the hold times for usairways reservations ? xxpad</td>\n",
              "      <td>neutral</td>\n",
              "      <td>negative</td>\n",
              "    </tr>\n",
              "    <tr>\n",
              "      <td>xxbos - can you tweet me the xxmaj cancelled xxmaj flight / xxunk fee for a flight ? or can i rebook under one of your xxunk ? xxmaj if so , who are xxunk ? xxpad</td>\n",
              "      <td>neutral</td>\n",
              "      <td>negative</td>\n",
              "    </tr>\n",
              "    <tr>\n",
              "      <td>xxbos you could give me free flights for life , and xxmaj i 'd still choose to purchase my tickets from a competitor .</td>\n",
              "      <td>negative</td>\n",
              "      <td>neutral</td>\n",
              "    </tr>\n",
              "    <tr>\n",
              "      <td>xxbos xxmaj stars xxunk . xxmaj connecting flight was delayed into xxup clt . xxmaj made it ! xxmaj thanks , glad to know someone is listening . xxmaj time for 80 ° in xxunk ! xxpad</td>\n",
              "      <td>positive</td>\n",
              "      <td>negative</td>\n",
              "    </tr>\n",
              "    <tr>\n",
              "      <td>xxbos xxmaj i 'm sure they did . xxmaj it 's certainly xxunk back xxmaj east today ! xxunk xxpad</td>\n",
              "      <td>neutral</td>\n",
              "      <td>positive</td>\n",
              "    </tr>\n",
              "    <tr>\n",
              "      <td>xxbos xxunk she 's on to something xxpad</td>\n",
              "      <td>neutral</td>\n",
              "      <td>negative</td>\n",
              "    </tr>\n",
              "    <tr>\n",
              "      <td>xxbos xxmaj uh xxrep 3 m we need xxunk down in dallas , tx for his tour xxrep 3 xxunk xxpad</td>\n",
              "      <td>neutral</td>\n",
              "      <td>positive</td>\n",
              "    </tr>\n",
              "    <tr>\n",
              "      <td>xxbos any ways to get through the 50 minute wait to book a flight ? xxpad</td>\n",
              "      <td>negative</td>\n",
              "      <td>neutral</td>\n",
              "    </tr>\n",
              "    <tr>\n",
              "      <td>xxbos of course xxrep 4 ! xxpad xxpad</td>\n",
              "      <td>positive</td>\n",
              "      <td>neutral</td>\n",
              "    </tr>\n",
              "    <tr>\n",
              "      <td>xxbos is the best way to re - xxunk me with my one true love , shopping in usa 's xxunk capital # newyork # xxunk http : / / t.co / xxunk xxpad</td>\n",
              "      <td>positive</td>\n",
              "      <td>neutral</td>\n",
              "    </tr>\n",
              "    <tr>\n",
              "      <td>xxbos we are off to xxmaj xxunk premium . xxmaj hoping this flight is better food , xxup tv now i know how to work it and service . xxmaj tnx</td>\n",
              "      <td>positive</td>\n",
              "      <td>negative</td>\n",
              "    </tr>\n",
              "    <tr>\n",
              "      <td>xxbos since when did you get so good again ! 4 xxunk flights in xxunk . xxmaj what a pleasure / relief you were .</td>\n",
              "      <td>positive</td>\n",
              "      <td>negative</td>\n",
              "    </tr>\n",
              "    <tr>\n",
              "      <td>xxbos stay warm - i will be passing through xxmaj chicago next week xxpad</td>\n",
              "      <td>positive</td>\n",
              "      <td>negative</td>\n",
              "    </tr>\n",
              "    <tr>\n",
              "      <td>xxbos xxmaj like i thought this was xxmaj america . xxmaj when did xxup us xxmaj airways start operating under the rules of xxunk xxmaj xxunk ?</td>\n",
              "      <td>negative</td>\n",
              "      <td>neutral</td>\n",
              "    </tr>\n",
              "    <tr>\n",
              "      <td>xxbos xxmaj whoa ! xxmaj no tag and you still saw my tweet . xxmaj flight xxunk xxup jfk to xxmaj chicago . xxmaj trying to get home to see my little brother xxunk !</td>\n",
              "      <td>negative</td>\n",
              "      <td>neutral</td>\n",
              "    </tr>\n",
              "    <tr>\n",
              "      <td>xxbos i like \" xxmaj follow @jetblue \" xxpad</td>\n",
              "      <td>positive</td>\n",
              "      <td>neutral</td>\n",
              "    </tr>\n",
              "    <tr>\n",
              "      <td>xxbos another fiasco at xxmaj national . xxmaj forever from jet to gate on xxunk flight from xxup rdu xxpad</td>\n",
              "      <td>negative</td>\n",
              "      <td>neutral</td>\n",
              "    </tr>\n",
              "    <tr>\n",
              "      <td>xxbos i wrote down the evoucher number . i got rid of the voucher when i purchased air fair xxpad</td>\n",
              "      <td>neutral</td>\n",
              "      <td>negative</td>\n",
              "    </tr>\n",
              "    <tr>\n",
              "      <td>xxbos actually we did not consider she might have made a mistake . xxmaj she did not complain beyond that she indicated it on her reservation .</td>\n",
              "      <td>neutral</td>\n",
              "      <td>negative</td>\n",
              "    </tr>\n",
              "    <tr>\n",
              "      <td>xxbos i have the emails that they are on their way xxpad</td>\n",
              "      <td>neutral</td>\n",
              "      <td>negative</td>\n",
              "    </tr>\n",
              "    <tr>\n",
              "      <td>xxbos .@jetblue process xxunk xxunk xxpad</td>\n",
              "      <td>neutral</td>\n",
              "      <td>negative</td>\n",
              "    </tr>\n",
              "    <tr>\n",
              "      <td>xxbos understand the weather , these kids need to get home ! xxmaj nice kids doing volunteer work from a xxup xxunk high school , please help</td>\n",
              "      <td>neutral</td>\n",
              "      <td>negative</td>\n",
              "    </tr>\n",
              "    <tr>\n",
              "      <td>xxbos xxmaj how do i know if my flight was xxunk a dark flight ? xxpad</td>\n",
              "      <td>neutral</td>\n",
              "      <td>negative</td>\n",
              "    </tr>\n",
              "    <tr>\n",
              "      <td>xxbos # xxunk the flight to xxmaj hell xxpad</td>\n",
              "      <td>negative</td>\n",
              "      <td>neutral</td>\n",
              "    </tr>\n",
              "    <tr>\n",
              "      <td>xxbos i ca nt look up my confirmation number at the moment on mobile . the email is no longer in my inbox</td>\n",
              "      <td>neutral</td>\n",
              "      <td>negative</td>\n",
              "    </tr>\n",
              "    <tr>\n",
              "      <td>xxbos “ @jetblue : xxmaj our fleet 's on fleek . http : / / t.co / xxunk ” + lol wow xxpad</td>\n",
              "      <td>positive</td>\n",
              "      <td>neutral</td>\n",
              "    </tr>\n",
              "    <tr>\n",
              "      <td>xxbos @united 's in - flight promo on their tv 's xxunk xxmaj xxunk xxmaj xxunk . xxmaj tough to xxunk that quickly . xxmaj not a complaint , just an xxunk . xxpad</td>\n",
              "      <td>neutral</td>\n",
              "      <td>negative</td>\n",
              "    </tr>\n",
              "    <tr>\n",
              "      <td>xxbos if i tell you i like that xxunk pick , will that get me that bump to first class ? :) xxpad</td>\n",
              "      <td>positive</td>\n",
              "      <td>neutral</td>\n",
              "    </tr>\n",
              "    <tr>\n",
              "      <td>xxbos xxmaj flight xxmaj booking xxmaj problems all my xxmaj late xxmaj flight summer travel ! xxmaj did the xxup aus - cun direct flight disappear ?</td>\n",
              "      <td>negative</td>\n",
              "      <td>neutral</td>\n",
              "    </tr>\n",
              "    <tr>\n",
              "      <td>xxbos xxmaj thank you . xxmaj but i do n’t understand . xxmaj what will you do with my feedback ?</td>\n",
              "      <td>neutral</td>\n",
              "      <td>negative</td>\n",
              "    </tr>\n",
              "    <tr>\n",
              "      <td>xxbos xxunk i did hear a last call for boarding of this flight when i was at xxup jfk a few hours ago . good luck w / flights !</td>\n",
              "      <td>neutral</td>\n",
              "      <td>negative</td>\n",
              "    </tr>\n",
              "    <tr>\n",
              "      <td>xxbos no worries . xxmaj we got thru eventually . i was just curious . xxmaj best of luck to you dealing with the weather !</td>\n",
              "      <td>positive</td>\n",
              "      <td>negative</td>\n",
              "    </tr>\n",
              "    <tr>\n",
              "      <td>xxbos @ellahenderson the highlight of being delayed # xxunk xxpad</td>\n",
              "      <td>negative</td>\n",
              "      <td>positive</td>\n",
              "    </tr>\n",
              "    <tr>\n",
              "      <td>xxbos where 's my selfie ? xxpad xxpad</td>\n",
              "      <td>positive</td>\n",
              "      <td>negative</td>\n",
              "    </tr>\n",
              "    <tr>\n",
              "      <td>xxbos xxmaj we already won the tickets but she 's totally on a beach right now . # xxunk # xxunk # xxunk http : / / t.co / xxunk</td>\n",
              "      <td>neutral</td>\n",
              "      <td>negative</td>\n",
              "    </tr>\n",
              "    <tr>\n",
              "      <td>xxbos : xxmaj we xxmaj suck -- xxmaj and xxmaj pass the xxmaj xxunk on to xxmaj us ! # usairwaysfail</td>\n",
              "      <td>negative</td>\n",
              "      <td>positive</td>\n",
              "    </tr>\n",
              "    <tr>\n",
              "      <td>xxbos xxmaj that 'd be nice ! xxmaj hoping to xxunk up enough miles to take a trip to xxmaj seattle and enjoy a perfect xxunk in the city of coffee . xxpad</td>\n",
              "      <td>positive</td>\n",
              "      <td>neutral</td>\n",
              "    </tr>\n",
              "    <tr>\n",
              "      <td>xxbos xxmaj definitely a compliment ! i really thought my bag was lost after it was sent on to another airport . xxmaj in the end i am a happy customer</td>\n",
              "      <td>positive</td>\n",
              "      <td>negative</td>\n",
              "    </tr>\n",
              "    <tr>\n",
              "      <td>xxbos despite mechanical issues and many delays followed by a xxmaj cancelled xxmaj flightlation , still getting to xxmaj vegas thanks to great gate agents !</td>\n",
              "      <td>positive</td>\n",
              "      <td>negative</td>\n",
              "    </tr>\n",
              "    <tr>\n",
              "      <td>xxbos no one yet but some , fl xxunk xxpad</td>\n",
              "      <td>neutral</td>\n",
              "      <td>negative</td>\n",
              "    </tr>\n",
              "    <tr>\n",
              "      <td>xxbos basically u right now http : / / t.co / xxunk xxpad</td>\n",
              "      <td>neutral</td>\n",
              "      <td>negative</td>\n",
              "    </tr>\n",
              "    <tr>\n",
              "      <td>xxbos where are our bags ? \\n xxmaj we have a tv show to film ! !</td>\n",
              "      <td>negative</td>\n",
              "      <td>neutral</td>\n",
              "    </tr>\n",
              "    <tr>\n",
              "      <td>xxbos job well done from your xxmaj philly employee running check , in today . ( xxunk ? ) helped us in an emergency &amp; &amp; vacation saved xxrep 3 !</td>\n",
              "      <td>positive</td>\n",
              "      <td>negative</td>\n",
              "    </tr>\n",
              "    <tr>\n",
              "      <td>xxbos .@americanair xxmaj hopefully it 's all fixed . xxmaj they 've got a new aircraft for xxunk just waiting to board .</td>\n",
              "      <td>neutral</td>\n",
              "      <td>negative</td>\n",
              "    </tr>\n",
              "    <tr>\n",
              "      <td>xxbos xxmaj jan 5 ? xxmaj that 's not summer http : / / t.co / xxunk</td>\n",
              "      <td>negative</td>\n",
              "      <td>neutral</td>\n",
              "    </tr>\n",
              "    <tr>\n",
              "      <td>xxbos i forgot to put my tsa pre number in before i checked in . xxmaj it is now in my profile but will it be on my boarding pass in the am xxpad</td>\n",
              "      <td>neutral</td>\n",
              "      <td>negative</td>\n",
              "    </tr>\n",
              "    <tr>\n",
              "      <td>xxbos thank you for reaching out to me . xxmaj hopefully my request will be fixed and i can xxunk a loyal customer .</td>\n",
              "      <td>negative</td>\n",
              "      <td>positive</td>\n",
              "    </tr>\n",
              "    <tr>\n",
              "      <td>xxbos why bro xxpad</td>\n",
              "      <td>neutral</td>\n",
              "      <td>negative</td>\n",
              "    </tr>\n",
              "    <tr>\n",
              "      <td>xxbos i left something on a plane landing at xxmaj midway last night because i am a responsible xxunk -- got a number for me to call ? xxup ty !</td>\n",
              "      <td>neutral</td>\n",
              "      <td>negative</td>\n",
              "    </tr>\n",
              "    <tr>\n",
              "      <td>xxbos - thanks for the rude customer service and 3 hour delay . xxmaj it really helped me timing xxunk for my afternoon meetings . xxmaj hello @delta !</td>\n",
              "      <td>negative</td>\n",
              "      <td>positive</td>\n",
              "    </tr>\n",
              "    <tr>\n",
              "      <td>xxbos but question : if the downgrade include losing first class do you get money back ? http : / / t.co / xxunk</td>\n",
              "      <td>neutral</td>\n",
              "      <td>negative</td>\n",
              "    </tr>\n",
              "    <tr>\n",
              "      <td>xxbos xxmaj i xxunk suggest proper information xxunk to all staff on a more timely &amp; &amp; xxunk schedule to prevent this in the future .</td>\n",
              "      <td>neutral</td>\n",
              "      <td>negative</td>\n",
              "    </tr>\n",
              "    <tr>\n",
              "      <td>xxbos xxmaj please lower my plane flight by like $ 100 bucks ! ! xxmaj xxunk # xxunk</td>\n",
              "      <td>neutral</td>\n",
              "      <td>negative</td>\n",
              "    </tr>\n",
              "    <tr>\n",
              "      <td>xxbos thanks … not sure arranged move to the earlier flight but xxmaj i 'm at the gate with a seat assignment . xxmaj super nice agent at gate xxup xxunk xxup ord xxpad</td>\n",
              "      <td>positive</td>\n",
              "      <td>negative</td>\n",
              "    </tr>\n",
              "    <tr>\n",
              "      <td>xxbos thanks for the response - flight time has passed - rebooked now xxpad</td>\n",
              "      <td>negative</td>\n",
              "      <td>positive</td>\n",
              "    </tr>\n",
              "    <tr>\n",
              "      <td>xxbos xxmaj i 'm flying your airline just out of # xxup lga xxunk xxpad</td>\n",
              "      <td>neutral</td>\n",
              "      <td>negative</td>\n",
              "    </tr>\n",
              "    <tr>\n",
              "      <td>xxbos xxunk xxmaj my lost bag lands in xxmaj hartford at xxunk tonight . xxmaj will it be delivered to xxmaj xxunk xxup ct tonight ?</td>\n",
              "      <td>negative</td>\n",
              "      <td>neutral</td>\n",
              "    </tr>\n",
              "    <tr>\n",
              "      <td>xxbos - xxmaj huge props to xxmaj xxunk at checkin in xxmaj sacramento for her help on xxmaj friday to get 3 of us home when other airlines were delayed</td>\n",
              "      <td>positive</td>\n",
              "      <td>negative</td>\n",
              "    </tr>\n",
              "    <tr>\n",
              "      <td>xxbos and thx for not responding xxpad xxpad</td>\n",
              "      <td>negative</td>\n",
              "      <td>positive</td>\n",
              "    </tr>\n",
              "    <tr>\n",
              "      <td>xxbos xxmaj all flights xxmaj cancelled xxmaj flighted :( xxmaj trip refunded without xxunk , staff extremely helpful , no complaints ! xxmaj way to handle bad weather !</td>\n",
              "      <td>positive</td>\n",
              "      <td>negative</td>\n",
              "    </tr>\n",
              "    <tr>\n",
              "      <td>xxbos said that xxup aa does not provide in - flight wifi on the routes to xxmaj china based on some federal laws , but xxmaj united does , why is that ?</td>\n",
              "      <td>negative</td>\n",
              "      <td>neutral</td>\n",
              "    </tr>\n",
              "    <tr>\n",
              "      <td>xxbos a xxrep 4 h ! xxmaj sorry , just followed . xxpad</td>\n",
              "      <td>neutral</td>\n",
              "      <td>positive</td>\n",
              "    </tr>\n",
              "    <tr>\n",
              "      <td>xxbos even on international flight xxmaj glasgow to the xxup u.s . ? xxmaj then what about orlando to xxmaj newark ? xxmaj all 90 mins ?</td>\n",
              "      <td>neutral</td>\n",
              "      <td>negative</td>\n",
              "    </tr>\n",
              "    <tr>\n",
              "      <td>xxbos xxunk xxpad xxpad</td>\n",
              "      <td>neutral</td>\n",
              "      <td>positive</td>\n",
              "    </tr>\n",
              "    <tr>\n",
              "      <td>xxbos de - icing is important ! xxpad</td>\n",
              "      <td>positive</td>\n",
              "      <td>negative</td>\n",
              "    </tr>\n",
              "    <tr>\n",
              "      <td>xxbos a report was filed with the airport police on 11th and xxunk february - i have the police case number if required</td>\n",
              "      <td>negative</td>\n",
              "      <td>neutral</td>\n",
              "    </tr>\n",
              "    <tr>\n",
              "      <td>xxbos what is the xxmaj xxunk 800 # ? xxpad</td>\n",
              "      <td>neutral</td>\n",
              "      <td>negative</td>\n",
              "    </tr>\n",
              "    <tr>\n",
              "      <td>xxbos i know you have a lot of baggage … xxmaj but i want you to know i really enjoyed being inside you . @jetblue # xxmaj jetbae</td>\n",
              "      <td>positive</td>\n",
              "      <td>negative</td>\n",
              "    </tr>\n",
              "    <tr>\n",
              "      <td>xxbos so loyal that xxmaj i 'm driving to # xxup nyc from # xxup pa , to fly xxmaj virgin , since you cut # xxmaj philly flights ;)</td>\n",
              "      <td>positive</td>\n",
              "      <td>negative</td>\n",
              "    </tr>\n",
              "    <tr>\n",
              "      <td>xxbos i will . i have to get to xxmaj xxunk . i have just 17 days to spend with my husband in his mid xxunk leave . xxmaj like to get there asap</td>\n",
              "      <td>neutral</td>\n",
              "      <td>negative</td>\n",
              "    </tr>\n",
              "    <tr>\n",
              "      <td>xxbos on flight xxunk from xxmaj nassau to xxup jfk . xxmaj not showing xxmaj cancelled xxmaj flightled yet but assuming it will be ? xxmaj any info ?</td>\n",
              "      <td>neutral</td>\n",
              "      <td>negative</td>\n",
              "    </tr>\n",
              "    <tr>\n",
              "      <td>xxbos xxmaj monday evening . xxpad</td>\n",
              "      <td>negative</td>\n",
              "      <td>positive</td>\n",
              "    </tr>\n",
              "    <tr>\n",
              "      <td>xxbos xxmaj kudos to ticket agents for # xxrep 3 2 4 for making passengers check bags that are too big to fit in overhead .</td>\n",
              "      <td>positive</td>\n",
              "      <td>negative</td>\n",
              "    </tr>\n",
              "    <tr>\n",
              "      <td>xxbos we then had to deplane , and change planes . xxpad</td>\n",
              "      <td>neutral</td>\n",
              "      <td>negative</td>\n",
              "    </tr>\n",
              "    <tr>\n",
              "      <td>xxbos i xxup would xxup do xxup anything xxup for tickets to the xxup vegas … xxup anything . i love imagine dragons so much ! !</td>\n",
              "      <td>positive</td>\n",
              "      <td>neutral</td>\n",
              "    </tr>\n",
              "    <tr>\n",
              "      <td>xxbos yes but we xxup have xxup to xxup get xxup home xxup tomorrow xxrep 4 ! xxmaj please xxpad</td>\n",
              "      <td>negative</td>\n",
              "      <td>neutral</td>\n",
              "    </tr>\n",
              "    <tr>\n",
              "      <td>xxbos xxmaj happily , flight xxunk was not delayed when a xxunk visit blew my four - yr - old 's mind . xxmaj thanks , xxmaj xxunk ! http : / / t.co / xxunk xxpad</td>\n",
              "      <td>positive</td>\n",
              "      <td>negative</td>\n",
              "    </tr>\n",
              "    <tr>\n",
              "      <td>xxbos is there a xxunk that flight xxunk from xxup dfw to xxup dtw will be delayed or xxmaj cancelled xxmaj flighted ?</td>\n",
              "      <td>neutral</td>\n",
              "      <td>negative</td>\n",
              "    </tr>\n",
              "    <tr>\n",
              "      <td>xxbos i mean . xxmaj probably inappropriate while on board .. xxmaj but , it 's on !</td>\n",
              "      <td>positive</td>\n",
              "      <td>negative</td>\n",
              "    </tr>\n",
              "    <tr>\n",
              "      <td>xxbos xxmaj just a thought ! xxpad xxpad</td>\n",
              "      <td>neutral</td>\n",
              "      <td>positive</td>\n",
              "    </tr>\n",
              "    <tr>\n",
              "      <td>xxbos xxmaj plus a xxup us xxmaj airways - you need to do something about this ! i left xxmaj philly to xxunk out xxrep 4 ! http : / / t.co / xxunk</td>\n",
              "      <td>negative</td>\n",
              "      <td>neutral</td>\n",
              "    </tr>\n",
              "    <tr>\n",
              "      <td>xxbos works with xxmaj google # chrome but not xxmaj internet xxmaj explorer . xxpad</td>\n",
              "      <td>neutral</td>\n",
              "      <td>negative</td>\n",
              "    </tr>\n",
              "    <tr>\n",
              "      <td>xxbos xxup dm sent . xxpad</td>\n",
              "      <td>neutral</td>\n",
              "      <td>negative</td>\n",
              "    </tr>\n",
              "    <tr>\n",
              "      <td>xxbos xxmaj we 've sent you more info via xxup dm . i truly hope you resolve this very quickly . # media # filmcrew # cnn # xxunk</td>\n",
              "      <td>neutral</td>\n",
              "      <td>negative</td>\n",
              "    </tr>\n",
              "    <tr>\n",
              "      <td>xxbos i especially like how you upgraded three of your crew members to first class instead of passengers . # xxunk # customerservice</td>\n",
              "      <td>positive</td>\n",
              "      <td>negative</td>\n",
              "    </tr>\n",
              "    <tr>\n",
              "      <td>xxbos thanks for the effort . i can get the xxunk . xxmaj though i will make a complaint for a refund as i am losing one business day tomorrow</td>\n",
              "      <td>positive</td>\n",
              "      <td>negative</td>\n",
              "    </tr>\n",
              "    <tr>\n",
              "      <td>xxbos thanks ! a response is better than nothing at all { xxunk , @usairways }</td>\n",
              "      <td>positive</td>\n",
              "      <td>negative</td>\n",
              "    </tr>\n",
              "    <tr>\n",
              "      <td>xxbos can i get some more leg room tonight xxup b6 304 xxpad</td>\n",
              "      <td>neutral</td>\n",
              "      <td>negative</td>\n",
              "    </tr>\n",
              "    <tr>\n",
              "      <td>xxbos xxmaj fuck you . xxpad</td>\n",
              "      <td>negative</td>\n",
              "      <td>positive</td>\n",
              "    </tr>\n",
              "    <tr>\n",
              "      <td>xxbos i am but it says y all are sold out . xxmaj me &amp; &amp; xxmaj my coworkers would need to get out first available</td>\n",
              "      <td>neutral</td>\n",
              "      <td>negative</td>\n",
              "    </tr>\n",
              "    <tr>\n",
              "      <td>xxbos i understand , thanks xxpad</td>\n",
              "      <td>neutral</td>\n",
              "      <td>positive</td>\n",
              "    </tr>\n",
              "    <tr>\n",
              "      <td>xxbos xxmaj huge thanks for fixing our flights ! appreciate the customer service . now if only i could get seats assigned : me next to my wife</td>\n",
              "      <td>positive</td>\n",
              "      <td>negative</td>\n",
              "    </tr>\n",
              "    <tr>\n",
              "      <td>xxbos sorry , should have specified i meant ground traffic trying to get into the terminal</td>\n",
              "      <td>neutral</td>\n",
              "      <td>negative</td>\n",
              "    </tr>\n",
              "    <tr>\n",
              "      <td>xxbos : xxmaj unhappy with xxmaj united 's service ? \\n\\n xxmaj read xxmaj xxunk xxmaj xxunk 's open letter to ual 's xxup ceo . \\n\\n xxmaj leave a comment or xxup rt . \\n\\n http : / / t.co / xxunk xxpad xxpad xxpad xxpad xxpad xxpad xxpad xxpad xxpad xxpad</td>\n",
              "      <td>negative</td>\n",
              "      <td>neutral</td>\n",
              "    </tr>\n",
              "    <tr>\n",
              "      <td>xxbos when i read it say ' in some xxunk ' can you please define this for me , when for example would it not be the case ?</td>\n",
              "      <td>negative</td>\n",
              "      <td>neutral</td>\n",
              "    </tr>\n",
              "    <tr>\n",
              "      <td>xxbos keep me updated . xxmaj let me know that the bags make the flight to j - xxunk xxpad</td>\n",
              "      <td>neutral</td>\n",
              "      <td>negative</td>\n",
              "    </tr>\n",
              "    <tr>\n",
              "      <td>xxbos just sent you a xxup dm w / xxunk info xxpad</td>\n",
              "      <td>neutral</td>\n",
              "      <td>negative</td>\n",
              "    </tr>\n",
              "    <tr>\n",
              "      <td>xxbos @derekc21 , to my surprise xxup ba does n't have me registered in the system , i was getting hopeful :( , xxmaj lets step it up , xxmaj okay ?</td>\n",
              "      <td>negative</td>\n",
              "      <td>neutral</td>\n",
              "    </tr>\n",
              "    <tr>\n",
              "      <td>xxbos “ @united : xxmaj looking for a reason to travel ? # xxunk http : / / t.co / xxunk ” xxpad</td>\n",
              "      <td>positive</td>\n",
              "      <td>neutral</td>\n",
              "    </tr>\n",
              "    <tr>\n",
              "      <td>xxbos nexus confirmed that at any xxunk via air , car or boat she can travel with only xxmaj nexus .</td>\n",
              "      <td>negative</td>\n",
              "      <td>neutral</td>\n",
              "    </tr>\n",
              "    <tr>\n",
              "      <td>xxbos xxmaj thanks xxrep 3 ! :) xxmaj it is good to air on the side of xxunk</td>\n",
              "      <td>neutral</td>\n",
              "      <td>positive</td>\n",
              "    </tr>\n",
              "    <tr>\n",
              "      <td>xxbos pilot : \" do n't worry folks there 's a backup for the backup for every part of this plane . \" xxmaj thanks guy</td>\n",
              "      <td>positive</td>\n",
              "      <td>negative</td>\n",
              "    </tr>\n",
              "    <tr>\n",
              "      <td>xxbos you should have assigned seating , because now my cousin &amp; &amp; i probably ca n't sit together on our flight tomorrow .. xxmaj thanks .</td>\n",
              "      <td>neutral</td>\n",
              "      <td>negative</td>\n",
              "    </tr>\n",
              "    <tr>\n",
              "      <td>xxbos crew on flight xxunk is awesome ! xxmaj tell them i sent this tweet and maybe they will give me free wifi … # xxunk</td>\n",
              "      <td>positive</td>\n",
              "      <td>negative</td>\n",
              "    </tr>\n",
              "    <tr>\n",
              "      <td>xxbos are 5 people there ? xxpad xxpad</td>\n",
              "      <td>neutral</td>\n",
              "      <td>negative</td>\n",
              "    </tr>\n",
              "    <tr>\n",
              "      <td>xxbos well xxmaj i 'm not sure xxmaj i 'm that xxunk ! lol or are you saying you did n't believe me ? ? xxunk</td>\n",
              "      <td>neutral</td>\n",
              "      <td>negative</td>\n",
              "    </tr>\n",
              "    <tr>\n",
              "      <td>xxbos oh no worries . xxmaj just have never seen that before until today . i mean … it is a great card 😀</td>\n",
              "      <td>positive</td>\n",
              "      <td>negative</td>\n",
              "    </tr>\n",
              "    <tr>\n",
              "      <td>xxbos xxunk with my hubby and it 's our xxunk wedding anniversary this year ! xxmaj companion pass please ! !</td>\n",
              "      <td>neutral</td>\n",
              "      <td>positive</td>\n",
              "    </tr>\n",
              "    <tr>\n",
              "      <td>xxbos xxmaj i 'm xxunk my data off for the flight . i want some response by the time i land . xxmaj you have 2 hours .</td>\n",
              "      <td>neutral</td>\n",
              "      <td>negative</td>\n",
              "    </tr>\n",
              "    <tr>\n",
              "      <td>xxbos xxrep 4 😭 y all are really better then xxmaj american xxmaj airlines though .</td>\n",
              "      <td>positive</td>\n",
              "      <td>negative</td>\n",
              "    </tr>\n",
              "    <tr>\n",
              "      <td>xxbos xxmaj when does the new schedule open that takes us past 10 / 31 ?</td>\n",
              "      <td>neutral</td>\n",
              "      <td>negative</td>\n",
              "    </tr>\n",
              "    <tr>\n",
              "      <td>xxbos xxmaj i 'm scheduled to come back tomorrow , finally but i do n't know xxup swa has n't flown out of @fly_nashville yet but @delta has</td>\n",
              "      <td>neutral</td>\n",
              "      <td>negative</td>\n",
              "    </tr>\n",
              "    <tr>\n",
              "      <td>xxbos hope so ! looks nice and warm in xxmaj san xxmaj juan 🌴 xxpad</td>\n",
              "      <td>neutral</td>\n",
              "      <td>positive</td>\n",
              "    </tr>\n",
              "    <tr>\n",
              "      <td>xxbos xxmaj i m just saying change can be amazing , like xxmaj miami . 😉</td>\n",
              "      <td>neutral</td>\n",
              "      <td>positive</td>\n",
              "    </tr>\n",
              "    <tr>\n",
              "      <td>xxbos i have a xxunk flight out of xxup dfw on xxmaj tuesday . xxmaj how far in advance will you give notice if xxmaj cancelled xxmaj flightled ?</td>\n",
              "      <td>neutral</td>\n",
              "      <td>negative</td>\n",
              "    </tr>\n",
              "    <tr>\n",
              "      <td>xxbos if i ask ask the pilot will he tell me the name of our xxunk</td>\n",
              "      <td>neutral</td>\n",
              "      <td>negative</td>\n",
              "    </tr>\n",
              "    <tr>\n",
              "      <td>xxbos i will say that your customer service has consistently been the very best xxrep 3 !</td>\n",
              "      <td>positive</td>\n",
              "      <td>negative</td>\n",
              "    </tr>\n",
              "    <tr>\n",
              "      <td>xxbos xxmaj love the team running xxmaj gate xxup xxunk at xxup las tonight . xxmaj waited for a delayed flight , and they kept things entertaining</td>\n",
              "      <td>positive</td>\n",
              "      <td>negative</td>\n",
              "    </tr>\n",
              "    <tr>\n",
              "      <td>xxbos please can you tell me why xxup dfw has a weather advisory and xxup rdu does not ? the entire state of xxup nc has shut down from ice &amp; &amp; snow !</td>\n",
              "      <td>neutral</td>\n",
              "      <td>negative</td>\n",
              "    </tr>\n",
              "    <tr>\n",
              "      <td>xxbos dm'ed you xxpad</td>\n",
              "      <td>neutral</td>\n",
              "      <td>positive</td>\n",
              "    </tr>\n",
              "    <tr>\n",
              "      <td>xxbos xxmaj y all tried it . \" @jetblue : xxmaj our fleet 's on fleek . http : / / t.co / xxunk ”</td>\n",
              "      <td>positive</td>\n",
              "      <td>neutral</td>\n",
              "    </tr>\n",
              "    <tr>\n",
              "      <td>xxbos xxunk news , time to raise the bar on legroom ! http : / / t.co / xxunk</td>\n",
              "      <td>negative</td>\n",
              "      <td>neutral</td>\n",
              "    </tr>\n",
              "    <tr>\n",
              "      <td>xxbos yes they do http : / / t.co / xxunk xxpad</td>\n",
              "      <td>neutral</td>\n",
              "      <td>positive</td>\n",
              "    </tr>\n",
              "    <tr>\n",
              "      <td>xxbos my wife left her phone on flight xxup xxunk on xxmaj friday xxmaj february xxunk upon landing in xxmaj minneapolis . xxmaj how can we get it back ? xxmaj thanks !</td>\n",
              "      <td>neutral</td>\n",
              "      <td>negative</td>\n",
              "    </tr>\n",
              "    <tr>\n",
              "      <td>xxbos that 's of course in lax xxpad</td>\n",
              "      <td>neutral</td>\n",
              "      <td>negative</td>\n",
              "    </tr>\n",
              "    <tr>\n",
              "      <td>xxbos just leave certain things to the kids . xxpad</td>\n",
              "      <td>neutral</td>\n",
              "      <td>negative</td>\n",
              "    </tr>\n",
              "    <tr>\n",
              "      <td>xxbos also why ca n't i pre - select seats on xxup xxunk flight ? xxmaj i 'm a xxmaj canadian xxmaj flight xxmaj booking xxmaj problems on http : / / t.co / xxunk . xxpad</td>\n",
              "      <td>negative</td>\n",
              "      <td>neutral</td>\n",
              "    </tr>\n",
              "    <tr>\n",
              "      <td>xxbos : xxunk flights operating now or xxmaj cancelled xxmaj flightled ? xxpad</td>\n",
              "      <td>neutral</td>\n",
              "      <td>negative</td>\n",
              "    </tr>\n",
              "    <tr>\n",
              "      <td>xxbos xxmaj once again , i was able to change my flight without any fees … oh and the two free checked bags . xxmaj best airline ever .</td>\n",
              "      <td>positive</td>\n",
              "      <td>negative</td>\n",
              "    </tr>\n",
              "    <tr>\n",
              "      <td>xxbos please hold xxunk ! i can see it . xxmaj just ca n't get off my first plane quick enough</td>\n",
              "      <td>neutral</td>\n",
              "      <td>negative</td>\n",
              "    </tr>\n",
              "    <tr>\n",
              "      <td>xxbos xxmaj call me when you do and we ’ll have to hook up ! xxpad</td>\n",
              "      <td>neutral</td>\n",
              "      <td>negative</td>\n",
              "    </tr>\n",
              "    <tr>\n",
              "      <td>xxbos xxmaj you guys are the talk of the xxmaj xxunk down here in xxmaj xxunk ! xxmaj read this ! https : / / t.co / xxunk</td>\n",
              "      <td>neutral</td>\n",
              "      <td>positive</td>\n",
              "    </tr>\n",
              "    <tr>\n",
              "      <td>xxbos btw , not upset at xxunk , promise .</td>\n",
              "      <td>neutral</td>\n",
              "      <td>negative</td>\n",
              "    </tr>\n",
              "    <tr>\n",
              "      <td>xxbos flying by myself is getting old xxpad</td>\n",
              "      <td>neutral</td>\n",
              "      <td>negative</td>\n",
              "    </tr>\n",
              "    <tr>\n",
              "      <td>xxbos i absolutely will . xxmaj where can i send it ? xxpad</td>\n",
              "      <td>neutral</td>\n",
              "      <td>negative</td>\n",
              "    </tr>\n",
              "    <tr>\n",
              "      <td>xxbos we do n't need anybody else ! xxpad</td>\n",
              "      <td>positive</td>\n",
              "      <td>negative</td>\n",
              "    </tr>\n",
              "    <tr>\n",
              "      <td>xxbos xxunk xxmaj you will ! ! xxmaj every chance i get ! xxmaj thanks for keeping me xxmaj exec xxmaj platinum .</td>\n",
              "      <td>positive</td>\n",
              "      <td>negative</td>\n",
              "    </tr>\n",
              "    <tr>\n",
              "      <td>xxbos xxmaj what can we do to bring you back to xxmaj xxunk , xxup ms ? ! xxmaj we miss you terribly around here . xxmaj these other airlines are horrible ! !</td>\n",
              "      <td>positive</td>\n",
              "      <td>negative</td>\n",
              "    </tr>\n",
              "    <tr>\n",
              "      <td>xxbos your xxunk did a great job w the madness however some of your systems need help . i appreciate the hard work &amp; &amp; the push to b better</td>\n",
              "      <td>positive</td>\n",
              "      <td>negative</td>\n",
              "    </tr>\n",
              "    <tr>\n",
              "      <td>xxbos xxunk on the link and got this ? # confused http : / / t.co / xxunk</td>\n",
              "      <td>neutral</td>\n",
              "      <td>negative</td>\n",
              "    </tr>\n",
              "    <tr>\n",
              "      <td>xxbos 8:30 departure ? xxmaj sure . xxmaj is there a catering strike at xxup jfk ? xxunk xxunk xxunk http : / / t.co / xxunk</td>\n",
              "      <td>neutral</td>\n",
              "      <td>negative</td>\n",
              "    </tr>\n",
              "    <tr>\n",
              "      <td>xxbos thanks ! i only loose xxunk at airports … 1st time we found it . i think xxunk needs to make xxunk that stay on when carrying bags !</td>\n",
              "      <td>neutral</td>\n",
              "      <td>negative</td>\n",
              "    </tr>\n",
              "    <tr>\n",
              "      <td>xxbos dang . xxmaj xxunk ? xxmaj does it look like it may get pushed back more or is this likely it ?</td>\n",
              "      <td>neutral</td>\n",
              "      <td>negative</td>\n",
              "    </tr>\n",
              "    <tr>\n",
              "      <td>xxbos xxmaj still thinking , those pjs may have me sold @americanair xxunk xxmaj we 'd # love to have you on board with us ! xxunk here i come</td>\n",
              "      <td>positive</td>\n",
              "      <td>negative</td>\n",
              "    </tr>\n",
              "    <tr>\n",
              "      <td>xxbos i will be writing in about the service via email . xxmaj my company also xxunk well over 100 clients xxunk via xxup sw .</td>\n",
              "      <td>neutral</td>\n",
              "      <td>negative</td>\n",
              "    </tr>\n",
              "    <tr>\n",
              "      <td>xxbos it 's vegas baby who does n't have a good time in vegas lol xxpad</td>\n",
              "      <td>neutral</td>\n",
              "      <td>negative</td>\n",
              "    </tr>\n",
              "    <tr>\n",
              "      <td>xxbos thank you for the response . xxmaj how can i got about getting the points onto my rewards account ?</td>\n",
              "      <td>neutral</td>\n",
              "      <td>negative</td>\n",
              "    </tr>\n",
              "    <tr>\n",
              "      <td>xxbos xxunk to xxmaj xxunk , xxmaj xxunk . xxmaj this sucks . xxpad</td>\n",
              "      <td>negative</td>\n",
              "      <td>neutral</td>\n",
              "    </tr>\n",
              "    <tr>\n",
              "      <td>xxbos i managed to get sorted out over the phone . xxmaj good luck dealing with the snow in xxmaj texas !</td>\n",
              "      <td>positive</td>\n",
              "      <td>negative</td>\n",
              "    </tr>\n",
              "    <tr>\n",
              "      <td>xxbos now out of a gates and into main terminal @ xxup dca . xxunk members keeping watch from xxup xxunk . # avgeek http : / / t.co / xxunk</td>\n",
              "      <td>neutral</td>\n",
              "      <td>negative</td>\n",
              "    </tr>\n",
              "    <tr>\n",
              "      <td>xxbos a month ago i had a flight booked but then had to xxmaj cancelled xxmaj flight it … xxmaj i 'm now xxmaj flight xxmaj booking xxmaj problems a separate flight for a different xxunk . xxpad xxpad</td>\n",
              "      <td>neutral</td>\n",
              "      <td>negative</td>\n",
              "    </tr>\n",
              "    <tr>\n",
              "      <td>xxbos xxmaj how can you get your xxup tsa traveler xxup i d added to your boarding pass ? xxmaj why would it not be included as xxup tsa precheck ? xxmaj flying xxunk</td>\n",
              "      <td>neutral</td>\n",
              "      <td>negative</td>\n",
              "    </tr>\n",
              "    <tr>\n",
              "      <td>xxbos got an email confirmation of wifi purchase on a recent flight . xxmaj trouble is , xxmaj i 've never flown with you . xxmaj ever . # concerned # scam ?</td>\n",
              "      <td>neutral</td>\n",
              "      <td>negative</td>\n",
              "    </tr>\n",
              "    <tr>\n",
              "      <td>xxbos and @americanair are n't as merged as the marketing xxunk would have us believe . xxmaj maybe @delta or @united can get me home ?</td>\n",
              "      <td>neutral</td>\n",
              "      <td>negative</td>\n",
              "    </tr>\n",
              "    <tr>\n",
              "      <td>xxbos i take it as a compliment that i was xxunk several times as a member of your staff on my flight … time to remove my xxunk :)</td>\n",
              "      <td>neutral</td>\n",
              "      <td>negative</td>\n",
              "    </tr>\n",
              "    <tr>\n",
              "      <td>xxbos i xxup just xxup asked xxup my xxup boyfriend xxup to xxup xxunk xxup over xxup the xxup xxunk xxup on xxup flight xxunk xxup he xxup said xxup yes xxrep 4 ! xxup best xxup day xxup ever xxrep 3 ! xxup thank u xxup so xxup much xxrep 6 !</td>\n",
              "      <td>positive</td>\n",
              "      <td>neutral</td>\n",
              "    </tr>\n",
              "    <tr>\n",
              "      <td>xxbos xxunk we done it with 1 truck … xxmaj no xxunk 😄 xxpad</td>\n",
              "      <td>positive</td>\n",
              "      <td>negative</td>\n",
              "    </tr>\n",
              "    <tr>\n",
              "      <td>xxbos &lt;3 &lt;3 xxup rt @southwestair ! xxunk xxmaj sorry to hear about the wifi connection , xxmaj xxunk . xxmaj please xxup dm us your conf # so we can help you . xxmaj thanks ! xxpad xxpad</td>\n",
              "      <td>negative</td>\n",
              "      <td>positive</td>\n",
              "    </tr>\n",
              "    <tr>\n",
              "      <td>xxbos can i have my bags back xxunk ! !</td>\n",
              "      <td>negative</td>\n",
              "      <td>neutral</td>\n",
              "    </tr>\n",
              "    <tr>\n",
              "      <td>xxbos i did xxpad</td>\n",
              "      <td>neutral</td>\n",
              "      <td>positive</td>\n",
              "    </tr>\n",
              "    <tr>\n",
              "      <td>xxbos followed . xxpad</td>\n",
              "      <td>neutral</td>\n",
              "      <td>negative</td>\n",
              "    </tr>\n",
              "    <tr>\n",
              "      <td>xxbos xxmaj this could be the beginning of a xxunk relationship :) # xxunk xxpad</td>\n",
              "      <td>positive</td>\n",
              "      <td>negative</td>\n",
              "    </tr>\n",
              "    <tr>\n",
              "      <td>xxbos yeah , 7 am flight tomorrow , going to add 60 - 90 min extra because of the roads / snow</td>\n",
              "      <td>neutral</td>\n",
              "      <td>negative</td>\n",
              "    </tr>\n",
              "    <tr>\n",
              "      <td>xxbos really caring ? ? xxpad</td>\n",
              "      <td>neutral</td>\n",
              "      <td>negative</td>\n",
              "    </tr>\n",
              "    <tr>\n",
              "      <td>xxbos really wish you 'd fly out of # xxmaj xxunk xxunk those fares are xxunk</td>\n",
              "      <td>positive</td>\n",
              "      <td>negative</td>\n",
              "    </tr>\n",
              "    <tr>\n",
              "      <td>xxbos we will … sunday ! xxmaj just a few days away xxpad</td>\n",
              "      <td>positive</td>\n",
              "      <td>negative</td>\n",
              "    </tr>\n",
              "    <tr>\n",
              "      <td>xxbos xxup us 728 . xxmaj refuel ; we 've sat for so long . xxmaj pilot announces where the truck is . \" look , over there to the left ! \" xxmaj actual announcement . xxpad xxpad</td>\n",
              "      <td>neutral</td>\n",
              "      <td>negative</td>\n",
              "    </tr>\n",
              "    <tr>\n",
              "      <td>xxbos ok thanks ! xxmaj where are you xxunk located ? xxmaj and how xxmaj late xxmaj flight are they open ?</td>\n",
              "      <td>neutral</td>\n",
              "      <td>negative</td>\n",
              "    </tr>\n",
              "    <tr>\n",
              "      <td>xxbos xxunk do nt have xxmaj atlanta to xxmaj san xxunk in 99 $ in the present sale , like u had in the last xxunk looking for 2 return tickets</td>\n",
              "      <td>neutral</td>\n",
              "      <td>negative</td>\n",
              "    </tr>\n",
              "    <tr>\n",
              "      <td>xxbos xxmaj xxunk at customer service desk in xxmaj charlotte was fantastic ! xxmaj so helpful and smiling xxunk after what sounds like long xxunk her</td>\n",
              "      <td>positive</td>\n",
              "      <td>negative</td>\n",
              "    </tr>\n",
              "    <tr>\n",
              "      <td>xxbos seriously , pls pls bring more people up to help us ! xxmaj there are still flights to xxup ord frm xxup dfw and i want in http : / / t.co / xxunk</td>\n",
              "      <td>negative</td>\n",
              "      <td>neutral</td>\n",
              "    </tr>\n",
              "    <tr>\n",
              "      <td>xxbos xxmaj considering it was purchased on the 21st and i attempted to use it again on the 21st i believe it would fit these xxunk .</td>\n",
              "      <td>neutral</td>\n",
              "      <td>negative</td>\n",
              "    </tr>\n",
              "    <tr>\n",
              "      <td>xxbos flt xxunk crew # xxunk to # xxmaj denver is xxmaj the # xxup best ! xxmaj weather delay but pilots just xxunk the kids to see the xxunk ! # luv</td>\n",
              "      <td>positive</td>\n",
              "      <td>negative</td>\n",
              "    </tr>\n",
              "    <tr>\n",
              "      <td>xxbos xxmaj thanks ! xxmaj will do xxpad</td>\n",
              "      <td>neutral</td>\n",
              "      <td>positive</td>\n",
              "    </tr>\n",
              "    <tr>\n",
              "      <td>xxbos it 's not often that an airline is so easy to work with . i needed to change my flight time and the attendants at xxup mke made my day !</td>\n",
              "      <td>positive</td>\n",
              "      <td>negative</td>\n",
              "    </tr>\n",
              "    <tr>\n",
              "      <td>xxbos xxmaj none of the # xxup lax flights into # xxup dfw have been xxmaj cancelled xxmaj flightled . xxmaj those landing before and after ours are fine . xxmaj completely xxunk .</td>\n",
              "      <td>positive</td>\n",
              "      <td>negative</td>\n",
              "    </tr>\n",
              "    <tr>\n",
              "      <td>xxbos our flight attendant announced that we have transportation waiting for us for that flight so i think we 'll make it .</td>\n",
              "      <td>neutral</td>\n",
              "      <td>negative</td>\n",
              "    </tr>\n",
              "    <tr>\n",
              "      <td>xxbos do you have an e - mail address i can write my account to ? xxmaj might be less likely to disappear</td>\n",
              "      <td>neutral</td>\n",
              "      <td>negative</td>\n",
              "    </tr>\n",
              "    <tr>\n",
              "      <td>xxbos thanks to the gate agent in xxmaj state xxmaj college , xxup pa that was able to get me on an earlier flight xxup and figure out an earlier connection !</td>\n",
              "      <td>positive</td>\n",
              "      <td>negative</td>\n",
              "    </tr>\n",
              "    <tr>\n",
              "      <td>xxbos xxmaj i 'm all set . xxmaj about to fly . xxmaj not bad for a first date with a giant metal bird machine . xxmaj she even brought snacks .</td>\n",
              "      <td>positive</td>\n",
              "      <td>neutral</td>\n",
              "    </tr>\n",
              "    <tr>\n",
              "      <td>xxbos xxmaj so what 's allowed or what 's not allowed to be carried in my checked baggage ?</td>\n",
              "      <td>neutral</td>\n",
              "      <td>negative</td>\n",
              "    </tr>\n",
              "    <tr>\n",
              "      <td>xxbos pls help me get this resolved &amp; &amp; reimbursement made . gracias , rico ; pls send me private msg with phone number or email address</td>\n",
              "      <td>negative</td>\n",
              "      <td>neutral</td>\n",
              "    </tr>\n",
              "    <tr>\n",
              "      <td>xxbos why do this to me sending xxup n598jb to xxup uvf today and its a xxunk why not a weekend xxunk</td>\n",
              "      <td>negative</td>\n",
              "      <td>neutral</td>\n",
              "    </tr>\n",
              "    <tr>\n",
              "      <td>xxbos @askpaypal completed . xxmaj if that 's the case then why does it still say \" in progress \" on xxmaj paypal 's website . i reserved on the 13th .</td>\n",
              "      <td>negative</td>\n",
              "      <td>neutral</td>\n",
              "    </tr>\n",
              "    <tr>\n",
              "      <td>xxbos no xxmaj a 's channel this year ? xxpad</td>\n",
              "      <td>neutral</td>\n",
              "      <td>negative</td>\n",
              "    </tr>\n",
              "    <tr>\n",
              "      <td>xxbos unfortunately i was so xxunk and rushed , i did n't get the name , but will provide a xxunk in my xxunk email . xxmaj thank you</td>\n",
              "      <td>negative</td>\n",
              "      <td>positive</td>\n",
              "    </tr>\n",
              "    <tr>\n",
              "      <td>xxbos @roxydigital xxmaj good . i want extra peanuts on my flight then . lol . # jvmchat</td>\n",
              "      <td>neutral</td>\n",
              "      <td>positive</td>\n",
              "    </tr>\n",
              "    <tr>\n",
              "      <td>xxbos is # xxup xxunk xxmaj friendly . # xxunk # united # xxunk # xxunk http : / / t.co / xxunk</td>\n",
              "      <td>positive</td>\n",
              "      <td>neutral</td>\n",
              "    </tr>\n",
              "    <tr>\n",
              "      <td>xxbos anything you can do ? xxpad xxpad</td>\n",
              "      <td>neutral</td>\n",
              "      <td>negative</td>\n",
              "    </tr>\n",
              "    <tr>\n",
              "      <td>xxbos i m flying with you from mi - boston and then xxunk to xxunk , 8 hours between . can we check our bags all the way ?</td>\n",
              "      <td>neutral</td>\n",
              "      <td>negative</td>\n",
              "    </tr>\n",
              "    <tr>\n",
              "      <td>xxbos xxmaj does your home airport not count in the xxunk system ? xxmaj my xxup tb account says 2 flights but xxmaj i 've taken 3 this year .</td>\n",
              "      <td>neutral</td>\n",
              "      <td>negative</td>\n",
              "    </tr>\n",
              "    <tr>\n",
              "      <td>xxbos xxmaj ca n't view seat selection / change seat for flight tomorrow . xxmaj can you look into this ?</td>\n",
              "      <td>neutral</td>\n",
              "      <td>negative</td>\n",
              "    </tr>\n",
              "    <tr>\n",
              "      <td>xxbos xxmaj not trying to make you look bad , on your website it says : \" due to weather in the xxmaj charleston , xxup nc \" xxmaj its actually in xxup sc , not xxup nc xxpad</td>\n",
              "      <td>positive</td>\n",
              "      <td>negative</td>\n",
              "    </tr>\n",
              "    <tr>\n",
              "      <td>xxbos xxmaj thanks i just sent a xxup dm with this info . xxpad</td>\n",
              "      <td>neutral</td>\n",
              "      <td>positive</td>\n",
              "    </tr>\n",
              "    <tr>\n",
              "      <td>xxbos xxmaj sent .</td>\n",
              "      <td>neutral</td>\n",
              "      <td>positive</td>\n",
              "    </tr>\n",
              "    <tr>\n",
              "      <td>xxbos over the phone . i called the xxunk number and she picked up almost immediately .</td>\n",
              "      <td>positive</td>\n",
              "      <td>negative</td>\n",
              "    </tr>\n",
              "    <tr>\n",
              "      <td>xxbos xxmaj not for the dates or destination xxmaj i 'm headed 😔 xxpad</td>\n",
              "      <td>neutral</td>\n",
              "      <td>negative</td>\n",
              "    </tr>\n",
              "    <tr>\n",
              "      <td>xxbos after my second call to customer service and the xxunk person i talked to , an amazing rep fixed it in about 5 mins ! :) # xxunk</td>\n",
              "      <td>positive</td>\n",
              "      <td>negative</td>\n",
              "    </tr>\n",
              "    <tr>\n",
              "      <td>xxbos xxmaj american xxmaj airlines .</td>\n",
              "      <td>neutral</td>\n",
              "      <td>positive</td>\n",
              "    </tr>\n",
              "    <tr>\n",
              "      <td>xxbos at least they make you run so you want yo buy this fresh xxunk coke … nice xxunk plan . xxmaj its all about marketing right ?</td>\n",
              "      <td>neutral</td>\n",
              "      <td>negative</td>\n",
              "    </tr>\n",
              "    <tr>\n",
              "      <td>xxbos yes when i landed .</td>\n",
              "      <td>neutral</td>\n",
              "      <td>negative</td>\n",
              "    </tr>\n",
              "    <tr>\n",
              "      <td>xxbos ha ha ! xxmaj can i get a wake up call at boarding time please ? xxmaj large coffee , xxunk extra sweet please !</td>\n",
              "      <td>positive</td>\n",
              "      <td>neutral</td>\n",
              "    </tr>\n",
              "    <tr>\n",
              "      <td>xxbos will the kudos to capt . xxmaj xxunk be xxunk to his chief pilot or should i be emailing someone ?</td>\n",
              "      <td>positive</td>\n",
              "      <td>negative</td>\n",
              "    </tr>\n",
              "    <tr>\n",
              "      <td>xxbos thanks xxunk @southwestair has my back ! xxmaj awesome rate &amp; &amp; amazing customer service # xxunk</td>\n",
              "      <td>neutral</td>\n",
              "      <td>positive</td>\n",
              "    </tr>\n",
              "    <tr>\n",
              "      <td>xxbos @ellahenderson xxmaj ah ! xxmaj wish i was there ! xxmaj good luck ! xxpad</td>\n",
              "      <td>neutral</td>\n",
              "      <td>positive</td>\n",
              "    </tr>\n",
              "    <tr>\n",
              "      <td>xxbos xxunk mph winds and would do anything to be in xxmaj florida right now .. help a sister out ! !</td>\n",
              "      <td>neutral</td>\n",
              "      <td>negative</td>\n",
              "    </tr>\n",
              "    <tr>\n",
              "      <td>xxbos xxmaj i 'm so sorry i cheated on you with @delta xxunk . xxmaj please take me back . i xxunk protection .</td>\n",
              "      <td>neutral</td>\n",
              "      <td>negative</td>\n",
              "    </tr>\n",
              "    <tr>\n",
              "      <td>xxbos landed at xxmaj phoenix , but we had to board a flight quickly to xxmaj vegas so no time at the airport . xxmaj what now ?</td>\n",
              "      <td>neutral</td>\n",
              "      <td>negative</td>\n",
              "    </tr>\n",
              "    <tr>\n",
              "      <td>xxbos where exactly can i leave a note xxpad</td>\n",
              "      <td>negative</td>\n",
              "      <td>neutral</td>\n",
              "    </tr>\n",
              "    <tr>\n",
              "      <td>xxbos xxmaj are there any travel xxunk for xxmaj toronto , xxup on today ? i ca n't access anything regarding international travel on your xxunk</td>\n",
              "      <td>negative</td>\n",
              "      <td>neutral</td>\n",
              "    </tr>\n",
              "    <tr>\n",
              "      <td>xxbos i just think it 's weird to have mileage as xxrep 3 6 xxpad</td>\n",
              "      <td>positive</td>\n",
              "      <td>neutral</td>\n",
              "    </tr>\n",
              "    <tr>\n",
              "      <td>xxbos that 's great ! pls let me know when u start ! xxpad</td>\n",
              "      <td>positive</td>\n",
              "      <td>negative</td>\n",
              "    </tr>\n",
              "    <tr>\n",
              "      <td>xxbos xxmaj done and done xxpad</td>\n",
              "      <td>neutral</td>\n",
              "      <td>positive</td>\n",
              "    </tr>\n",
              "    <tr>\n",
              "      <td>xxbos 's free wifi on board is the best thing that 's happened since xxunk xxunk</td>\n",
              "      <td>positive</td>\n",
              "      <td>negative</td>\n",
              "    </tr>\n",
              "    <tr>\n",
              "      <td>xxbos oh i will , xxup aa on speed dial</td>\n",
              "      <td>neutral</td>\n",
              "      <td>negative</td>\n",
              "    </tr>\n",
              "    <tr>\n",
              "      <td>xxbos xxmaj gary who is serving us at xxup fll airport counter is really xxup true xxup blue ! xxmaj makes me feel at home even when a jetblue flight is xxunk</td>\n",
              "      <td>positive</td>\n",
              "      <td>negative</td>\n",
              "    </tr>\n",
              "    <tr>\n",
              "      <td>xxbos yes it is in xxmaj dulles and i need it delivered to the xxmaj xxunk xxmaj xxunk in xxmaj xxunk , xxup va . xxmaj i 'm still in xxmaj chicago from the fiasco in xxup lax xxpad</td>\n",
              "      <td>negative</td>\n",
              "      <td>neutral</td>\n",
              "    </tr>\n",
              "    <tr>\n",
              "      <td>xxbos xxmaj thanks . xxmaj i 'll keep checking . xxmaj i 'm trying to book our first xxmaj disney xxmaj world vacation .</td>\n",
              "      <td>positive</td>\n",
              "      <td>negative</td>\n",
              "    </tr>\n",
              "    <tr>\n",
              "      <td>xxbos how 's us xxunk looking today ? xxpad</td>\n",
              "      <td>neutral</td>\n",
              "      <td>negative</td>\n",
              "    </tr>\n",
              "    <tr>\n",
              "      <td>xxbos fly my child</td>\n",
              "      <td>neutral</td>\n",
              "      <td>negative</td>\n",
              "    </tr>\n",
              "    <tr>\n",
              "      <td>xxbos xxmaj fortunately you have staff like xxmaj lynn xxup s. and xxunk who actually understand customer service and simply being xxup nice .</td>\n",
              "      <td>neutral</td>\n",
              "      <td>negative</td>\n",
              "    </tr>\n",
              "    <tr>\n",
              "      <td>xxbos xxunk xxmaj yes , i made the flight and got my xxunk in too .</td>\n",
              "      <td>neutral</td>\n",
              "      <td>negative</td>\n",
              "    </tr>\n",
              "    <tr>\n",
              "      <td>xxbos no xxunk . xxmaj just get me home</td>\n",
              "      <td>neutral</td>\n",
              "      <td>negative</td>\n",
              "    </tr>\n",
              "    <tr>\n",
              "      <td>xxbos in fact he received my boarding pass xxpad</td>\n",
              "      <td>neutral</td>\n",
              "      <td>negative</td>\n",
              "    </tr>\n",
              "    <tr>\n",
              "      <td>xxbos xxmaj just sent you a xxup dm with the details . xxpad</td>\n",
              "      <td>neutral</td>\n",
              "      <td>negative</td>\n",
              "    </tr>\n",
              "    <tr>\n",
              "      <td>xxbos still not in the air for deicing of plane . xxmaj i 'll miss connect but customer service was xxunk hoping to catch the next flight</td>\n",
              "      <td>positive</td>\n",
              "      <td>negative</td>\n",
              "    </tr>\n",
              "    <tr>\n",
              "      <td>xxbos xxmaj again , please accept my apologies for my lame , xxunk tweet . xxmaj you did n't deserve that , &amp; &amp; i xxunk a xxup loyal xxup sw customer !</td>\n",
              "      <td>positive</td>\n",
              "      <td>negative</td>\n",
              "    </tr>\n",
              "    <tr>\n",
              "      <td>xxbos xxmaj hi xxmaj guys good morning how are you doing xxpad</td>\n",
              "      <td>positive</td>\n",
              "      <td>negative</td>\n",
              "    </tr>\n",
              "    <tr>\n",
              "      <td>xxbos xxmaj life goal : complete xxunk ️ xxpad</td>\n",
              "      <td>positive</td>\n",
              "      <td>negative</td>\n",
              "    </tr>\n",
              "    <tr>\n",
              "      <td>xxbos alright @jetblue … . done ! xxunk , if you 'd like to charter a private jet for me to xxup xxunk i will gladly accept :)</td>\n",
              "      <td>positive</td>\n",
              "      <td>neutral</td>\n",
              "    </tr>\n",
              "    <tr>\n",
              "      <td>xxbos xxup oh xxup my xxup gosh xxup seriously ? ! you just made my day , week , year xxrep 3 ! xxmaj no one will appreciate this more than me xxrep 3 !</td>\n",
              "      <td>positive</td>\n",
              "      <td>negative</td>\n",
              "    </tr>\n",
              "    <tr>\n",
              "      <td>xxbos all day xxpad</td>\n",
              "      <td>negative</td>\n",
              "      <td>positive</td>\n",
              "    </tr>\n",
              "    <tr>\n",
              "      <td>xxbos xxmaj club xxup den , xxmaj east or xxmaj west , both are disgusting . http : / / t.co / xxunk</td>\n",
              "      <td>negative</td>\n",
              "      <td>neutral</td>\n",
              "    </tr>\n",
              "    <tr>\n",
              "      <td>xxbos my flight at xxup bwi is delayed and i will miss my flight in xxmaj denver , is there a way to find out if they will hold the plane ?</td>\n",
              "      <td>neutral</td>\n",
              "      <td>negative</td>\n",
              "    </tr>\n",
              "    <tr>\n",
              "      <td>xxbos xxunk lmao this is so funny xxpad</td>\n",
              "      <td>neutral</td>\n",
              "      <td>negative</td>\n",
              "    </tr>\n",
              "    <tr>\n",
              "      <td>xxbos @americanair major issues getting out of xxmaj boston , but your crew has been exceptional . xxmaj let 's see how things xxunk out in xxmaj philly .</td>\n",
              "      <td>positive</td>\n",
              "      <td>negative</td>\n",
              "    </tr>\n",
              "    <tr>\n",
              "      <td>xxbos i should also add the weather conditions are terrible . xxmaj expecting 18 inches of snow . xxmaj any advice ?</td>\n",
              "      <td>neutral</td>\n",
              "      <td>negative</td>\n",
              "    </tr>\n",
              "    <tr>\n",
              "      <td>xxbos all day travel . # xxunk # xxunk</td>\n",
              "      <td>neutral</td>\n",
              "      <td>negative</td>\n",
              "    </tr>\n",
              "    <tr>\n",
              "      <td>xxbos xxunk , which also had 1 working xxup xxunk in coach . xxmaj good thing this bird landed ahead of schedule . i have to use the xxup xxunk stat .</td>\n",
              "      <td>positive</td>\n",
              "      <td>negative</td>\n",
              "    </tr>\n",
              "    <tr>\n",
              "      <td>xxbos xxmaj looks like a broken link for your xxunk https : / / t.co / xxunk</td>\n",
              "      <td>negative</td>\n",
              "      <td>neutral</td>\n",
              "    </tr>\n",
              "    <tr>\n",
              "      <td>xxbos customer service at its finest</td>\n",
              "      <td>positive</td>\n",
              "      <td>negative</td>\n",
              "    </tr>\n",
              "    <tr>\n",
              "      <td>xxbos xxmaj c'mon , this is worse than jetbae . xxup rt @jetblue xxmaj our fleet 's on fleek . https : / / t.co / xxunk</td>\n",
              "      <td>negative</td>\n",
              "      <td>neutral</td>\n",
              "    </tr>\n",
              "    <tr>\n",
              "      <td>xxbos yes . xxmaj houston xxmaj int'l , xxmaj bush . xxpad</td>\n",
              "      <td>neutral</td>\n",
              "      <td>negative</td>\n",
              "    </tr>\n",
              "    <tr>\n",
              "      <td>xxbos things happen it 's ok just wish i was on the beach and not in the airport</td>\n",
              "      <td>positive</td>\n",
              "      <td>negative</td>\n",
              "    </tr>\n",
              "    <tr>\n",
              "      <td>xxbos absolutely xxpad xxpad</td>\n",
              "      <td>neutral</td>\n",
              "      <td>negative</td>\n",
              "    </tr>\n",
              "    <tr>\n",
              "      <td>xxbos i have been on hold for over 28 minutes please help http : / / t.co / xxunk</td>\n",
              "      <td>neutral</td>\n",
              "      <td>negative</td>\n",
              "    </tr>\n",
              "    <tr>\n",
              "      <td>xxbos flight xxunk … plane from xxup sfo to xxup den is basically on time .</td>\n",
              "      <td>positive</td>\n",
              "      <td>negative</td>\n",
              "    </tr>\n",
              "    <tr>\n",
              "      <td>xxbos i forgot that xxmaj intl flights out of xxup lax do n't go from xxmaj intl xxmaj terminal ! xxmaj easiest re - check in ever ! woo !</td>\n",
              "      <td>positive</td>\n",
              "      <td>negative</td>\n",
              "    </tr>\n",
              "    <tr>\n",
              "      <td>xxbos and then wanted to change it to xxup ba for xxmaj xxunk . xxpad</td>\n",
              "      <td>neutral</td>\n",
              "      <td>negative</td>\n",
              "    </tr>\n",
              "    <tr>\n",
              "      <td>xxbos k thanks :)</td>\n",
              "      <td>neutral</td>\n",
              "      <td>positive</td>\n",
              "    </tr>\n",
              "    <tr>\n",
              "      <td>xxbos my xxup pr class would luv to know who 's in charge of your xxmaj twitter . xxmaj how many people write your tweets ? # gracias</td>\n",
              "      <td>neutral</td>\n",
              "      <td>negative</td>\n",
              "    </tr>\n",
              "    <tr>\n",
              "      <td>xxbos due to road conditions xxpad</td>\n",
              "      <td>neutral</td>\n",
              "      <td>negative</td>\n",
              "    </tr>\n",
              "    <tr>\n",
              "      <td>xxbos xxmaj can you find us a flt out of xxup lax that is sooner than midnight on xxmaj monday ? xxmaj that would be great customer service 😃</td>\n",
              "      <td>neutral</td>\n",
              "      <td>negative</td>\n",
              "    </tr>\n",
              "    <tr>\n",
              "      <td>xxbos can you follow for quick xxup dm ?</td>\n",
              "      <td>neutral</td>\n",
              "      <td>negative</td>\n",
              "    </tr>\n",
              "    <tr>\n",
              "      <td>xxbos i am on xxunk and my connecting flight is xxunk xxpad</td>\n",
              "      <td>neutral</td>\n",
              "      <td>negative</td>\n",
              "    </tr>\n",
              "    <tr>\n",
              "      <td>xxbos are you xxunk weather - relate xxmaj flightd xxmaj cancelled xxmaj flightations for afternoon departures out of xxup aus today ?</td>\n",
              "      <td>neutral</td>\n",
              "      <td>negative</td>\n",
              "    </tr>\n",
              "    <tr>\n",
              "      <td>xxbos just realized my @americanair advantage number was n't used for my flight . xxmaj how do i get my ff miles ?</td>\n",
              "      <td>neutral</td>\n",
              "      <td>negative</td>\n",
              "    </tr>\n",
              "    <tr>\n",
              "      <td>xxbos be \" chicago 's hometown airline \" care about your xxunk # xxunk # xxunk # xxunk</td>\n",
              "      <td>positive</td>\n",
              "      <td>negative</td>\n",
              "    </tr>\n",
              "    <tr>\n",
              "      <td>xxbos no worries - after everyone boarded , the xxunk were brought in . xxmaj took a while , but they made it here .</td>\n",
              "      <td>positive</td>\n",
              "      <td>negative</td>\n",
              "    </tr>\n",
              "    <tr>\n",
              "      <td>xxbos how do you have only 1 flight into xxunk this afternoon with the # 1 xxunk playing a big game tonight ? # dobetter</td>\n",
              "      <td>neutral</td>\n",
              "      <td>negative</td>\n",
              "    </tr>\n",
              "    <tr>\n",
              "      <td>xxbos @amybruni @directtv but of course ! :-) # xxunk # xxunk xxpad</td>\n",
              "      <td>positive</td>\n",
              "      <td>negative</td>\n",
              "    </tr>\n",
              "    <tr>\n",
              "      <td>xxbos just do it that easy</td>\n",
              "      <td>neutral</td>\n",
              "      <td>negative</td>\n",
              "    </tr>\n",
              "    <tr>\n",
              "      <td>xxbos xxmaj do you mean \" fortunately \" ? i do n't want my flight to be affected ! 😉</td>\n",
              "      <td>neutral</td>\n",
              "      <td>negative</td>\n",
              "    </tr>\n",
              "    <tr>\n",
              "      <td>xxbos xxunk we 're trying to coordinate an airport hand - off of xxmaj xxunk ! # xxunk</td>\n",
              "      <td>neutral</td>\n",
              "      <td>negative</td>\n",
              "    </tr>\n",
              "    <tr>\n",
              "      <td>xxbos alright . xxpad</td>\n",
              "      <td>neutral</td>\n",
              "      <td>positive</td>\n",
              "    </tr>\n",
              "    <tr>\n",
              "      <td>xxbos keep going back and forth with being able to board and then not . xxmaj but great agents in savannah !</td>\n",
              "      <td>positive</td>\n",
              "      <td>negative</td>\n",
              "    </tr>\n",
              "    <tr>\n",
              "      <td>xxbos xxmaj xxunk xxrep 3 o “ @jetblue : xxmaj our fleet 's on fleek . http : / / t.co / xxunk ”</td>\n",
              "      <td>positive</td>\n",
              "      <td>neutral</td>\n",
              "    </tr>\n",
              "    <tr>\n",
              "      <td>xxbos xxmaj you must follow me in order for me to send you a direct message if that is what you meant .</td>\n",
              "      <td>neutral</td>\n",
              "      <td>negative</td>\n",
              "    </tr>\n",
              "    <tr>\n",
              "      <td>xxbos @southwestair hi ! get a xxunk xxunk from xxmaj xxunk ! xxmaj game xxunk to xxunk xxunk into charge . :)</td>\n",
              "      <td>neutral</td>\n",
              "      <td>positive</td>\n",
              "    </tr>\n",
              "    <tr>\n",
              "      <td>xxbos xxmaj well , i xxunk … but xxup now i xxup do ! : xxunk</td>\n",
              "      <td>positive</td>\n",
              "      <td>negative</td>\n",
              "    </tr>\n",
              "    <tr>\n",
              "      <td>xxbos xxmaj only for one flight , though . xxmaj the 2nd leg my kids are sitting xxunk about the aircraft .</td>\n",
              "      <td>neutral</td>\n",
              "      <td>negative</td>\n",
              "    </tr>\n",
              "    <tr>\n",
              "      <td>xxbos marks 15th year with new \" bluemanity \" plane design - xxmaj sun xxmaj xxunk http : / / t.co / xxunk</td>\n",
              "      <td>positive</td>\n",
              "      <td>neutral</td>\n",
              "    </tr>\n",
              "    <tr>\n",
              "      <td>xxbos thank you for the reply . i emailed your customer care department about my experience .</td>\n",
              "      <td>negative</td>\n",
              "      <td>positive</td>\n",
              "    </tr>\n",
              "    <tr>\n",
              "      <td>xxbos also . xxmaj my party { me and my sister and mom } are on three separate reservations . xxmaj will xxup tsa lets us go through together or alone .</td>\n",
              "      <td>neutral</td>\n",
              "      <td>negative</td>\n",
              "    </tr>\n",
              "    <tr>\n",
              "      <td>xxbos is the best ! xxmaj ca n't wait to use my travel bank $ for a xxup fun trip .</td>\n",
              "      <td>positive</td>\n",
              "      <td>negative</td>\n",
              "    </tr>\n",
              "    <tr>\n",
              "      <td>xxbos - yep , they 've been good . xxmaj now can you make that xxunk flight to mci wait just a tick … . 😃</td>\n",
              "      <td>positive</td>\n",
              "      <td>negative</td>\n",
              "    </tr>\n",
              "    <tr>\n",
              "      <td>xxbos what is xxup dm ?</td>\n",
              "      <td>neutral</td>\n",
              "      <td>negative</td>\n",
              "    </tr>\n",
              "    <tr>\n",
              "      <td>xxbos “ @americanair : xxunk xxmaj xxunk , please contact xxmaj reservations at 800 - 433 - 7300 for reflight xxmaj booking xxmaj problems options . ” xxmaj good luck with that !</td>\n",
              "      <td>negative</td>\n",
              "      <td>neutral</td>\n",
              "    </tr>\n",
              "    <tr>\n",
              "      <td>xxbos i love flying with u , but i have a question , why is one of ur planes called ny jets</td>\n",
              "      <td>positive</td>\n",
              "      <td>negative</td>\n",
              "    </tr>\n",
              "    <tr>\n",
              "      <td>xxbos i ca n't . i do n't have xxunk to a phone rn . xxmaj my iphone broke . : / would rather change it now then xxmaj late xxmaj flightr .</td>\n",
              "      <td>neutral</td>\n",
              "      <td>negative</td>\n",
              "    </tr>\n",
              "    <tr>\n",
              "      <td>xxbos thanks for reaching out . xxmaj the seat was hard , not enough xxunk . xxup ok for short flight . xxup btw , xxup xxunk flight and crew were great !</td>\n",
              "      <td>negative</td>\n",
              "      <td>positive</td>\n",
              "    </tr>\n",
              "    <tr>\n",
              "      <td>xxbos xxmaj sure was , with @delta looks like xxmaj i 'll make my birthday xxunk after all .</td>\n",
              "      <td>negative</td>\n",
              "      <td>positive</td>\n",
              "    </tr>\n",
              "    <tr>\n",
              "      <td>xxbos xxmaj are the current on board food xxunk available anywhere online ? xxpad</td>\n",
              "      <td>neutral</td>\n",
              "      <td>negative</td>\n",
              "    </tr>\n",
              "    <tr>\n",
              "      <td>xxbos who is he i must send a note xxrep 3 ! xxmaj too good for words !</td>\n",
              "      <td>positive</td>\n",
              "      <td>negative</td>\n",
              "    </tr>\n",
              "    <tr>\n",
              "      <td>xxbos once or twice a year . xxmaj hard to get vacation time from work sometimes . xxmaj but love flying with you guys !</td>\n",
              "      <td>positive</td>\n",
              "      <td>negative</td>\n",
              "    </tr>\n",
              "    <tr>\n",
              "      <td>xxbos shout out to xxmaj xxunk at the xxmaj vegas airport check - in for xxunk us up !</td>\n",
              "      <td>neutral</td>\n",
              "      <td>positive</td>\n",
              "    </tr>\n",
              "    <tr>\n",
              "      <td>xxbos i 'm getting info from the website , but needing to check it and the alerts would be much more xxunk .</td>\n",
              "      <td>neutral</td>\n",
              "      <td>negative</td>\n",
              "    </tr>\n",
              "    <tr>\n",
              "      <td>xxbos sure thing !</td>\n",
              "      <td>neutral</td>\n",
              "      <td>negative</td>\n",
              "    </tr>\n",
              "    <tr>\n",
              "      <td>xxbos # xxunk on - call to in - flight ! xxmaj glad to have been of service !</td>\n",
              "      <td>positive</td>\n",
              "      <td>negative</td>\n",
              "    </tr>\n",
              "    <tr>\n",
              "      <td>xxbos airlines . \\n xxmaj on flight xxup ua xxunk . \\n xxmaj need to make xxup ua xxunk . \\n xxmaj can u hold the plane for us ?</td>\n",
              "      <td>neutral</td>\n",
              "      <td>negative</td>\n",
              "    </tr>\n",
              "    <tr>\n",
              "      <td>xxbos please have your people hold flight 599 from xxmaj phoenix to xxmaj san xxmaj jose . xxmaj we pulling up to the gate ! xxmaj scheduled to depart at xxunk</td>\n",
              "      <td>neutral</td>\n",
              "      <td>negative</td>\n",
              "    </tr>\n",
              "    <tr>\n",
              "      <td>xxbos xxmaj making xxmaj xxunk again ! xxmaj the customer service department gave me by far one of the friendliest phone calls ever . # wheelsup</td>\n",
              "      <td>positive</td>\n",
              "      <td>negative</td>\n",
              "    </tr>\n",
              "    <tr>\n",
              "      <td>xxbos check your dm pls xxpad</td>\n",
              "      <td>neutral</td>\n",
              "      <td>negative</td>\n",
              "    </tr>\n",
              "    <tr>\n",
              "      <td>xxbos xxmaj okay , thank you both . xxpad</td>\n",
              "      <td>neutral</td>\n",
              "      <td>positive</td>\n",
              "    </tr>\n",
              "    <tr>\n",
              "      <td>xxbos hi ! xxmaj could you protect me on xxup us 445 just in case ? xxmaj still on ground with no checked luggage , but still a chance i can make original</td>\n",
              "      <td>neutral</td>\n",
              "      <td>negative</td>\n",
              "    </tr>\n",
              "    <tr>\n",
              "      <td>xxbos xxmaj nice to see you xxunk in xxmaj texas but do n't forget about us here in # xxunk . i would love to see more flights out of here !</td>\n",
              "      <td>neutral</td>\n",
              "      <td>negative</td>\n",
              "    </tr>\n",
              "    <tr>\n",
              "      <td>xxbos no kidding ! xxmaj gon na take some xxunk on the xxunk … xxmaj and there are some good xxunk ' planes out there !</td>\n",
              "      <td>positive</td>\n",
              "      <td>negative</td>\n",
              "    </tr>\n",
              "    <tr>\n",
              "      <td>xxbos has getaway deals through xxmaj may , from $ 59 one - way . xxmaj lots of cool cities http : / / t.co / xxunk # cheapflights # farecompare</td>\n",
              "      <td>positive</td>\n",
              "      <td>neutral</td>\n",
              "    </tr>\n",
              "    <tr>\n",
              "      <td>xxbos so i saw the promo for a - list when i was on a plane this xxmaj monday . i fly two more times in the xxunk period . 1 / 2</td>\n",
              "      <td>neutral</td>\n",
              "      <td>negative</td>\n",
              "    </tr>\n",
              "    <tr>\n",
              "      <td>xxbos i left my son 's xxmaj xxunk xxunk on flight # xxunk last night . xxmaj it says \" xxunk \" on the back . xxmaj any way of xxunk it ? xxmaj thanks in advance ! xxpad</td>\n",
              "      <td>neutral</td>\n",
              "      <td>negative</td>\n",
              "    </tr>\n",
              "    <tr>\n",
              "      <td>xxbos i would love if someone could get me back to xxmaj austin tonight and i do not wish to wait til tomorrow morning .</td>\n",
              "      <td>neutral</td>\n",
              "      <td>negative</td>\n",
              "    </tr>\n",
              "    <tr>\n",
              "      <td>xxbos xxmaj this is what you missed xxunk . xxmaj next trip to the xxunk .</td>\n",
              "      <td>neutral</td>\n",
              "      <td>negative</td>\n",
              "    </tr>\n",
              "    <tr>\n",
              "      <td>xxbos xxunk , thank you for asking . xxpad</td>\n",
              "      <td>neutral</td>\n",
              "      <td>positive</td>\n",
              "    </tr>\n",
              "    <tr>\n",
              "      <td>xxbos are you hiring for flight attendants right now</td>\n",
              "      <td>neutral</td>\n",
              "      <td>negative</td>\n",
              "    </tr>\n",
              "    <tr>\n",
              "      <td>xxbos thanks 😩 . idk if it still xxmaj late xxmaj flight but i hope i get it tonight 😭</td>\n",
              "      <td>positive</td>\n",
              "      <td>negative</td>\n",
              "    </tr>\n",
              "    <tr>\n",
              "      <td>xxbos and that you can choose the same seat for free after clicking 100 xxunk .</td>\n",
              "      <td>neutral</td>\n",
              "      <td>negative</td>\n",
              "    </tr>\n",
              "    <tr>\n",
              "      <td>xxbos is that the \" record locator \" ?</td>\n",
              "      <td>neutral</td>\n",
              "      <td>negative</td>\n",
              "    </tr>\n",
              "    <tr>\n",
              "      <td>xxbos @americanair no , do n't leave me xxrep 3 ! xxpad</td>\n",
              "      <td>neutral</td>\n",
              "      <td>negative</td>\n",
              "    </tr>\n",
              "    <tr>\n",
              "      <td>xxbos xxmaj give xxmaj xxunk &amp; &amp; xxmaj xxunk each a gold star . xxpad</td>\n",
              "      <td>positive</td>\n",
              "      <td>neutral</td>\n",
              "    </tr>\n",
              "    <tr>\n",
              "      <td>xxbos using xxup xxunk xxup jfk - sea for xxmaj summer 2015 . xxmaj it will be my first xxup xxunk flight ever ! xxmaj no xxmaj mint to xxmaj seattle , xxmaj xxunk xxmaj xxunk only . xxpad</td>\n",
              "      <td>neutral</td>\n",
              "      <td>negative</td>\n",
              "    </tr>\n",
              "    <tr>\n",
              "      <td>xxbos xxmaj no snow in xxmaj st . xxmaj louis . xxmaj cold but no snow . xxmaj hub flights welcome .</td>\n",
              "      <td>neutral</td>\n",
              "      <td>negative</td>\n",
              "    </tr>\n",
              "    <tr>\n",
              "      <td>xxbos xxunk ! xxpad</td>\n",
              "      <td>neutral</td>\n",
              "      <td>positive</td>\n",
              "    </tr>\n",
              "    <tr>\n",
              "      <td>xxbos xxunk birthday is the 24th and he 's not seeing xxmaj imagine xxmaj dragons at # destinationdragons ?</td>\n",
              "      <td>negative</td>\n",
              "      <td>neutral</td>\n",
              "    </tr>\n",
              "    <tr>\n",
              "      <td>xxbos xxmaj no xxmaj problem - he was the only person in the airport who would help :)</td>\n",
              "      <td>positive</td>\n",
              "      <td>negative</td>\n",
              "    </tr>\n",
              "    <tr>\n",
              "      <td>xxbos xxunk me to xxunk , # xxup xxunk &amp; &amp; so much more with the # xxunk</td>\n",
              "      <td>neutral</td>\n",
              "      <td>negative</td>\n",
              "    </tr>\n",
              "    <tr>\n",
              "      <td>xxbos i know where you guys jet ! xxup lol , but if you love me so much , help a brother out :) xxmaj hot weather , great xxunk , 2 - 3 hour flight xxpad</td>\n",
              "      <td>neutral</td>\n",
              "      <td>positive</td>\n",
              "    </tr>\n",
              "    <tr>\n",
              "      <td>xxbos i got an email asking me to checkin xxup tmrw for a flight i meant to book for 3 / 19 - can someone please help ! xxunk xxunk</td>\n",
              "      <td>neutral</td>\n",
              "      <td>negative</td>\n",
              "    </tr>\n",
              "    <tr>\n",
              "      <td>xxbos xxunk from c concourse to e and just made it . xxmaj xxunk up a xxunk in the process but am now in xxup clt ! xxmaj tnx !</td>\n",
              "      <td>neutral</td>\n",
              "      <td>negative</td>\n",
              "    </tr>\n",
              "    <tr>\n",
              "      <td>xxbos xxmaj we did n't need this . xxup rt @jetblue : xxmaj our fleet 's on fleek . http : / / t.co / xxunk</td>\n",
              "      <td>negative</td>\n",
              "      <td>neutral</td>\n",
              "    </tr>\n",
              "    <tr>\n",
              "      <td>xxbos xxmaj when xxunk flight , xxunk possible to pay the fare difference in dollars when the ticket was bought completely via point xxunk ?</td>\n",
              "      <td>neutral</td>\n",
              "      <td>negative</td>\n",
              "    </tr>\n",
              "    <tr>\n",
              "      <td>xxbos xxup eta for flight xxunk into xxmaj orlando this morning xxpad</td>\n",
              "      <td>neutral</td>\n",
              "      <td>negative</td>\n",
              "    </tr>\n",
              "    <tr>\n",
              "      <td>xxbos @americanair explain how come i can get a free upgrade on xxup us as an xxunk plat but not exit row seating w / out paying . confused</td>\n",
              "      <td>neutral</td>\n",
              "      <td>negative</td>\n",
              "    </tr>\n",
              "    <tr>\n",
              "      <td>xxbos xxunk xxup xxunk . \" on xxmaj fleek \"</td>\n",
              "      <td>neutral</td>\n",
              "      <td>negative</td>\n",
              "    </tr>\n",
              "    <tr>\n",
              "      <td>xxbos well , thanks for not charging me for switching my two xxmaj cancelled xxmaj flightled flights anyway . xxmaj that was pretty nice . # xxunk</td>\n",
              "      <td>positive</td>\n",
              "      <td>negative</td>\n",
              "    </tr>\n",
              "    <tr>\n",
              "      <td>xxbos xxmaj same exact flight too . xxmaj love jetblue . xxmaj really want to fly with ya'll . xxmaj but that 's a little pricey for basic ( not xxmaj mint ) . xxup bos to xxup sfo . xxpad xxpad xxpad xxpad xxpad xxpad xxpad xxpad xxpad xxpad xxpad xxpad xxpad</td>\n",
              "      <td>positive</td>\n",
              "      <td>negative</td>\n",
              "    </tr>\n",
              "    <tr>\n",
              "      <td>xxbos xxunk xxrep 4 y . xxmaj but i had huge xxunk on way out . xxmaj promise no xxunk ?</td>\n",
              "      <td>neutral</td>\n",
              "      <td>negative</td>\n",
              "    </tr>\n",
              "    <tr>\n",
              "      <td>xxbos does n't take into account the $ xxunk it cost 2 rent a car 2 drive home</td>\n",
              "      <td>neutral</td>\n",
              "      <td>negative</td>\n",
              "    </tr>\n",
              "    <tr>\n",
              "      <td>xxbos xxunk let us know if we can help</td>\n",
              "      <td>neutral</td>\n",
              "      <td>negative</td>\n",
              "    </tr>\n",
              "    <tr>\n",
              "      <td>xxbos xxmaj this is probably the least xxunk airline in the xxmaj xxunk xxmaj xxunk . @united does not xxunk in xxmaj star xxmaj alliance , but xxunk</td>\n",
              "      <td>positive</td>\n",
              "      <td>negative</td>\n",
              "    </tr>\n",
              "    <tr>\n",
              "      <td>xxbos is that xxunk</td>\n",
              "      <td>neutral</td>\n",
              "      <td>negative</td>\n",
              "    </tr>\n",
              "    <tr>\n",
              "      <td>xxbos e xxrep 4 y ! xxmaj cancelled xxmaj flightlations , xxmaj flight xxmaj booking xxmaj problemss , reflight xxmaj booking xxmaj problemss , but y' all got me on the same flight out tonight ( not tomorrow ) &amp; &amp; the xxup fc upgrade . xxmaj thx ! xxpad xxpad xxpad xxpad</td>\n",
              "      <td>positive</td>\n",
              "      <td>negative</td>\n",
              "    </tr>\n",
              "    <tr>\n",
              "      <td>xxbos xxmaj of course you are because that 's your companies job ! xxmaj you guys failed at it in the first place . xxmaj upgrade me and then we 'll talk .</td>\n",
              "      <td>neutral</td>\n",
              "      <td>negative</td>\n",
              "    </tr>\n",
              "    <tr>\n",
              "      <td>xxbos xxunk xxup sfo to xxup bos and no internet it is 2015 what gives ?</td>\n",
              "      <td>negative</td>\n",
              "      <td>neutral</td>\n",
              "    </tr>\n",
              "    <tr>\n",
              "      <td>xxbos xxup us 728 / xxmaj feb 21 . xxmaj ground power xxunk again for the third time . xxmaj xxunk xxmaj xxunk passenger xxunk . xxmaj makes me xxunk . xxmaj xxunk xxunk !</td>\n",
              "      <td>negative</td>\n",
              "      <td>positive</td>\n",
              "    </tr>\n",
              "    <tr>\n",
              "      <td>xxbos yes i do . xxpad</td>\n",
              "      <td>neutral</td>\n",
              "      <td>positive</td>\n",
              "    </tr>\n",
              "    <tr>\n",
              "      <td>xxbos xxmaj my wife &amp; &amp; infant daughter are on xxup xxunk xxup xxunk - dfw . xxmaj en route but delayed . xxmaj can y’ all hold xxup xxunk to xxup rdu so they can connect ? xxpad</td>\n",
              "      <td>negative</td>\n",
              "      <td>neutral</td>\n",
              "    </tr>\n",
              "    <tr>\n",
              "      <td>xxbos just sent another 4 drink coupons … .i think i have over 30 coupons now . free drinks anyone ?</td>\n",
              "      <td>positive</td>\n",
              "      <td>negative</td>\n",
              "    </tr>\n",
              "    <tr>\n",
              "      <td>xxbos xxmaj phone xxpad</td>\n",
              "      <td>neutral</td>\n",
              "      <td>negative</td>\n",
              "    </tr>\n",
              "    <tr>\n",
              "      <td>xxbos xxunk from xxup iad to xxup buf . xxmaj incredibly xxunk , and like a third world xxunk xxunk city metro bus . # xxunk http : / / t.co / xxunk</td>\n",
              "      <td>negative</td>\n",
              "      <td>positive</td>\n",
              "    </tr>\n",
              "    <tr>\n",
              "      <td>xxbos @ladygaga @carrieunderwood - xxmaj xxunk ! xxpad</td>\n",
              "      <td>neutral</td>\n",
              "      <td>positive</td>\n",
              "    </tr>\n",
              "    <tr>\n",
              "      <td>xxbos save mile to visit family in 2015 and this will impact how many times i can see my mother . i planned and you change the rules</td>\n",
              "      <td>positive</td>\n",
              "      <td>neutral</td>\n",
              "    </tr>\n",
              "    <tr>\n",
              "      <td>xxbos xxup ta off site at # xxunk . xxmaj should be a fun day . xxunk xxunk xxunk xxunk xxunk</td>\n",
              "      <td>positive</td>\n",
              "      <td>negative</td>\n",
              "    </tr>\n",
              "    <tr>\n",
              "      <td>xxbos it ca n't be delivered . xxmaj it has to be held there for me to cross the border to pick up . xxmaj please do n't try to deliver .</td>\n",
              "      <td>neutral</td>\n",
              "      <td>negative</td>\n",
              "    </tr>\n",
              "    <tr>\n",
              "      <td>xxbos xxmaj hi guys ! xxmaj are flights xxunk and xxunk still on time ? xxmaj the site and app are both down and i ca n't check . xxmaj thanks !</td>\n",
              "      <td>neutral</td>\n",
              "      <td>negative</td>\n",
              "    </tr>\n",
              "    <tr>\n",
              "      <td>xxbos i would love to go to the xxmaj atlanta show ♥ ️ xxpad</td>\n",
              "      <td>positive</td>\n",
              "      <td>neutral</td>\n",
              "    </tr>\n",
              "    <tr>\n",
              "      <td>xxbos xxmaj xxunk on my flight ? ! ? xxup xxunk # xxunk # xxunk http : / / t.co / xxunk</td>\n",
              "      <td>negative</td>\n",
              "      <td>neutral</td>\n",
              "    </tr>\n",
              "    <tr>\n",
              "      <td>xxbos xxmaj this is the 2nd time i was rebooked ( w / delays ) , and for reasons unrelate xxmaj flightd to weather . xxmaj how do i go about requesting a flight voucher ? xxpad</td>\n",
              "      <td>negative</td>\n",
              "      <td>neutral</td>\n",
              "    </tr>\n",
              "    <tr>\n",
              "      <td>xxbos # redcarpet xxmaj southwest xxmaj companion xxmaj pass would be great ! xxpad</td>\n",
              "      <td>positive</td>\n",
              "      <td>neutral</td>\n",
              "    </tr>\n",
              "    <tr>\n",
              "      <td>xxbos yes , i want to complain . xxmaj your coworker was neither . xxmaj is there a customer service point xxunk ?</td>\n",
              "      <td>neutral</td>\n",
              "      <td>negative</td>\n",
              "    </tr>\n",
              "    <tr>\n",
              "      <td>xxbos we 're all being told by emergency services to stay home for the next 24 - 48 hours .</td>\n",
              "      <td>neutral</td>\n",
              "      <td>negative</td>\n",
              "    </tr>\n",
              "    <tr>\n",
              "      <td>xxbos - it is possible to make a ticket change via xxmaj twitter ? xxmaj traveling internationally and ca n't make calls … xxmaj thanks in advance !</td>\n",
              "      <td>neutral</td>\n",
              "      <td>negative</td>\n",
              "    </tr>\n",
              "    <tr>\n",
              "      <td>xxbos @jetblue , flights 1970 , xxunk , and xxunk will fly over after 1 am on your way into @bostonlogan - mind taking xxunk approach so we can sleep ?</td>\n",
              "      <td>neutral</td>\n",
              "      <td>negative</td>\n",
              "    </tr>\n",
              "    <tr>\n",
              "      <td>xxbos i know that not xxunk on flight can be 1st time flying . xxmaj but in case it is people in front deplane 1st not from the back ? ! ?</td>\n",
              "      <td>neutral</td>\n",
              "      <td>negative</td>\n",
              "    </tr>\n",
              "    <tr>\n",
              "      <td>xxbos today my family gets to experience # mosaic status w / me ! # xxunk</td>\n",
              "      <td>positive</td>\n",
              "      <td>negative</td>\n",
              "    </tr>\n",
              "    <tr>\n",
              "      <td>xxbos flying flight 3130 tonight at 7:20 from xxup pbi- i have boarding position xxup c-42 . xxmaj is it overbooked ? xxmaj really do n't want to be bumped !</td>\n",
              "      <td>neutral</td>\n",
              "      <td>negative</td>\n",
              "    </tr>\n",
              "    <tr>\n",
              "      <td>xxbos xxmaj do you have plans for an ipad app ? xxmaj the iphone app is great , but on the ipad you have to xxunk the ipad . xxmaj is there a xxunk ? xxmaj tks . xxpad</td>\n",
              "      <td>neutral</td>\n",
              "      <td>negative</td>\n",
              "    </tr>\n",
              "    <tr>\n",
              "      <td>xxbos @ladygaga @carrieunderwood xxmaj julie xxmaj andrews . xxmaj hands down . xxpad</td>\n",
              "      <td>neutral</td>\n",
              "      <td>positive</td>\n",
              "    </tr>\n",
              "    <tr>\n",
              "      <td>xxbos so going forward , i should n't be xxmaj flight xxmaj booking xxmaj problems xxmaj star xxmaj alliance flights through the xxmaj united xxmaj app ?</td>\n",
              "      <td>neutral</td>\n",
              "      <td>negative</td>\n",
              "    </tr>\n",
              "    <tr>\n",
              "      <td>xxbos you know what 'd be beyond awesome ? a pair of tickets to the @imaginedragons show in xxup atl . a girl can dream # destinationdragons</td>\n",
              "      <td>positive</td>\n",
              "      <td>neutral</td>\n",
              "    </tr>\n",
              "    <tr>\n",
              "      <td>xxbos xxmaj thanks for asking xxmaj on second plane after maintenance issue , for flight from xxup ord to xxup lit . xxmaj sitting at gate in very very warm plane</td>\n",
              "      <td>positive</td>\n",
              "      <td>negative</td>\n",
              "    </tr>\n",
              "    <tr>\n",
              "      <td>xxbos we are delayed in xxmaj san xxmaj xxunk , xxmaj belize . xxmaj we are scheduled to fly out at 3 pm from xxmaj belize xxmaj city to xxmaj houston . xxmaj will you wait please ? xxpad</td>\n",
              "      <td>negative</td>\n",
              "      <td>neutral</td>\n",
              "    </tr>\n",
              "    <tr>\n",
              "      <td>xxbos @united … do you still have flat tire policy . xxmaj shuttle broke down on way to xxup ord . xxmaj will probably miss the xxunk to xxup cle … help please ! !</td>\n",
              "      <td>neutral</td>\n",
              "      <td>negative</td>\n",
              "    </tr>\n",
              "    <tr>\n",
              "      <td>xxbos xxmaj why is your cover photo of xxup xxunk ? xxmaj just wondering .</td>\n",
              "      <td>neutral</td>\n",
              "      <td>negative</td>\n",
              "    </tr>\n",
              "    <tr>\n",
              "      <td>xxbos it 's never too xxmaj late xxmaj flight to do the right thing</td>\n",
              "      <td>neutral</td>\n",
              "      <td>negative</td>\n",
              "    </tr>\n",
              "    <tr>\n",
              "      <td>xxbos xxmaj thank you . i know ya'll ca n't control the weather . i appreciate ya'll working to get my flight rebooked the last two days .</td>\n",
              "      <td>positive</td>\n",
              "      <td>negative</td>\n",
              "    </tr>\n",
              "    <tr>\n",
              "      <td>xxbos there is a xxunk xxunk it says $ 0 in both bags … no bag allowance at all in international flight ?</td>\n",
              "      <td>neutral</td>\n",
              "      <td>negative</td>\n",
              "    </tr>\n",
              "    <tr>\n",
              "      <td>xxbos can you tell me why flight xxunk from dfw to phl was xxmaj cancelled xxmaj flightled for tomorrow ?</td>\n",
              "      <td>neutral</td>\n",
              "      <td>negative</td>\n",
              "    </tr>\n",
              "    <tr>\n",
              "      <td>xxbos what happened to direct flights from xxup sfo - fll ? xxmaj looking in xxmaj may , only see connecting # help # xxunk</td>\n",
              "      <td>negative</td>\n",
              "      <td>neutral</td>\n",
              "    </tr>\n",
              "    <tr>\n",
              "      <td>xxbos flight was xxmaj cancelled xxmaj flighted . xxmaj do i need to file a claim for the $ 50 credit xxmaj i 'm entitled to per yr bill of rights , or will it just be issued ?</td>\n",
              "      <td>negative</td>\n",
              "      <td>neutral</td>\n",
              "    </tr>\n",
              "    <tr>\n",
              "      <td>xxbos big shoutout to the crews on xxunk xxmaj bos &gt; jfk &amp; &amp; xxunk jfk &gt; roc , &amp; &amp; gate crews at xxunk xxmaj bos &amp; &amp; 6 jfk . xxmaj long day of delays made better by them ! xxpad xxpad xxpad xxpad xxpad xxpad xxpad xxpad xxpad xxpad xxpad</td>\n",
              "      <td>positive</td>\n",
              "      <td>negative</td>\n",
              "    </tr>\n",
              "    <tr>\n",
              "      <td>xxbos + xxup ua has been xxunk out improvements too , we think . xxmaj hoping they 'll catch up soon ? xxmaj meantime , xxup ana is our xxunk !</td>\n",
              "      <td>neutral</td>\n",
              "      <td>negative</td>\n",
              "    </tr>\n",
              "    <tr>\n",
              "      <td>xxbos will award me 50 , xxrep 3 0 air miles xxrep 3 ! xxmaj yes i am going to take a vacation ! \\n▁ # xxunk</td>\n",
              "      <td>positive</td>\n",
              "      <td>neutral</td>\n",
              "    </tr>\n",
              "    <tr>\n",
              "      <td>xxbos my flight to xxup dfw from xxup lit on my way to xxup pdx tomorrow was xxmaj cancelled xxmaj flighted . xxmaj can you help me ?</td>\n",
              "      <td>neutral</td>\n",
              "      <td>negative</td>\n",
              "    </tr>\n",
              "    <tr>\n",
              "      <td>xxbos thanks for getting me rescheduled on a direct flight to xxup nola tonight in 10 minutes -- and hopefully an hour earlier getting there !</td>\n",
              "      <td>positive</td>\n",
              "      <td>negative</td>\n",
              "    </tr>\n",
              "    <tr>\n",
              "      <td>xxbos xxunk he is traveling with me on a xxunk reservation number xxunk</td>\n",
              "      <td>neutral</td>\n",
              "      <td>negative</td>\n",
              "    </tr>\n",
              "    <tr>\n",
              "      <td>xxbos xxup sea to xxup den . xxmaj south xxmaj sound xxmaj xxunk team on its way ! http : / / t.co / xxunk m</td>\n",
              "      <td>positive</td>\n",
              "      <td>neutral</td>\n",
              "    </tr>\n",
              "  </tbody>\n",
              "</table>"
            ],
            "text/plain": [
              "<IPython.core.display.HTML object>"
            ]
          },
          "metadata": {
            "tags": []
          }
        }
      ]
    },
    {
      "cell_type": "markdown",
      "metadata": {
        "id": "aYMbZsRoej8X"
      },
      "source": [
        "In order to know if we are getting a good performance, we can compare our model training to a benchmark. We can use the IMDB dataset from fastai and see if we get a similar performance or not. "
      ]
    },
    {
      "cell_type": "code",
      "metadata": {
        "id": "XGRIJ2VSej8Y",
        "outputId": "1f59af21-841a-414b-a52e-1c41fa617a37",
        "colab": {
          "base_uri": "https://localhost:8080/",
          "height": 17
        }
      },
      "source": [
        "path = untar_data(URLs.IMDB_SAMPLE)\n",
        "imdb = pd.read_csv(path/'texts.csv')"
      ],
      "execution_count": null,
      "outputs": [
        {
          "output_type": "display_data",
          "data": {
            "text/html": [
              ""
            ],
            "text/plain": [
              "<IPython.core.display.HTML object>"
            ]
          },
          "metadata": {
            "tags": []
          }
        }
      ]
    },
    {
      "cell_type": "code",
      "metadata": {
        "id": "Ad9-8DJGej8c",
        "outputId": "19bb67b7-55ac-443d-a796-670658b8dae7",
        "colab": {
          "base_uri": "https://localhost:8080/",
          "height": 595
        }
      },
      "source": [
        "imdb.head()"
      ],
      "execution_count": null,
      "outputs": [
        {
          "output_type": "execute_result",
          "data": {
            "text/html": [
              "<div>\n",
              "<style scoped>\n",
              "    .dataframe tbody tr th:only-of-type {\n",
              "        vertical-align: middle;\n",
              "    }\n",
              "\n",
              "    .dataframe tbody tr th {\n",
              "        vertical-align: top;\n",
              "    }\n",
              "\n",
              "    .dataframe thead th {\n",
              "        text-align: right;\n",
              "    }\n",
              "</style>\n",
              "<table border=\"1\" class=\"dataframe\">\n",
              "  <thead>\n",
              "    <tr style=\"text-align: right;\">\n",
              "      <th></th>\n",
              "      <th>label</th>\n",
              "      <th>text</th>\n",
              "      <th>is_valid</th>\n",
              "    </tr>\n",
              "  </thead>\n",
              "  <tbody>\n",
              "    <tr>\n",
              "      <th>0</th>\n",
              "      <td>negative</td>\n",
              "      <td>Un-bleeping-believable! Meg Ryan doesn't even look her usual pert lovable self in this, which normally makes me forgive her shallow ticky acting schtick. Hard to believe she was the producer on this dog. Plus Kevin Kline: what kind of suicide trip has his career been on? Whoosh... Banzai!!! Finally this was directed by the guy who did Big Chill? Must be a replay of Jonestown - hollywood style. Wooofff!</td>\n",
              "      <td>False</td>\n",
              "    </tr>\n",
              "    <tr>\n",
              "      <th>1</th>\n",
              "      <td>positive</td>\n",
              "      <td>This is a extremely well-made film. The acting, script and camera-work are all first-rate. The music is good, too, though it is mostly early in the film, when things are still relatively cheery. There are no really superstars in the cast, though several faces will be familiar. The entire cast does an excellent job with the script.&lt;br /&gt;&lt;br /&gt;But it is hard to watch, because there is no good end to a situation like the one presented. It is now fashionable to blame the British for setting Hindus and Muslims against each other, and then cruelly separating them into two countries. There is som...</td>\n",
              "      <td>False</td>\n",
              "    </tr>\n",
              "    <tr>\n",
              "      <th>2</th>\n",
              "      <td>negative</td>\n",
              "      <td>Every once in a long while a movie will come along that will be so awful that I feel compelled to warn people. If I labor all my days and I can save but one soul from watching this movie, how great will be my joy.&lt;br /&gt;&lt;br /&gt;Where to begin my discussion of pain. For starters, there was a musical montage every five minutes. There was no character development. Every character was a stereotype. We had swearing guy, fat guy who eats donuts, goofy foreign guy, etc. The script felt as if it were being written as the movie was being shot. The production value was so incredibly low that it felt li...</td>\n",
              "      <td>False</td>\n",
              "    </tr>\n",
              "    <tr>\n",
              "      <th>3</th>\n",
              "      <td>positive</td>\n",
              "      <td>Name just says it all. I watched this movie with my dad when it came out and having served in Korea he had great admiration for the man. The disappointing thing about this film is that it only concentrate on a short period of the man's life - interestingly enough the man's entire life would have made such an epic bio-pic that it is staggering to imagine the cost for production.&lt;br /&gt;&lt;br /&gt;Some posters elude to the flawed characteristics about the man, which are cheap shots. The theme of the movie \"Duty, Honor, Country\" are not just mere words blathered from the lips of a high-brassed offic...</td>\n",
              "      <td>False</td>\n",
              "    </tr>\n",
              "    <tr>\n",
              "      <th>4</th>\n",
              "      <td>negative</td>\n",
              "      <td>This movie succeeds at being one of the most unique movies you've seen. However this comes from the fact that you can't make heads or tails of this mess. It almost seems as a series of challenges set up to determine whether or not you are willing to walk out of the movie and give up the money you just paid. If you don't want to feel slighted you'll sit through this horrible film and develop a real sense of pity for the actors involved, they've all seen better days, but then you realize they actually got paid quite a bit of money to do this and you'll lose pity for them just like you've alr...</td>\n",
              "      <td>False</td>\n",
              "    </tr>\n",
              "  </tbody>\n",
              "</table>\n",
              "</div>"
            ],
            "text/plain": [
              "      label  ... is_valid\n",
              "0  negative  ...    False\n",
              "1  positive  ...    False\n",
              "2  negative  ...    False\n",
              "3  positive  ...    False\n",
              "4  negative  ...    False\n",
              "\n",
              "[5 rows x 3 columns]"
            ]
          },
          "metadata": {
            "tags": []
          },
          "execution_count": 4
        }
      ]
    },
    {
      "cell_type": "code",
      "metadata": {
        "id": "TeMwmtO-ej8e",
        "outputId": "e2bb5a20-6e26-4dcc-f2f5-02c05bacbc22",
        "colab": {
          "base_uri": "https://localhost:8080/",
          "height": 17
        }
      },
      "source": [
        "imdb_cls  = TextDataLoaders.from_df(imdb, text_col='text', label_col='label')\n",
        "imdb_lm = TextDataLoaders.from_df(imdb, text_col='text', is_lm=True)"
      ],
      "execution_count": null,
      "outputs": [
        {
          "output_type": "display_data",
          "data": {
            "text/html": [
              ""
            ],
            "text/plain": [
              "<IPython.core.display.HTML object>"
            ]
          },
          "metadata": {
            "tags": []
          }
        },
        {
          "output_type": "display_data",
          "data": {
            "text/html": [
              ""
            ],
            "text/plain": [
              "<IPython.core.display.HTML object>"
            ]
          },
          "metadata": {
            "tags": []
          }
        }
      ]
    },
    {
      "cell_type": "markdown",
      "metadata": {
        "id": "5JoDJQ3Jej8x"
      },
      "source": [
        "We can compare how similar are the features of both datasets, for example we can check how many words does any review contain compared to how many words do the tweets contain."
      ]
    },
    {
      "cell_type": "code",
      "metadata": {
        "scrolled": true,
        "id": "ZudMWr7-ej8z",
        "outputId": "eabbc71c-d345-4b3f-c472-6742c75f00a8"
      },
      "source": [
        "pd.concat([tweets.text[:1000].apply(lambda s: len(s.split())),\n",
        "           imdb.text.apply(lambda s: len(s.split()))],\n",
        "           axis=1,\n",
        "           keys=['tweets', 'imdb']).plot.hist(alpha=0.4, bins = 500, xlim=(0,400)) "
      ],
      "execution_count": null,
      "outputs": [
        {
          "output_type": "execute_result",
          "data": {
            "text/plain": [
              "<matplotlib.axes._subplots.AxesSubplot at 0x1a5f4df850>"
            ]
          },
          "metadata": {
            "tags": []
          },
          "execution_count": 263
        },
        {
          "output_type": "display_data",
          "data": {
            "image/png": "[encoded data removed]",
            "text/plain": [
              "<Figure size 432x288 with 1 Axes>"
            ]
          },
          "metadata": {
            "tags": [],
            "needs_background": "light"
          }
        }
      ]
    },
    {
      "cell_type": "markdown",
      "metadata": {
        "id": "Ap6XXZbIdUGD"
      },
      "source": [
        "So we can check the words per tweet or the words per review:"
      ]
    },
    {
      "cell_type": "code",
      "metadata": {
        "id": "xXSMRSC9Y6WW",
        "outputId": "0951d136-f369-4278-b727-c8d8746cdda9",
        "colab": {
          "base_uri": "https://localhost:8080/"
        }
      },
      "source": [
        "tweets.text.apply(lambda s: len(s.split())).mean(), imdb.text.apply(lambda s: len(s.split())).mean()"
      ],
      "execution_count": null,
      "outputs": [
        {
          "output_type": "execute_result",
          "data": {
            "text/plain": [
              "(17.65341530054645, 247.797)"
            ]
          },
          "metadata": {
            "tags": []
          },
          "execution_count": 90
        }
      ]
    },
    {
      "cell_type": "markdown",
      "metadata": {
        "id": "k7iwkQQpdbiM"
      },
      "source": [
        "Eventhough the words per tweet are much less, the total amount of words is almost teh same:"
      ]
    },
    {
      "cell_type": "code",
      "metadata": {
        "id": "cjAPNwA7Zl04",
        "outputId": "116e2e4b-e582-4cef-c53d-1f6470ed820b",
        "colab": {
          "base_uri": "https://localhost:8080/"
        }
      },
      "source": [
        "tweets.text.apply(lambda s: len(s.split())).sum(), imdb.text.apply(lambda s: len(s.split())).sum()"
      ],
      "execution_count": null,
      "outputs": [
        {
          "output_type": "execute_result",
          "data": {
            "text/plain": [
              "(258446, 247797)"
            ]
          },
          "metadata": {
            "tags": []
          },
          "execution_count": 92
        }
      ]
    },
    {
      "cell_type": "code",
      "metadata": {
        "id": "4BW_kcO8Zxc-",
        "outputId": "96de00b1-6319-4cbb-fd28-5b141cfe64d6",
        "colab": {
          "base_uri": "https://localhost:8080/"
        }
      },
      "source": [
        "258446/247797"
      ],
      "execution_count": null,
      "outputs": [
        {
          "output_type": "execute_result",
          "data": {
            "text/plain": [
              "1.042974692994669"
            ]
          },
          "metadata": {
            "tags": []
          },
          "execution_count": 93
        }
      ]
    },
    {
      "cell_type": "code",
      "metadata": {
        "id": "hG5PrZ--ej81",
        "outputId": "9197a461-c06f-4499-af26-dfebf76b5155"
      },
      "source": [
        "tweets.text.apply(lambda s: len(s.split())).hist(bins=60)"
      ],
      "execution_count": null,
      "outputs": [
        {
          "output_type": "execute_result",
          "data": {
            "text/plain": [
              "<matplotlib.axes._subplots.AxesSubplot at 0x1a5e2ad5d0>"
            ]
          },
          "metadata": {
            "tags": []
          },
          "execution_count": 258
        },
        {
          "output_type": "display_data",
          "data": {
            "image/png": "[encoded data removed]",
            "text/plain": [
              "<Figure size 432x288 with 1 Axes>"
            ]
          },
          "metadata": {
            "tags": [],
            "needs_background": "light"
          }
        }
      ]
    },
    {
      "cell_type": "code",
      "metadata": {
        "scrolled": true,
        "id": "GiTqUpe6ej83",
        "outputId": "72a1134a-a4d9-445c-a2a6-5e685b026935"
      },
      "source": [
        "imdb.text.apply(lambda s: len(s.split())).hist(bins=60)"
      ],
      "execution_count": null,
      "outputs": [
        {
          "output_type": "execute_result",
          "data": {
            "text/plain": [
              "<matplotlib.axes._subplots.AxesSubplot at 0x1a5adefd50>"
            ]
          },
          "metadata": {
            "tags": []
          },
          "execution_count": 254
        },
        {
          "output_type": "display_data",
          "data": {
            "image/png": "[encoded data removed]",
            "text/plain": [
              "<Figure size 432x288 with 1 Axes>"
            ]
          },
          "metadata": {
            "tags": [],
            "needs_background": "light"
          }
        }
      ]
    },
    {
      "cell_type": "markdown",
      "metadata": {
        "id": "DPTvDez3ej85"
      },
      "source": [
        "As we can see the reviews are in general much bigger than the tweets, something that is already expected but can influence the performance of the training."
      ]
    },
    {
      "cell_type": "markdown",
      "metadata": {
        "id": "fiT3AlVWej9H"
      },
      "source": [
        "Another thing to analyze is the vocabs, is the vocab from `imdb` much bigger than from the `tweets`?"
      ]
    },
    {
      "cell_type": "code",
      "metadata": {
        "id": "J-w_Rt7iej9H",
        "outputId": "ef788386-59b1-430e-c86b-fda4d3e54744"
      },
      "source": [
        "len(lm_dls.vocab), len(imdb_lm.vocab)"
      ],
      "execution_count": null,
      "outputs": [
        {
          "output_type": "execute_result",
          "data": {
            "text/plain": [
              "(4688, 7080)"
            ]
          },
          "metadata": {
            "tags": []
          },
          "execution_count": 265
        }
      ]
    },
    {
      "cell_type": "markdown",
      "metadata": {
        "id": "BJv9-rCPej9N"
      },
      "source": [
        "As we can see the vocab of `imdb` is almost the double as the vocab for the `tweets`, therefore it could be that the language model for the `imdb` performs better."
      ]
    },
    {
      "cell_type": "markdown",
      "metadata": {
        "id": "eFWMWas2ej9N"
      },
      "source": [
        "In order to simplify things, I will just define a function that does everything we have done so far:"
      ]
    },
    {
      "cell_type": "code",
      "metadata": {
        "id": "Iwoyoaz-ej9N"
      },
      "source": [
        "def complete_training(lm_dls, cl_dls, cbs=None):\n",
        "\n",
        "    if cbs==None:\n",
        "        cbs = [\n",
        "              ShowGraphCallback,\n",
        "              ActivationStats,\n",
        "              SaveModelCallback\n",
        "            ]\n",
        "\n",
        "    learner = language_model_learner(lm_dls, AWD_LSTM, cbs = cbs,  metrics=[accuracy])\n",
        "    # TRY CHANGING drop_mult, to see if there is an effect in training small datasets\n",
        "    learn = text_classifier_learner(cl_dls, AWD_LSTM, drop_mult=0.5, cbs=cbs, metrics=accuracy).to_fp16()\n",
        "\n",
        "    # ----  TRAIN THE LANGUAGE MODEL  ----\n",
        "    learner.fit_one_cycle(10, 2e-2)\n",
        "    # learner.save('language_model')\n",
        "    learner.save_encoder('finetuned')\n",
        "\n",
        "    # ----  TRAIN THE CLASSIFIER  ----\n",
        "    learn = learn.load_encoder('finetuned')\n",
        "    learn.fit_one_cycle(12,  2e-3)\n",
        "\n",
        "    # REFINING 1\n",
        "    learn.freeze_to(-2)\n",
        "    learn.fit_one_cycle(5, slice(1e-2/(2.6**4),1e-2))\n",
        "\n",
        "    # REFINING 2\n",
        "    learn.freeze_to(-3)\n",
        "    learn.fit_one_cycle(3, slice(5e-3/(2.6**4),5e-3))\n",
        "\n",
        "    # REFINING 3\n",
        "    learn.unfreeze()\n",
        "    learn.fit_one_cycle(2, slice(1e-3/(2.6**4),1e-3))\n",
        "\n",
        "    learner.remove_cb(ShowGraphCallback)\n",
        "    learn.remove_cb(ShowGraphCallback)\n",
        "\n",
        "    return learner, learn"
      ],
      "execution_count": null,
      "outputs": []
    },
    {
      "cell_type": "code",
      "metadata": {
        "id": "W1K5jCcDej9P"
      },
      "source": [
        "learner_imdb, learn_imdb = complete_training(imdb_lm, imdb_cls)"
      ],
      "execution_count": null,
      "outputs": []
    },
    {
      "cell_type": "code",
      "metadata": {
        "id": "kWgfs_gFej9V",
        "outputId": "bea90885-935c-4e76-cdfe-63cf4e715126"
      },
      "source": [
        "torch.randint(400, (64,72))"
      ],
      "execution_count": null,
      "outputs": [
        {
          "output_type": "execute_result",
          "data": {
            "text/plain": [
              "tensor([[ 34, 353, 223,  ..., 204,  97, 246],\n",
              "        [371, 355,  64,  ..., 210, 394, 190],\n",
              "        [268,  82, 281,  ..., 370, 350, 348],\n",
              "        ...,\n",
              "        [ 56, 309, 146,  ...,  43, 213, 121],\n",
              "        [ 88, 364, 168,  ...,  75, 320, 198],\n",
              "        [327, 242, 151,  ...,  60, 224, 179]])"
            ]
          },
          "metadata": {
            "tags": []
          },
          "execution_count": 196
        }
      ]
    },
    {
      "cell_type": "code",
      "metadata": {
        "id": "_HuttuQVej9X",
        "outputId": "387b4136-0ef5-4c08-98cc-2c739f6ec1bf"
      },
      "source": [
        "text_data.one_batch()[0].size()"
      ],
      "execution_count": null,
      "outputs": [
        {
          "output_type": "execute_result",
          "data": {
            "text/plain": [
              "torch.Size([64, 72])"
            ]
          },
          "metadata": {
            "tags": []
          },
          "execution_count": 188
        }
      ]
    }
  ]
}